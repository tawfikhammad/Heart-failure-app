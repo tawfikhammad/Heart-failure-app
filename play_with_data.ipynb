{
 "cells": [
  {
   "cell_type": "code",
   "execution_count": 85,
   "id": "104e9a0e",
   "metadata": {},
   "outputs": [],
   "source": [
    "import pandas as pd\n",
    "from imblearn.over_sampling import SMOTE\n",
    "from sklearn.preprocessing import OneHotEncoder, StandardScaler\n",
    "from sklearn.compose import ColumnTransformer"
   ]
  },
  {
   "cell_type": "code",
   "execution_count": 86,
   "id": "63264293",
   "metadata": {},
   "outputs": [
    {
     "data": {
      "application/vnd.microsoft.datawrangler.viewer.v0+json": {
       "columns": [
        {
         "name": "index",
         "rawType": "int64",
         "type": "integer"
        },
        {
         "name": "Age",
         "rawType": "int64",
         "type": "integer"
        },
        {
         "name": "Sex",
         "rawType": "object",
         "type": "string"
        },
        {
         "name": "ChestPainType",
         "rawType": "object",
         "type": "string"
        },
        {
         "name": "RestingBP",
         "rawType": "int64",
         "type": "integer"
        },
        {
         "name": "Cholesterol",
         "rawType": "int64",
         "type": "integer"
        },
        {
         "name": "FastingBS",
         "rawType": "int64",
         "type": "integer"
        },
        {
         "name": "RestingECG",
         "rawType": "object",
         "type": "string"
        },
        {
         "name": "MaxHR",
         "rawType": "int64",
         "type": "integer"
        },
        {
         "name": "ExerciseAngina",
         "rawType": "object",
         "type": "string"
        },
        {
         "name": "Oldpeak",
         "rawType": "float64",
         "type": "float"
        },
        {
         "name": "ST_Slope",
         "rawType": "object",
         "type": "string"
        },
        {
         "name": "HeartDisease",
         "rawType": "int64",
         "type": "integer"
        }
       ],
       "conversionMethod": "pd.DataFrame",
       "ref": "590b3a92-ae8d-428c-9aba-b45e4f19805e",
       "rows": [
        [
         "0",
         "40",
         "M",
         "ATA",
         "140",
         "289",
         "0",
         "Normal",
         "172",
         "N",
         "0.0",
         "Up",
         "0"
        ],
        [
         "1",
         "49",
         "F",
         "NAP",
         "160",
         "180",
         "0",
         "Normal",
         "156",
         "N",
         "1.0",
         "Flat",
         "1"
        ],
        [
         "2",
         "37",
         "M",
         "ATA",
         "130",
         "283",
         "0",
         "ST",
         "98",
         "N",
         "0.0",
         "Up",
         "0"
        ],
        [
         "3",
         "48",
         "F",
         "ASY",
         "138",
         "214",
         "0",
         "Normal",
         "108",
         "Y",
         "1.5",
         "Flat",
         "1"
        ],
        [
         "4",
         "54",
         "M",
         "NAP",
         "150",
         "195",
         "0",
         "Normal",
         "122",
         "N",
         "0.0",
         "Up",
         "0"
        ]
       ],
       "shape": {
        "columns": 12,
        "rows": 5
       }
      },
      "text/html": [
       "<div>\n",
       "<style scoped>\n",
       "    .dataframe tbody tr th:only-of-type {\n",
       "        vertical-align: middle;\n",
       "    }\n",
       "\n",
       "    .dataframe tbody tr th {\n",
       "        vertical-align: top;\n",
       "    }\n",
       "\n",
       "    .dataframe thead th {\n",
       "        text-align: right;\n",
       "    }\n",
       "</style>\n",
       "<table border=\"1\" class=\"dataframe\">\n",
       "  <thead>\n",
       "    <tr style=\"text-align: right;\">\n",
       "      <th></th>\n",
       "      <th>Age</th>\n",
       "      <th>Sex</th>\n",
       "      <th>ChestPainType</th>\n",
       "      <th>RestingBP</th>\n",
       "      <th>Cholesterol</th>\n",
       "      <th>FastingBS</th>\n",
       "      <th>RestingECG</th>\n",
       "      <th>MaxHR</th>\n",
       "      <th>ExerciseAngina</th>\n",
       "      <th>Oldpeak</th>\n",
       "      <th>ST_Slope</th>\n",
       "      <th>HeartDisease</th>\n",
       "    </tr>\n",
       "  </thead>\n",
       "  <tbody>\n",
       "    <tr>\n",
       "      <th>0</th>\n",
       "      <td>40</td>\n",
       "      <td>M</td>\n",
       "      <td>ATA</td>\n",
       "      <td>140</td>\n",
       "      <td>289</td>\n",
       "      <td>0</td>\n",
       "      <td>Normal</td>\n",
       "      <td>172</td>\n",
       "      <td>N</td>\n",
       "      <td>0.0</td>\n",
       "      <td>Up</td>\n",
       "      <td>0</td>\n",
       "    </tr>\n",
       "    <tr>\n",
       "      <th>1</th>\n",
       "      <td>49</td>\n",
       "      <td>F</td>\n",
       "      <td>NAP</td>\n",
       "      <td>160</td>\n",
       "      <td>180</td>\n",
       "      <td>0</td>\n",
       "      <td>Normal</td>\n",
       "      <td>156</td>\n",
       "      <td>N</td>\n",
       "      <td>1.0</td>\n",
       "      <td>Flat</td>\n",
       "      <td>1</td>\n",
       "    </tr>\n",
       "    <tr>\n",
       "      <th>2</th>\n",
       "      <td>37</td>\n",
       "      <td>M</td>\n",
       "      <td>ATA</td>\n",
       "      <td>130</td>\n",
       "      <td>283</td>\n",
       "      <td>0</td>\n",
       "      <td>ST</td>\n",
       "      <td>98</td>\n",
       "      <td>N</td>\n",
       "      <td>0.0</td>\n",
       "      <td>Up</td>\n",
       "      <td>0</td>\n",
       "    </tr>\n",
       "    <tr>\n",
       "      <th>3</th>\n",
       "      <td>48</td>\n",
       "      <td>F</td>\n",
       "      <td>ASY</td>\n",
       "      <td>138</td>\n",
       "      <td>214</td>\n",
       "      <td>0</td>\n",
       "      <td>Normal</td>\n",
       "      <td>108</td>\n",
       "      <td>Y</td>\n",
       "      <td>1.5</td>\n",
       "      <td>Flat</td>\n",
       "      <td>1</td>\n",
       "    </tr>\n",
       "    <tr>\n",
       "      <th>4</th>\n",
       "      <td>54</td>\n",
       "      <td>M</td>\n",
       "      <td>NAP</td>\n",
       "      <td>150</td>\n",
       "      <td>195</td>\n",
       "      <td>0</td>\n",
       "      <td>Normal</td>\n",
       "      <td>122</td>\n",
       "      <td>N</td>\n",
       "      <td>0.0</td>\n",
       "      <td>Up</td>\n",
       "      <td>0</td>\n",
       "    </tr>\n",
       "  </tbody>\n",
       "</table>\n",
       "</div>"
      ],
      "text/plain": [
       "   Age Sex ChestPainType  RestingBP  Cholesterol  FastingBS RestingECG  MaxHR  \\\n",
       "0   40   M           ATA        140          289          0     Normal    172   \n",
       "1   49   F           NAP        160          180          0     Normal    156   \n",
       "2   37   M           ATA        130          283          0         ST     98   \n",
       "3   48   F           ASY        138          214          0     Normal    108   \n",
       "4   54   M           NAP        150          195          0     Normal    122   \n",
       "\n",
       "  ExerciseAngina  Oldpeak ST_Slope  HeartDisease  \n",
       "0              N      0.0       Up             0  \n",
       "1              N      1.0     Flat             1  \n",
       "2              N      0.0       Up             0  \n",
       "3              Y      1.5     Flat             1  \n",
       "4              N      0.0       Up             0  "
      ]
     },
     "execution_count": 86,
     "metadata": {},
     "output_type": "execute_result"
    }
   ],
   "source": [
    "dataframe = pd.read_csv('heart.csv')\n",
    "df = dataframe.copy()\n",
    "df.head()"
   ]
  },
  {
   "cell_type": "code",
   "execution_count": 87,
   "id": "78b9c90b",
   "metadata": {},
   "outputs": [],
   "source": [
    "categorical_features = ['Sex', 'ChestPainType', 'RestingECG', 'ExerciseAngina', 'ST_Slope']\n",
    "numeric_features = ['Age', 'RestingBP', 'FastingBS', 'Cholesterol', 'MaxHR', 'Oldpeak']"
   ]
  },
  {
   "cell_type": "code",
   "execution_count": 88,
   "id": "b0c29193",
   "metadata": {},
   "outputs": [],
   "source": [
    "preprocessor = ColumnTransformer(\n",
    "    transformers=[\n",
    "        ('num', StandardScaler(), numeric_features),\n",
    "        ('cat', OneHotEncoder(), categorical_features)\n",
    "    ])"
   ]
  },
  {
   "cell_type": "code",
   "execution_count": 89,
   "id": "94a6fadb",
   "metadata": {},
   "outputs": [],
   "source": [
    "X = df.drop('HeartDisease', axis=1)\n",
    "y = df['HeartDisease']\n",
    "X_processed = preprocessor.fit_transform(X)"
   ]
  },
  {
   "cell_type": "code",
   "execution_count": 90,
   "id": "304a38fd",
   "metadata": {},
   "outputs": [],
   "source": [
    "smote = SMOTE(random_state=42)\n",
    "X_resampled, y_resampled = smote.fit_resample(X_processed, y)"
   ]
  },
  {
   "cell_type": "code",
   "execution_count": 91,
   "id": "3ab6ab6e",
   "metadata": {},
   "outputs": [],
   "source": [
    "additional_rows = 2000\n",
    "\n",
    "if additional_rows > 0:\n",
    "    smote = SMOTE(sampling_strategy={1: y.value_counts()[0] + additional_rows}, random_state=42)\n",
    "    X_resampled, y_resampled = smote.fit_resample(X_processed, y)"
   ]
  },
  {
   "cell_type": "code",
   "execution_count": 92,
   "id": "17a86aee",
   "metadata": {},
   "outputs": [],
   "source": [
    "import numpy as np\n",
    "def inverse_transform(preprocessor, X_transformed, original_df):\n",
    "    # Get feature names after transformation\n",
    "    num_features = numeric_features\n",
    "    cat_features = preprocessor.named_transformers_['cat'].get_feature_names_out(categorical_features)\n",
    "    all_features = np.concatenate([num_features, cat_features])\n",
    "    \n",
    "    # Create DataFrame with transformed data\n",
    "    df_transformed = pd.DataFrame(X_transformed, columns=all_features)\n",
    "    \n",
    "    # Inverse transform numerical features\n",
    "    num_scaler = preprocessor.named_transformers_['num']\n",
    "    df_transformed[num_features] = num_scaler.inverse_transform(df_transformed[num_features])\n",
    "    \n",
    "    # Inverse transform categorical features\n",
    "    encoder = preprocessor.named_transformers_['cat']\n",
    "    cat_columns = encoder.get_feature_names_out(categorical_features)\n",
    "    cat_values = encoder.inverse_transform(df_transformed[cat_columns])\n",
    "    \n",
    "    # Create final DataFrame\n",
    "    df_final = pd.DataFrame({\n",
    "        'Age': df_transformed['Age'].round().astype(int),\n",
    "        'Sex': cat_values[:, 0],\n",
    "        'ChestPainType': cat_values[:, 1],\n",
    "        'RestingBP': df_transformed['RestingBP'].round().astype(int),\n",
    "        'Cholesterol': df_transformed['Cholesterol'].round().astype(int),\n",
    "        'FastingBS': df_transformed['FastingBS'].round().astype(int).clip(0, 1),  # Ensure binary\n",
    "        'RestingECG': cat_values[:, 2],\n",
    "        'MaxHR': df_transformed['MaxHR'].round().astype(int),\n",
    "        'ExerciseAngina': cat_values[:, 3],\n",
    "        'Oldpeak': df_transformed['Oldpeak'].round(1),\n",
    "        'ST_Slope': cat_values[:, 4],\n",
    "        'HeartDisease': y_resampled\n",
    "    })\n",
    "    \n",
    "    return df_final\n",
    "\n",
    "# Get the expanded data in original format\n",
    "expanded_df = inverse_transform(preprocessor, X_resampled, df)"
   ]
  },
  {
   "cell_type": "code",
   "execution_count": 93,
   "id": "9ee4ca60",
   "metadata": {},
   "outputs": [
    {
     "data": {
      "text/plain": [
       "(2820, 12)"
      ]
     },
     "execution_count": 93,
     "metadata": {},
     "output_type": "execute_result"
    }
   ],
   "source": [
    "expanded_df.shape"
   ]
  },
  {
   "cell_type": "code",
   "execution_count": 94,
   "id": "1c19609e",
   "metadata": {},
   "outputs": [],
   "source": [
    "expanded_df.to_csv('heart_expanded.csv', index=False)"
   ]
  },
  {
   "cell_type": "markdown",
   "id": "ac48181b",
   "metadata": {},
   "source": [
    "## -----------"
   ]
  },
  {
   "cell_type": "code",
   "execution_count": null,
   "id": "ab65ff6d",
   "metadata": {},
   "outputs": [
    {
     "name": "stderr",
     "output_type": "stream",
     "text": [
      "C:\\Users\\tawfi\\AppData\\Local\\Temp\\ipykernel_23184\\2260943680.py:17: FutureWarning: Setting an item of incompatible dtype is deprecated and will raise an error in a future version of pandas. Value '['570' '600' '450' '59 years' '59 yr' '48 y' '42' '68 years' '53' '60'\n",
      " '51 y' '51 years' '53 years' '62 years' '66 y' '37' '60 years' '60' '54'\n",
      " '48 yr' '57' '54 years' '41 yr' '61' '55' '490' '560' '59' '64'\n",
      " '54 years' '60 years' '66' '56' '590' '66 year' '580' '530' '57 years'\n",
      " '61 years' '58 y' '62 years' '38 y' '51' '69 year' '52' '500' '63'\n",
      " '62 years' '600' '53' '59' '68' '470' '62 year' '59 years' '54 years'\n",
      " '55 years' '470' '70' '570' '65 year' '47 y' '560' '59' '59 years' '500'\n",
      " '56' '730' '590' '58 years' '59 y' '60 y' '58' '71' '630' '60 y' '50 yr'\n",
      " '730' '580' '620' '56' '670' '51 years' '54 yr' '61 y' '32 years' '690'\n",
      " '52' '55' '58' '420' '54 years' '380' '75' '56 year' '61 y' '59 years'\n",
      " '50 yr' '64' '400' '62' '610' '53 years' '55 years' '55 yr' '61' '71'\n",
      " '56' '560' '64' '50' '60 years' '650' '63' '57' '44 years' '570'\n",
      " '66 years' '56 y' '53' '670' '58 years' '600' '55' '48 year' '61' '570'\n",
      " '520' '61' '50' '52 y' '51 years' '38 years' '60' '620' '59' '56 yr' '51'\n",
      " '42 year' '44 year' '63' '46 yr' '470' '550' '590' '48 years' '56 years'\n",
      " '52 years' '64' '550' '700' '52 yr' '380' '59 yr' '54' '50' '61 years'\n",
      " '60' '40 years' '500' '38 years' '410' '510' '48 years' '57' '38' '46 y'\n",
      " '62 y' '53 y' '680' '62 years' '48' '510' '43' '550' '46' '57 years'\n",
      " '62 years' '610' '58' '54 year' '39 years' '600' '48 y' '52 years'\n",
      " '43 years' '550' '39' '570' '48' '71' '63 years' '37' '69 years'\n",
      " '61 years' '56 years' '62 years' '50 year' '60 years' '54' '54 years'\n",
      " '64' '56 y' '63 years' '39' '43 yr' '66' '52 years' '570' '52 years'\n",
      " '63 years' '51 years' '61 years' '51 y' '44' '630' '57 yr' '390' '38'\n",
      " '43' '430' '31' '57' '630' '53 years' '62' '65 years' '53' '40' '46' '63'\n",
      " '560' '59 years' '48' '57' '60 year' '650' '61' '66' '580' '46 year' '61'\n",
      " '330' '65 years' '53 years' '52 y' '60 yr' '54 y' '63 yr' '59 years' '47'\n",
      " '670' '57' '44 year' '54' '51 year' '65 yr' '58 y' '60 year' '70'\n",
      " '50 years' '46 year' '410' '53 years' '50' '65' '660' '64' '530' '590'\n",
      " '61 yr' '530' '62 years' '54 y' '660' '65' '410' '45 years' '570' '51'\n",
      " '450' '59 y']' has dtype incompatible with int64, please explicitly cast to a compatible dtype first.\n",
      "  corrupted_df.loc[sample_indices, 'Age'] = corrupted_df.loc[sample_indices, 'Age'].apply(random_age_format)\n",
      "C:\\Users\\tawfi\\AppData\\Local\\Temp\\ipykernel_23184\\2260943680.py:34: FutureWarning: Setting an item of incompatible dtype is deprecated and will raise an error in a future version of pandas. Value '['NaN', 'NaN', 'NaN', '??', '', '##', '', 'NaN', 'null', 'NaN', '##', 'null', nan, nan, 'null', 'undefined', nan, 'null', '##', '##', '', '##', 'NaN', 'undefined', 'NaN', 'undefined', 'null', '', 'NaN', 'null', '??', nan, 'NaN', '??', 'NaN', 'null', nan, '##', 'null', '', '', '##', '', 'NaN', nan, 'null', '', '', '', 'NaN', nan, '', nan, 'undefined', '##', 'NaN', '', '##', nan, 'NaN', 'null', nan, 'null', nan, 'undefined', 'NaN', 'NaN', 'NaN', 'NaN', '??', 'NaN', 'undefined', 'undefined', nan, '??', '??', 'null', '??', '??', 'NaN', 'NaN', '##', 'NaN', 'null', '??', 'NaN', 'null', '', nan, 'undefined', '##', '??', 'undefined', '??', '??', '??', '##', 'null', nan, 'NaN', nan, 'undefined', 'null', '', 'null', '??', 'null', 'null', '??', 'undefined', '??', nan, 'undefined', 'null', 'undefined', '', nan, nan, 'undefined', '##', 'null', 'null', '', 'NaN', nan, 'undefined', '##', '', '##', nan, 'null', 'null', 'undefined', 'undefined', '', 'NaN', 'null', '', '', '##', 'null', nan, '??', nan]' has dtype incompatible with int64, please explicitly cast to a compatible dtype first.\n",
      "  corrupted_df.loc[sample_indices, col] = [choice(missing_values) for _ in range(len(sample_indices))]\n",
      "C:\\Users\\tawfi\\AppData\\Local\\Temp\\ipykernel_23184\\2260943680.py:34: FutureWarning: Setting an item of incompatible dtype is deprecated and will raise an error in a future version of pandas. Value '['NaN', 'NaN', 'NaN', nan, '', '', '', 'undefined', '', nan, '##', '', '##', '##', 'NaN', '??', 'NaN', 'null', '', 'NaN', '', nan, '', '##', '##', '##', 'null', nan, '??', 'null', nan, '##', 'undefined', '??', '??', '', '', '##', '??', '##', 'NaN', 'null', '??', nan, '##', '##', '', nan, '??', 'NaN', '', '', '', 'null', '##', 'NaN', '', 'undefined', '##', 'null', '', 'undefined', 'undefined', '??', '??', 'undefined', '??', 'undefined', '??', 'null', 'undefined', '', nan, 'NaN', nan, '??', '', '##', 'NaN', '##', 'undefined', '', '', '??', '##', 'null', 'null', 'NaN', '??', 'undefined', 'NaN', 'null', nan, 'undefined', 'undefined', nan, 'null', 'undefined', '##', '##', '##', 'undefined', 'undefined', nan, 'null', 'undefined', 'NaN', '', 'null', nan, 'NaN', '??', '', '??', 'undefined', '', '##', nan, '', 'null', '??', 'NaN', '', 'undefined', 'NaN', '??', 'NaN', nan, 'NaN', 'null', '??', '##', '??', '##', 'null', '??', nan, nan, '', '', '', 'NaN', '', '##']' has dtype incompatible with int64, please explicitly cast to a compatible dtype first.\n",
      "  corrupted_df.loc[sample_indices, col] = [choice(missing_values) for _ in range(len(sample_indices))]\n"
     ]
    }
   ],
   "source": [
    "from random import choice, randint, random\n",
    "\n",
    "def corrupt_data(df):\n",
    "    \n",
    "    corrupted_df = df.copy()\n",
    "\n",
    "    def random_age_format(age):\n",
    "        formats = [\n",
    "            lambda x: f\"{x} years\",\n",
    "            lambda x: f\"{x}\",\n",
    "            lambda x: str(x * 10),\n",
    "            lambda x: f\"{x} \" + choice([\"year\", \"yr\", \"y\", \"years\"])\n",
    "        ]\n",
    "        return choice(formats)(age)\n",
    "\n",
    "    sample_indices = corrupted_df.sample(frac=0.1, random_state=42).index\n",
    "    corrupted_df.loc[sample_indices, 'Age'] = corrupted_df.loc[sample_indices, 'Age'].apply(random_age_format)\n",
    "    \n",
    "    # change data types\n",
    "    corrupted_df['Age'] = corrupted_df['Age'].astype(str)\n",
    "    corrupted_df['RestingBP'] = corrupted_df['RestingBP'].astype(str)\n",
    "    \n",
    "    duplicated_rows = corrupted_df.sample(n=50)\n",
    "    corrupted_df = pd.concat([corrupted_df, duplicated_rows], ignore_index=True)\n",
    "    \n",
    "    sample_indices = corrupted_df.sample(frac=0.4, random_state=42).index\n",
    "    corrupted_df.loc[sample_indices, 'Sex'] = corrupted_df.loc[sample_indices, 'Sex'].map({'M': 'Male', 'F': 'Female'})\n",
    "    corrupted_df.loc[sample_indices, 'ExerciseAngina'] = corrupted_df.loc[sample_indices, 'ExerciseAngina'].map({'Y': 'Yes', 'N': 'No'})\n",
    "    corrupted_df['ExerciseAngina'] = corrupted_df['ExerciseAngina'].map({'Y': 'Yes', 'N': 'No'})\n",
    "\n",
    "    missing_values = [\"null\", \"undefined\", \"##\", \"??\", np.nan, \"\", \"NaN\"]\n",
    "    \n",
    "    for col in ['RestingBP', 'Cholesterol', 'MaxHR', 'Sex']:\n",
    "        sample_indices = corrupted_df.sample(frac=0.05).index\n",
    "        corrupted_df.loc[sample_indices, col] = [choice(missing_values) for _ in range(len(sample_indices))]\n",
    "    \n",
    "    return corrupted_df\n",
    "\n",
    "corrupted_data = corrupt_data(expanded_df)\n"
   ]
  },
  {
   "cell_type": "code",
   "execution_count": 96,
   "id": "9bf5982c",
   "metadata": {},
   "outputs": [],
   "source": [
    "corrupted_data.to_csv('heart_corrupted.csv', index=False)"
   ]
  }
 ],
 "metadata": {
  "kernelspec": {
   "display_name": "clgenv",
   "language": "python",
   "name": "python3"
  },
  "language_info": {
   "codemirror_mode": {
    "name": "ipython",
    "version": 3
   },
   "file_extension": ".py",
   "mimetype": "text/x-python",
   "name": "python",
   "nbconvert_exporter": "python",
   "pygments_lexer": "ipython3",
   "version": "3.13.3"
  }
 },
 "nbformat": 4,
 "nbformat_minor": 5
}
