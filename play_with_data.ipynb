{
 "cells": [
  {
   "cell_type": "code",
   "execution_count": 3,
   "id": "104e9a0e",
   "metadata": {},
   "outputs": [],
   "source": [
    "import pandas as pd\n",
    "from imblearn.over_sampling import SMOTE\n",
    "from sklearn.preprocessing import OneHotEncoder, StandardScaler\n",
    "from sklearn.compose import ColumnTransformer"
   ]
  },
  {
   "cell_type": "code",
   "execution_count": 4,
   "id": "63264293",
   "metadata": {},
   "outputs": [
    {
     "data": {
      "application/vnd.microsoft.datawrangler.viewer.v0+json": {
       "columns": [
        {
         "name": "index",
         "rawType": "int64",
         "type": "integer"
        },
        {
         "name": "Age",
         "rawType": "int64",
         "type": "integer"
        },
        {
         "name": "Sex",
         "rawType": "object",
         "type": "string"
        },
        {
         "name": "ChestPainType",
         "rawType": "object",
         "type": "string"
        },
        {
         "name": "RestingBP",
         "rawType": "int64",
         "type": "integer"
        },
        {
         "name": "Cholesterol",
         "rawType": "int64",
         "type": "integer"
        },
        {
         "name": "FastingBS",
         "rawType": "int64",
         "type": "integer"
        },
        {
         "name": "RestingECG",
         "rawType": "object",
         "type": "string"
        },
        {
         "name": "MaxHR",
         "rawType": "int64",
         "type": "integer"
        },
        {
         "name": "ExerciseAngina",
         "rawType": "object",
         "type": "string"
        },
        {
         "name": "Oldpeak",
         "rawType": "float64",
         "type": "float"
        },
        {
         "name": "ST_Slope",
         "rawType": "object",
         "type": "string"
        },
        {
         "name": "HeartDisease",
         "rawType": "int64",
         "type": "integer"
        }
       ],
       "conversionMethod": "pd.DataFrame",
       "ref": "70393c2c-df35-40e6-8ee0-8b0f3e1aa7d5",
       "rows": [
        [
         "0",
         "40",
         "M",
         "ATA",
         "140",
         "289",
         "0",
         "Normal",
         "172",
         "N",
         "0.0",
         "Up",
         "0"
        ],
        [
         "1",
         "49",
         "F",
         "NAP",
         "160",
         "180",
         "0",
         "Normal",
         "156",
         "N",
         "1.0",
         "Flat",
         "1"
        ],
        [
         "2",
         "37",
         "M",
         "ATA",
         "130",
         "283",
         "0",
         "ST",
         "98",
         "N",
         "0.0",
         "Up",
         "0"
        ],
        [
         "3",
         "48",
         "F",
         "ASY",
         "138",
         "214",
         "0",
         "Normal",
         "108",
         "Y",
         "1.5",
         "Flat",
         "1"
        ],
        [
         "4",
         "54",
         "M",
         "NAP",
         "150",
         "195",
         "0",
         "Normal",
         "122",
         "N",
         "0.0",
         "Up",
         "0"
        ]
       ],
       "shape": {
        "columns": 12,
        "rows": 5
       }
      },
      "text/html": [
       "<div>\n",
       "<style scoped>\n",
       "    .dataframe tbody tr th:only-of-type {\n",
       "        vertical-align: middle;\n",
       "    }\n",
       "\n",
       "    .dataframe tbody tr th {\n",
       "        vertical-align: top;\n",
       "    }\n",
       "\n",
       "    .dataframe thead th {\n",
       "        text-align: right;\n",
       "    }\n",
       "</style>\n",
       "<table border=\"1\" class=\"dataframe\">\n",
       "  <thead>\n",
       "    <tr style=\"text-align: right;\">\n",
       "      <th></th>\n",
       "      <th>Age</th>\n",
       "      <th>Sex</th>\n",
       "      <th>ChestPainType</th>\n",
       "      <th>RestingBP</th>\n",
       "      <th>Cholesterol</th>\n",
       "      <th>FastingBS</th>\n",
       "      <th>RestingECG</th>\n",
       "      <th>MaxHR</th>\n",
       "      <th>ExerciseAngina</th>\n",
       "      <th>Oldpeak</th>\n",
       "      <th>ST_Slope</th>\n",
       "      <th>HeartDisease</th>\n",
       "    </tr>\n",
       "  </thead>\n",
       "  <tbody>\n",
       "    <tr>\n",
       "      <th>0</th>\n",
       "      <td>40</td>\n",
       "      <td>M</td>\n",
       "      <td>ATA</td>\n",
       "      <td>140</td>\n",
       "      <td>289</td>\n",
       "      <td>0</td>\n",
       "      <td>Normal</td>\n",
       "      <td>172</td>\n",
       "      <td>N</td>\n",
       "      <td>0.0</td>\n",
       "      <td>Up</td>\n",
       "      <td>0</td>\n",
       "    </tr>\n",
       "    <tr>\n",
       "      <th>1</th>\n",
       "      <td>49</td>\n",
       "      <td>F</td>\n",
       "      <td>NAP</td>\n",
       "      <td>160</td>\n",
       "      <td>180</td>\n",
       "      <td>0</td>\n",
       "      <td>Normal</td>\n",
       "      <td>156</td>\n",
       "      <td>N</td>\n",
       "      <td>1.0</td>\n",
       "      <td>Flat</td>\n",
       "      <td>1</td>\n",
       "    </tr>\n",
       "    <tr>\n",
       "      <th>2</th>\n",
       "      <td>37</td>\n",
       "      <td>M</td>\n",
       "      <td>ATA</td>\n",
       "      <td>130</td>\n",
       "      <td>283</td>\n",
       "      <td>0</td>\n",
       "      <td>ST</td>\n",
       "      <td>98</td>\n",
       "      <td>N</td>\n",
       "      <td>0.0</td>\n",
       "      <td>Up</td>\n",
       "      <td>0</td>\n",
       "    </tr>\n",
       "    <tr>\n",
       "      <th>3</th>\n",
       "      <td>48</td>\n",
       "      <td>F</td>\n",
       "      <td>ASY</td>\n",
       "      <td>138</td>\n",
       "      <td>214</td>\n",
       "      <td>0</td>\n",
       "      <td>Normal</td>\n",
       "      <td>108</td>\n",
       "      <td>Y</td>\n",
       "      <td>1.5</td>\n",
       "      <td>Flat</td>\n",
       "      <td>1</td>\n",
       "    </tr>\n",
       "    <tr>\n",
       "      <th>4</th>\n",
       "      <td>54</td>\n",
       "      <td>M</td>\n",
       "      <td>NAP</td>\n",
       "      <td>150</td>\n",
       "      <td>195</td>\n",
       "      <td>0</td>\n",
       "      <td>Normal</td>\n",
       "      <td>122</td>\n",
       "      <td>N</td>\n",
       "      <td>0.0</td>\n",
       "      <td>Up</td>\n",
       "      <td>0</td>\n",
       "    </tr>\n",
       "  </tbody>\n",
       "</table>\n",
       "</div>"
      ],
      "text/plain": [
       "   Age Sex ChestPainType  RestingBP  Cholesterol  FastingBS RestingECG  MaxHR  \\\n",
       "0   40   M           ATA        140          289          0     Normal    172   \n",
       "1   49   F           NAP        160          180          0     Normal    156   \n",
       "2   37   M           ATA        130          283          0         ST     98   \n",
       "3   48   F           ASY        138          214          0     Normal    108   \n",
       "4   54   M           NAP        150          195          0     Normal    122   \n",
       "\n",
       "  ExerciseAngina  Oldpeak ST_Slope  HeartDisease  \n",
       "0              N      0.0       Up             0  \n",
       "1              N      1.0     Flat             1  \n",
       "2              N      0.0       Up             0  \n",
       "3              Y      1.5     Flat             1  \n",
       "4              N      0.0       Up             0  "
      ]
     },
     "execution_count": 4,
     "metadata": {},
     "output_type": "execute_result"
    }
   ],
   "source": [
    "dataframe = pd.read_csv('heart.csv')\n",
    "df = dataframe.copy()\n",
    "df.head()"
   ]
  },
  {
   "cell_type": "code",
   "execution_count": 5,
   "id": "78b9c90b",
   "metadata": {},
   "outputs": [],
   "source": [
    "categorical_features = ['Sex', 'ChestPainType', 'RestingECG', 'ExerciseAngina', 'ST_Slope']\n",
    "numeric_features = ['Age', 'RestingBP', 'FastingBS', 'Cholesterol', 'MaxHR', 'Oldpeak']"
   ]
  },
  {
   "cell_type": "code",
   "execution_count": 6,
   "id": "b0c29193",
   "metadata": {},
   "outputs": [],
   "source": [
    "preprocessor = ColumnTransformer(\n",
    "    transformers=[\n",
    "        ('num', StandardScaler(), numeric_features),\n",
    "        ('cat', OneHotEncoder(), categorical_features)\n",
    "    ])"
   ]
  },
  {
   "cell_type": "code",
   "execution_count": 7,
   "id": "94a6fadb",
   "metadata": {},
   "outputs": [],
   "source": [
    "X = df.drop('HeartDisease', axis=1)\n",
    "y = df['HeartDisease']\n",
    "X_processed = preprocessor.fit_transform(X)"
   ]
  },
  {
   "cell_type": "code",
   "execution_count": 8,
   "id": "304a38fd",
   "metadata": {},
   "outputs": [],
   "source": [
    "smote = SMOTE(random_state=42)\n",
    "X_resampled, y_resampled = smote.fit_resample(X_processed, y)"
   ]
  },
  {
   "cell_type": "code",
   "execution_count": 9,
   "id": "3ab6ab6e",
   "metadata": {},
   "outputs": [],
   "source": [
    "additional_rows = 2000\n",
    "\n",
    "if additional_rows > 0:\n",
    "    smote = SMOTE(sampling_strategy={1: y.value_counts()[0] + additional_rows}, random_state=42)\n",
    "    X_resampled, y_resampled = smote.fit_resample(X_processed, y)"
   ]
  },
  {
   "cell_type": "code",
   "execution_count": 10,
   "id": "17a86aee",
   "metadata": {},
   "outputs": [],
   "source": [
    "import numpy as np\n",
    "def inverse_transform(preprocessor, X_transformed, original_df):\n",
    "    # Get feature names after transformation\n",
    "    num_features = numeric_features\n",
    "    cat_features = preprocessor.named_transformers_['cat'].get_feature_names_out(categorical_features)\n",
    "    all_features = np.concatenate([num_features, cat_features])\n",
    "    \n",
    "    # Create DataFrame with transformed data\n",
    "    df_transformed = pd.DataFrame(X_transformed, columns=all_features)\n",
    "    \n",
    "    # Inverse transform numerical features\n",
    "    num_scaler = preprocessor.named_transformers_['num']\n",
    "    df_transformed[num_features] = num_scaler.inverse_transform(df_transformed[num_features])\n",
    "    \n",
    "    # Inverse transform categorical features\n",
    "    encoder = preprocessor.named_transformers_['cat']\n",
    "    cat_columns = encoder.get_feature_names_out(categorical_features)\n",
    "    cat_values = encoder.inverse_transform(df_transformed[cat_columns])\n",
    "    \n",
    "    # Create final DataFrame\n",
    "    df_final = pd.DataFrame({\n",
    "        'Age': df_transformed['Age'].round().astype(int),\n",
    "        'Sex': cat_values[:, 0],\n",
    "        'ChestPainType': cat_values[:, 1],\n",
    "        'RestingBP': df_transformed['RestingBP'].round().astype(int),\n",
    "        'Cholesterol': df_transformed['Cholesterol'].round().astype(int),\n",
    "        'FastingBS': df_transformed['FastingBS'].round().astype(int).clip(0, 1),  # Ensure binary\n",
    "        'RestingECG': cat_values[:, 2],\n",
    "        'MaxHR': df_transformed['MaxHR'].round().astype(int),\n",
    "        'ExerciseAngina': cat_values[:, 3],\n",
    "        'Oldpeak': df_transformed['Oldpeak'].round(1),\n",
    "        'ST_Slope': cat_values[:, 4],\n",
    "        'HeartDisease': y_resampled\n",
    "    })\n",
    "    \n",
    "    return df_final\n",
    "\n",
    "# Get the expanded data in original format\n",
    "expanded_df = inverse_transform(preprocessor, X_resampled, df)"
   ]
  },
  {
   "cell_type": "code",
   "execution_count": 11,
   "id": "9ee4ca60",
   "metadata": {},
   "outputs": [
    {
     "data": {
      "text/plain": [
       "(2820, 12)"
      ]
     },
     "execution_count": 11,
     "metadata": {},
     "output_type": "execute_result"
    }
   ],
   "source": [
    "expanded_df.shape"
   ]
  },
  {
   "cell_type": "code",
   "execution_count": 12,
   "id": "1c19609e",
   "metadata": {},
   "outputs": [],
   "source": [
    "expanded_df.to_csv('heart_expanded.csv', index=False)"
   ]
  },
  {
   "cell_type": "markdown",
   "id": "ac48181b",
   "metadata": {},
   "source": [
    "## -----------"
   ]
  },
  {
   "cell_type": "code",
   "execution_count": 13,
   "id": "ab65ff6d",
   "metadata": {},
   "outputs": [
    {
     "name": "stderr",
     "output_type": "stream",
     "text": [
      "C:\\Users\\tawfi\\AppData\\Local\\Temp\\ipykernel_4180\\3344877231.py:17: FutureWarning: Setting an item of incompatible dtype is deprecated and will raise an error in a future version of pandas. Value '['57 years' '60 years' '45' '59' '59 yr' '480' '42 years' '68 years'\n",
      " '53 year' '60 year' '51 years' '51 years' '53' '62' '66 years' '37 years'\n",
      " '600' '60 years' '54 years' '48' '57 years' '54 years' '410' '61'\n",
      " '55 years' '490' '56 years' '59' '64 years' '54 years' '60 years' '660'\n",
      " '56 y' '59' '66 years' '58' '53 years' '57 years' '61' '58' '62 years'\n",
      " '38 years' '51' '69 years' '52 years' '50 years' '630' '62 years'\n",
      " '60 years' '53 y' '59 years' '68' '47' '62 years' '59 y' '54' '55 years'\n",
      " '470' '70 years' '57' '65 years' '470' '560' '590' '59' '50 y' '56 year'\n",
      " '73' '590' '58 years' '59' '60 y' '58 years' '710' '630' '60 yr' '50 y'\n",
      " '73 years' '580' '620' '56' '67' '51' '54 years' '61' '32' '69' '52'\n",
      " '55 years' '580' '42 y' '54' '380' '750' '560' '61' '59 years' '50' '640'\n",
      " '400' '62' '61 yr' '53' '55 years' '55 years' '61' '71 years' '560'\n",
      " '56 yr' '64 years' '50 years' '60 yr' '65 years' '630' '57 years'\n",
      " '44 years' '570' '66 y' '56' '53 years' '670' '58 years' '600' '550'\n",
      " '480' '610' '57 years' '52' '610' '50' '520' '510' '38' '60 years' '62'\n",
      " '59' '56 yr' '51 years' '420' '44' '63' '46 years' '47' '55 yr' '590'\n",
      " '48' '56 year' '52 years' '64' '55' '70' '52 y' '38 y' '590' '54' '500'\n",
      " '61 year' '60' '40 years' '50' '380' '41' '51 y' '48' '57' '38 y' '460'\n",
      " '62' '53' '68 yr' '62 years' '48' '510' '43' '55 yr' '46 yr' '57 years'\n",
      " '62 year' '61 y' '58 years' '54' '39 yr' '600' '480' '52' '43 year' '55'\n",
      " '39 years' '57 years' '48 y' '710' '63 year' '37 y' '69' '61 years'\n",
      " '56 years' '62' '500' '60' '54 years' '54' '640' '56' '63' '39 year'\n",
      " '430' '660' '520' '570' '52 y' '63' '51 years' '61 years' '510'\n",
      " '44 years' '630' '57 y' '39' '38' '43 years' '43 years' '310' '57' '63'\n",
      " '53 yr' '62' '650' '53 yr' '400' '46' '630' '56 years' '590' '48 year'\n",
      " '57 year' '600' '650' '610' '66 yr' '58 years' '46 yr' '61 y' '330'\n",
      " '65 y' '53 years' '52 y' '60' '54 years' '63 years' '59' '470' '67'\n",
      " '57 year' '44 year' '54' '51 y' '65' '58' '600' '700' '50' '46' '41 year'\n",
      " '53 y' '500' '65' '66 years' '64' '53' '590' '61' '53 years' '62 yr'\n",
      " '54 y' '66 years' '650' '41 year' '45' '570' '51 year' '45' '59 years']' has dtype incompatible with int32, please explicitly cast to a compatible dtype first.\n",
      "  corrupted_df.loc[sample_indices, 'Age'] = corrupted_df.loc[sample_indices, 'Age'].apply(random_age_format)\n",
      "C:\\Users\\tawfi\\AppData\\Local\\Temp\\ipykernel_4180\\3344877231.py:35: FutureWarning: Setting an item of incompatible dtype is deprecated and will raise an error in a future version of pandas. Value '['undefined', '??', 'undefined', 'NaN', 'null', nan, 'null', nan, 'NaN', '', '', '##', '##', nan, 'null', '', '', '##', 'undefined', nan, 'null', '##', nan, 'NaN', '??', 'undefined', 'null', '', '', 'NaN', nan, nan, '??', 'undefined', 'undefined', '##', 'null', 'undefined', '??', 'null', nan, '##', 'null', 'undefined', '??', '##', 'null', 'null', '??', '??', '##', '??', 'NaN', '??', '??', '##', 'undefined', 'null', 'null', '##', '##', '##', 'NaN', 'null', nan, nan, '', '??', nan, 'undefined', '', '??', '', '', '##', 'NaN', 'null', 'null', nan, 'undefined', 'NaN', 'null', 'null', '', '??', 'null', nan, '??', 'NaN', 'null', 'NaN', nan, '??', 'NaN', '', 'NaN', '??', '##', '', nan, 'undefined', '', nan, '??', '??', 'null', 'undefined', '##', 'NaN', '##', nan, '', 'null', nan, nan, nan, nan, 'NaN', 'null', 'null', '##', '??', 'undefined', 'undefined', '##', 'undefined', 'null', nan, 'NaN', '##', '??', 'null', '??', 'NaN', 'null', '##', '', '??', '', 'null', '??', 'null', 'NaN', 'NaN']' has dtype incompatible with int32, please explicitly cast to a compatible dtype first.\n",
      "  corrupted_df.loc[sample_indices, col] = [choice(missing_values) for _ in range(len(sample_indices))]\n",
      "C:\\Users\\tawfi\\AppData\\Local\\Temp\\ipykernel_4180\\3344877231.py:35: FutureWarning: Setting an item of incompatible dtype is deprecated and will raise an error in a future version of pandas. Value '['??', 'NaN', 'NaN', '??', '##', '', '??', '##', 'null', '', 'NaN', '', '##', nan, '??', '##', nan, '??', '??', 'undefined', nan, nan, 'undefined', 'null', 'NaN', '##', 'undefined', 'undefined', 'null', 'undefined', '??', '', 'NaN', nan, '##', nan, nan, 'undefined', '', '??', '##', '??', 'NaN', nan, 'NaN', 'undefined', '', 'undefined', nan, 'undefined', '##', 'undefined', 'null', 'null', 'NaN', '??', '??', 'null', 'NaN', '', '??', 'null', '', '??', '', '', '', 'null', '##', 'null', 'undefined', nan, '', '##', '', nan, '##', 'undefined', '##', nan, 'undefined', '??', nan, 'NaN', '??', '', '##', '##', nan, 'NaN', '', nan, '', '##', '##', 'undefined', 'undefined', '', 'null', 'null', '??', nan, nan, '##', '??', 'null', nan, 'null', nan, 'NaN', 'undefined', '??', '', nan, 'undefined', 'null', 'undefined', 'null', 'NaN', 'null', '', '##', '##', nan, 'NaN', '??', 'null', '##', '##', '##', 'NaN', '##', '', 'NaN', '??', 'NaN', '??', 'null', 'undefined', nan, '??', 'null', '', '##']' has dtype incompatible with int32, please explicitly cast to a compatible dtype first.\n",
      "  corrupted_df.loc[sample_indices, col] = [choice(missing_values) for _ in range(len(sample_indices))]\n"
     ]
    }
   ],
   "source": [
    "from random import choice, randint, random\n",
    "\n",
    "def corrupt_data(df):\n",
    "    \n",
    "    corrupted_df = df.copy()\n",
    "\n",
    "    def random_age_format(age):\n",
    "        formats = [\n",
    "            lambda x: f\"{x} years\",\n",
    "            lambda x: f\"{x}\",\n",
    "            lambda x: str(x * 10),\n",
    "            lambda x: f\"{x} \" + choice([\"year\", \"yr\", \"y\", \"years\"])\n",
    "        ]\n",
    "        return choice(formats)(age)\n",
    "\n",
    "    sample_indices = corrupted_df.sample(frac=0.1, random_state=42).index\n",
    "    corrupted_df.loc[sample_indices, 'Age'] = corrupted_df.loc[sample_indices, 'Age'].apply(random_age_format)\n",
    "    \n",
    "    # change data types\n",
    "    corrupted_df['Age'] = corrupted_df['Age'].astype(str)\n",
    "    corrupted_df['RestingBP'] = corrupted_df['RestingBP'].astype(str)\n",
    "    \n",
    "    duplicated_rows = corrupted_df.sample(n=50)\n",
    "    corrupted_df = pd.concat([corrupted_df, duplicated_rows], ignore_index=True)\n",
    "    \n",
    "    sample_indices = corrupted_df.sample(frac=0.4, random_state=42).index\n",
    "    corrupted_df.loc[sample_indices, 'Sex'] = corrupted_df.loc[sample_indices, 'Sex'].map({'M': 'Male', 'F': 'Female'})\n",
    "    corrupted_df.loc[sample_indices, 'ExerciseAngina'] = corrupted_df.loc[sample_indices, 'ExerciseAngina'].map({'Y': 'Yes', 'N': 'No'})\n",
    "    corrupted_df['ExerciseAngina'] = corrupted_df['ExerciseAngina'].map({'Y': 'Yes', 'N': 'No'})\n",
    "\n",
    "    missing_values = [\"null\", \"undefined\", \"##\", \"??\", np.nan, \"\", \"NaN\"]\n",
    "    \n",
    "    for col in ['RestingBP', 'Cholesterol', 'MaxHR', 'Sex']:\n",
    "        sample_indices = corrupted_df.sample(frac=0.05).index\n",
    "        corrupted_df.loc[sample_indices, col] = [choice(missing_values) for _ in range(len(sample_indices))]\n",
    "    \n",
    "    return corrupted_df\n",
    "\n",
    "corrupted_data = corrupt_data(expanded_df)\n"
   ]
  },
  {
   "cell_type": "code",
   "execution_count": 14,
   "id": "9bf5982c",
   "metadata": {},
   "outputs": [],
   "source": [
    "corrupted_data.to_csv('heart_corrupted.csv', index=False)"
   ]
  }
 ],
 "metadata": {
  "kernelspec": {
   "display_name": "clgenv",
   "language": "python",
   "name": "python3"
  },
  "language_info": {
   "codemirror_mode": {
    "name": "ipython",
    "version": 3
   },
   "file_extension": ".py",
   "mimetype": "text/x-python",
   "name": "python",
   "nbconvert_exporter": "python",
   "pygments_lexer": "ipython3",
   "version": "3.11.11"
  }
 },
 "nbformat": 4,
 "nbformat_minor": 5
}
