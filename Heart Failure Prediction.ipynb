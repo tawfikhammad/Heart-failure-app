{
 "cells": [
  {
   "cell_type": "markdown",
   "metadata": {},
   "source": [
    "## Import Libraries"
   ]
  },
  {
   "cell_type": "code",
   "execution_count": 82,
   "metadata": {},
   "outputs": [],
   "source": [
    "import joblib\n",
    "import pandas as pd\n",
    "import numpy as np\n",
    "import matplotlib.pyplot as plt\n",
    "import seaborn as sns\n",
    "import plotly.express as px\n",
    "from plotly.subplots import make_subplots\n",
    "from sklearn.preprocessing import MinMaxScaler , LabelEncoder\n",
    "from sklearn.model_selection import train_test_split , cross_val_score\n",
    "from sklearn.linear_model import LogisticRegression\n",
    "from sklearn.ensemble import RandomForestClassifier , GradientBoostingClassifier , BaggingClassifier\n",
    "from sklearn.svm import SVC\n",
    "from sklearn.tree import DecisionTreeClassifier\n",
    "from sklearn.neighbors import KNeighborsClassifier\n",
    "from xgboost import XGBClassifier\n",
    "from sklearn.metrics import  ConfusionMatrixDisplay, classification_report\n",
    "\n",
    "import warnings\n",
    "warnings.filterwarnings('ignore')"
   ]
  },
  {
   "cell_type": "markdown",
   "metadata": {},
   "source": [
    "## Reading Dataset And Get Info\n"
   ]
  },
  {
   "cell_type": "code",
   "execution_count": 146,
   "metadata": {},
   "outputs": [
    {
     "data": {
      "application/vnd.microsoft.datawrangler.viewer.v0+json": {
       "columns": [
        {
         "name": "index",
         "rawType": "int64",
         "type": "integer"
        },
        {
         "name": "Age",
         "rawType": "object",
         "type": "string"
        },
        {
         "name": "Sex",
         "rawType": "object",
         "type": "unknown"
        },
        {
         "name": "ChestPainType",
         "rawType": "object",
         "type": "string"
        },
        {
         "name": "RestingBP",
         "rawType": "object",
         "type": "string"
        },
        {
         "name": "Cholesterol",
         "rawType": "object",
         "type": "string"
        },
        {
         "name": "FastingBS",
         "rawType": "int64",
         "type": "integer"
        },
        {
         "name": "RestingECG",
         "rawType": "object",
         "type": "string"
        },
        {
         "name": "MaxHR",
         "rawType": "object",
         "type": "string"
        },
        {
         "name": "ExerciseAngina",
         "rawType": "object",
         "type": "string"
        },
        {
         "name": "Oldpeak",
         "rawType": "float64",
         "type": "float"
        },
        {
         "name": "ST_Slope",
         "rawType": "object",
         "type": "string"
        },
        {
         "name": "HeartDisease",
         "rawType": "int64",
         "type": "integer"
        }
       ],
       "conversionMethod": "pd.DataFrame",
       "ref": "e9528e3a-34a2-4974-b091-86735eae6c95",
       "rows": [
        [
         "252",
         "61",
         "Male",
         "ASY",
         "125",
         "undefined",
         "0",
         "ST",
         "115",
         "Yes",
         "0.0",
         "Up",
         "0"
        ],
        [
         "145",
         "39",
         null,
         "ASY",
         "110",
         "273",
         "0",
         "Normal",
         "132",
         "N",
         "0.0",
         "Up",
         "0"
        ],
        [
         "696",
         "35",
         "M",
         "ASY",
         "##",
         "198",
         "0",
         "Normal",
         "130",
         "Y",
         "1.6",
         "Flat",
         "1"
        ],
        [
         "580",
         "51",
         "M",
         "ASY",
         "131",
         "152",
         "1",
         "LVH",
         "130",
         "Y",
         "1.0",
         "Flat",
         "1"
        ],
        [
         "810",
         "55",
         "Female",
         "ATA",
         "135",
         "250",
         "0",
         "LVH",
         "161",
         "No",
         "1.4",
         "Flat",
         "0"
        ]
       ],
       "shape": {
        "columns": 12,
        "rows": 5
       }
      },
      "text/html": [
       "<div>\n",
       "<style scoped>\n",
       "    .dataframe tbody tr th:only-of-type {\n",
       "        vertical-align: middle;\n",
       "    }\n",
       "\n",
       "    .dataframe tbody tr th {\n",
       "        vertical-align: top;\n",
       "    }\n",
       "\n",
       "    .dataframe thead th {\n",
       "        text-align: right;\n",
       "    }\n",
       "</style>\n",
       "<table border=\"1\" class=\"dataframe\">\n",
       "  <thead>\n",
       "    <tr style=\"text-align: right;\">\n",
       "      <th></th>\n",
       "      <th>Age</th>\n",
       "      <th>Sex</th>\n",
       "      <th>ChestPainType</th>\n",
       "      <th>RestingBP</th>\n",
       "      <th>Cholesterol</th>\n",
       "      <th>FastingBS</th>\n",
       "      <th>RestingECG</th>\n",
       "      <th>MaxHR</th>\n",
       "      <th>ExerciseAngina</th>\n",
       "      <th>Oldpeak</th>\n",
       "      <th>ST_Slope</th>\n",
       "      <th>HeartDisease</th>\n",
       "    </tr>\n",
       "  </thead>\n",
       "  <tbody>\n",
       "    <tr>\n",
       "      <th>252</th>\n",
       "      <td>61</td>\n",
       "      <td>Male</td>\n",
       "      <td>ASY</td>\n",
       "      <td>125</td>\n",
       "      <td>undefined</td>\n",
       "      <td>0</td>\n",
       "      <td>ST</td>\n",
       "      <td>115</td>\n",
       "      <td>Yes</td>\n",
       "      <td>0.0</td>\n",
       "      <td>Up</td>\n",
       "      <td>0</td>\n",
       "    </tr>\n",
       "    <tr>\n",
       "      <th>145</th>\n",
       "      <td>39</td>\n",
       "      <td>NaN</td>\n",
       "      <td>ASY</td>\n",
       "      <td>110</td>\n",
       "      <td>273</td>\n",
       "      <td>0</td>\n",
       "      <td>Normal</td>\n",
       "      <td>132</td>\n",
       "      <td>N</td>\n",
       "      <td>0.0</td>\n",
       "      <td>Up</td>\n",
       "      <td>0</td>\n",
       "    </tr>\n",
       "    <tr>\n",
       "      <th>696</th>\n",
       "      <td>35</td>\n",
       "      <td>M</td>\n",
       "      <td>ASY</td>\n",
       "      <td>##</td>\n",
       "      <td>198</td>\n",
       "      <td>0</td>\n",
       "      <td>Normal</td>\n",
       "      <td>130</td>\n",
       "      <td>Y</td>\n",
       "      <td>1.6</td>\n",
       "      <td>Flat</td>\n",
       "      <td>1</td>\n",
       "    </tr>\n",
       "    <tr>\n",
       "      <th>580</th>\n",
       "      <td>51</td>\n",
       "      <td>M</td>\n",
       "      <td>ASY</td>\n",
       "      <td>131</td>\n",
       "      <td>152</td>\n",
       "      <td>1</td>\n",
       "      <td>LVH</td>\n",
       "      <td>130</td>\n",
       "      <td>Y</td>\n",
       "      <td>1.0</td>\n",
       "      <td>Flat</td>\n",
       "      <td>1</td>\n",
       "    </tr>\n",
       "    <tr>\n",
       "      <th>810</th>\n",
       "      <td>55</td>\n",
       "      <td>Female</td>\n",
       "      <td>ATA</td>\n",
       "      <td>135</td>\n",
       "      <td>250</td>\n",
       "      <td>0</td>\n",
       "      <td>LVH</td>\n",
       "      <td>161</td>\n",
       "      <td>No</td>\n",
       "      <td>1.4</td>\n",
       "      <td>Flat</td>\n",
       "      <td>0</td>\n",
       "    </tr>\n",
       "  </tbody>\n",
       "</table>\n",
       "</div>"
      ],
      "text/plain": [
       "    Age     Sex ChestPainType RestingBP Cholesterol  FastingBS RestingECG  \\\n",
       "252  61    Male           ASY       125   undefined          0         ST   \n",
       "145  39     NaN           ASY       110         273          0     Normal   \n",
       "696  35       M           ASY        ##         198          0     Normal   \n",
       "580  51       M           ASY       131         152          1        LVH   \n",
       "810  55  Female           ATA       135         250          0        LVH   \n",
       "\n",
       "    MaxHR ExerciseAngina  Oldpeak ST_Slope  HeartDisease  \n",
       "252   115            Yes      0.0       Up             0  \n",
       "145   132              N      0.0       Up             0  \n",
       "696   130              Y      1.6     Flat             1  \n",
       "580   130              Y      1.0     Flat             1  \n",
       "810   161             No      1.4     Flat             0  "
      ]
     },
     "execution_count": 146,
     "metadata": {},
     "output_type": "execute_result"
    }
   ],
   "source": [
    "df = pd.read_csv('heart_corrupted.csv')\n",
    "df.sample(5)"
   ]
  },
  {
   "cell_type": "code",
   "execution_count": 147,
   "metadata": {},
   "outputs": [
    {
     "name": "stdout",
     "output_type": "stream",
     "text": [
      "Number of Row : 2870\n",
      "Number of Columns : 12\n"
     ]
    }
   ],
   "source": [
    "# Show Shape of Data\n",
    "print(f\"Number of Row : {df.shape[0]}\\nNumber of Columns : {df.shape[1]}\")"
   ]
  },
  {
   "cell_type": "code",
   "execution_count": 148,
   "metadata": {},
   "outputs": [
    {
     "name": "stdout",
     "output_type": "stream",
     "text": [
      "<class 'pandas.core.frame.DataFrame'>\n",
      "RangeIndex: 2870 entries, 0 to 2869\n",
      "Data columns (total 12 columns):\n",
      " #   Column          Non-Null Count  Dtype  \n",
      "---  ------          --------------  -----  \n",
      " 0   Age             2870 non-null   object \n",
      " 1   Sex             2787 non-null   object \n",
      " 2   ChestPainType   2870 non-null   object \n",
      " 3   RestingBP       2786 non-null   object \n",
      " 4   Cholesterol     2776 non-null   object \n",
      " 5   FastingBS       2870 non-null   int64  \n",
      " 6   RestingECG      2870 non-null   object \n",
      " 7   MaxHR           2788 non-null   object \n",
      " 8   ExerciseAngina  2870 non-null   object \n",
      " 9   Oldpeak         2870 non-null   float64\n",
      " 10  ST_Slope        2870 non-null   object \n",
      " 11  HeartDisease    2870 non-null   int64  \n",
      "dtypes: float64(1), int64(2), object(9)\n",
      "memory usage: 269.2+ KB\n"
     ]
    }
   ],
   "source": [
    "df.info()"
   ]
  },
  {
   "cell_type": "code",
   "execution_count": 149,
   "metadata": {},
   "outputs": [
    {
     "data": {
      "text/plain": [
       "Age                0\n",
       "Sex               83\n",
       "ChestPainType      0\n",
       "RestingBP         84\n",
       "Cholesterol       94\n",
       "FastingBS          0\n",
       "RestingECG         0\n",
       "MaxHR             82\n",
       "ExerciseAngina     0\n",
       "Oldpeak            0\n",
       "ST_Slope           0\n",
       "HeartDisease       0\n",
       "dtype: int64"
      ]
     },
     "execution_count": 149,
     "metadata": {},
     "output_type": "execute_result"
    }
   ],
   "source": [
    "# Check NaN Value\n",
    "df.isna().sum()"
   ]
  },
  {
   "cell_type": "code",
   "execution_count": 150,
   "metadata": {},
   "outputs": [
    {
     "data": {
      "text/plain": [
       "Age                object\n",
       "Sex                object\n",
       "ChestPainType      object\n",
       "RestingBP          object\n",
       "Cholesterol        object\n",
       "FastingBS           int64\n",
       "RestingECG         object\n",
       "MaxHR              object\n",
       "ExerciseAngina     object\n",
       "Oldpeak           float64\n",
       "ST_Slope           object\n",
       "HeartDisease        int64\n",
       "dtype: object"
      ]
     },
     "execution_count": 150,
     "metadata": {},
     "output_type": "execute_result"
    }
   ],
   "source": [
    "df.dtypes"
   ]
  },
  {
   "cell_type": "markdown",
   "metadata": {},
   "source": [
    "All columns are catogries.!!"
   ]
  },
  {
   "cell_type": "code",
   "execution_count": 151,
   "metadata": {},
   "outputs": [
    {
     "data": {
      "application/vnd.microsoft.datawrangler.viewer.v0+json": {
       "columns": [
        {
         "name": "index",
         "rawType": "object",
         "type": "string"
        },
        {
         "name": "FastingBS",
         "rawType": "float64",
         "type": "float"
        },
        {
         "name": "Oldpeak",
         "rawType": "float64",
         "type": "float"
        },
        {
         "name": "HeartDisease",
         "rawType": "float64",
         "type": "float"
        }
       ],
       "conversionMethod": "pd.DataFrame",
       "ref": "4df163d2-3369-4b05-ba05-f9c7a1851b7c",
       "rows": [
        [
         "count",
         "2870.0",
         "2870.0",
         "2870.0"
        ],
        [
         "mean",
         "0.2961672473867596",
         "1.1493031358885017",
         "0.8547038327526132"
        ],
        [
         "std",
         "0.45664522959267145",
         "1.0619621196114484",
         "0.3524606023571372"
        ],
        [
         "min",
         "0.0",
         "-2.6",
         "0.0"
        ],
        [
         "25%",
         "0.0",
         "0.0",
         "1.0"
        ],
        [
         "50%",
         "0.0",
         "1.1",
         "1.0"
        ],
        [
         "75%",
         "1.0",
         "1.8",
         "1.0"
        ],
        [
         "max",
         "1.0",
         "6.2",
         "1.0"
        ]
       ],
       "shape": {
        "columns": 3,
        "rows": 8
       }
      },
      "text/html": [
       "<div>\n",
       "<style scoped>\n",
       "    .dataframe tbody tr th:only-of-type {\n",
       "        vertical-align: middle;\n",
       "    }\n",
       "\n",
       "    .dataframe tbody tr th {\n",
       "        vertical-align: top;\n",
       "    }\n",
       "\n",
       "    .dataframe thead th {\n",
       "        text-align: right;\n",
       "    }\n",
       "</style>\n",
       "<table border=\"1\" class=\"dataframe\">\n",
       "  <thead>\n",
       "    <tr style=\"text-align: right;\">\n",
       "      <th></th>\n",
       "      <th>FastingBS</th>\n",
       "      <th>Oldpeak</th>\n",
       "      <th>HeartDisease</th>\n",
       "    </tr>\n",
       "  </thead>\n",
       "  <tbody>\n",
       "    <tr>\n",
       "      <th>count</th>\n",
       "      <td>2870.000000</td>\n",
       "      <td>2870.000000</td>\n",
       "      <td>2870.000000</td>\n",
       "    </tr>\n",
       "    <tr>\n",
       "      <th>mean</th>\n",
       "      <td>0.296167</td>\n",
       "      <td>1.149303</td>\n",
       "      <td>0.854704</td>\n",
       "    </tr>\n",
       "    <tr>\n",
       "      <th>std</th>\n",
       "      <td>0.456645</td>\n",
       "      <td>1.061962</td>\n",
       "      <td>0.352461</td>\n",
       "    </tr>\n",
       "    <tr>\n",
       "      <th>min</th>\n",
       "      <td>0.000000</td>\n",
       "      <td>-2.600000</td>\n",
       "      <td>0.000000</td>\n",
       "    </tr>\n",
       "    <tr>\n",
       "      <th>25%</th>\n",
       "      <td>0.000000</td>\n",
       "      <td>0.000000</td>\n",
       "      <td>1.000000</td>\n",
       "    </tr>\n",
       "    <tr>\n",
       "      <th>50%</th>\n",
       "      <td>0.000000</td>\n",
       "      <td>1.100000</td>\n",
       "      <td>1.000000</td>\n",
       "    </tr>\n",
       "    <tr>\n",
       "      <th>75%</th>\n",
       "      <td>1.000000</td>\n",
       "      <td>1.800000</td>\n",
       "      <td>1.000000</td>\n",
       "    </tr>\n",
       "    <tr>\n",
       "      <th>max</th>\n",
       "      <td>1.000000</td>\n",
       "      <td>6.200000</td>\n",
       "      <td>1.000000</td>\n",
       "    </tr>\n",
       "  </tbody>\n",
       "</table>\n",
       "</div>"
      ],
      "text/plain": [
       "         FastingBS      Oldpeak  HeartDisease\n",
       "count  2870.000000  2870.000000   2870.000000\n",
       "mean      0.296167     1.149303      0.854704\n",
       "std       0.456645     1.061962      0.352461\n",
       "min       0.000000    -2.600000      0.000000\n",
       "25%       0.000000     0.000000      1.000000\n",
       "50%       0.000000     1.100000      1.000000\n",
       "75%       1.000000     1.800000      1.000000\n",
       "max       1.000000     6.200000      1.000000"
      ]
     },
     "execution_count": 151,
     "metadata": {},
     "output_type": "execute_result"
    }
   ],
   "source": [
    "# Describe \n",
    "df.describe()"
   ]
  },
  {
   "cell_type": "code",
   "execution_count": 152,
   "metadata": {},
   "outputs": [
    {
     "data": {
      "application/vnd.microsoft.datawrangler.viewer.v0+json": {
       "columns": [
        {
         "name": "index",
         "rawType": "object",
         "type": "string"
        },
        {
         "name": "Count",
         "rawType": "int64",
         "type": "integer"
        },
        {
         "name": "Null",
         "rawType": "int64",
         "type": "integer"
        },
        {
         "name": "Null %",
         "rawType": "float64",
         "type": "float"
        },
        {
         "name": "Cardinality",
         "rawType": "int64",
         "type": "integer"
        }
       ],
       "conversionMethod": "pd.DataFrame",
       "ref": "b3aa8ee8-200a-4ad5-a1bc-fa13a53e2bc3",
       "rows": [
        [
         "Age",
         "2870",
         "0",
         "0.0",
         "149"
        ],
        [
         "Sex",
         "2870",
         "83",
         "2.8919860627177703",
         "7"
        ],
        [
         "ChestPainType",
         "2870",
         "0",
         "0.0",
         "4"
        ],
        [
         "RestingBP",
         "2870",
         "84",
         "2.9268292682926833",
         "106"
        ],
        [
         "Cholesterol",
         "2870",
         "94",
         "3.2752613240418116",
         "294"
        ],
        [
         "FastingBS",
         "2870",
         "0",
         "0.0",
         "2"
        ],
        [
         "RestingECG",
         "2870",
         "0",
         "0.0",
         "3"
        ],
        [
         "MaxHR",
         "2870",
         "82",
         "2.857142857142857",
         "133"
        ],
        [
         "ExerciseAngina",
         "2870",
         "0",
         "0.0",
         "4"
        ],
        [
         "Oldpeak",
         "2870",
         "0",
         "0.0",
         "69"
        ],
        [
         "ST_Slope",
         "2870",
         "0",
         "0.0",
         "3"
        ],
        [
         "HeartDisease",
         "2870",
         "0",
         "0.0",
         "2"
        ]
       ],
       "shape": {
        "columns": 4,
        "rows": 12
       }
      },
      "text/html": [
       "<div>\n",
       "<style scoped>\n",
       "    .dataframe tbody tr th:only-of-type {\n",
       "        vertical-align: middle;\n",
       "    }\n",
       "\n",
       "    .dataframe tbody tr th {\n",
       "        vertical-align: top;\n",
       "    }\n",
       "\n",
       "    .dataframe thead th {\n",
       "        text-align: right;\n",
       "    }\n",
       "</style>\n",
       "<table border=\"1\" class=\"dataframe\">\n",
       "  <thead>\n",
       "    <tr style=\"text-align: right;\">\n",
       "      <th></th>\n",
       "      <th>Count</th>\n",
       "      <th>Null</th>\n",
       "      <th>Null %</th>\n",
       "      <th>Cardinality</th>\n",
       "    </tr>\n",
       "  </thead>\n",
       "  <tbody>\n",
       "    <tr>\n",
       "      <th>Age</th>\n",
       "      <td>2870</td>\n",
       "      <td>0</td>\n",
       "      <td>0.000000</td>\n",
       "      <td>149</td>\n",
       "    </tr>\n",
       "    <tr>\n",
       "      <th>Sex</th>\n",
       "      <td>2870</td>\n",
       "      <td>83</td>\n",
       "      <td>2.891986</td>\n",
       "      <td>7</td>\n",
       "    </tr>\n",
       "    <tr>\n",
       "      <th>ChestPainType</th>\n",
       "      <td>2870</td>\n",
       "      <td>0</td>\n",
       "      <td>0.000000</td>\n",
       "      <td>4</td>\n",
       "    </tr>\n",
       "    <tr>\n",
       "      <th>RestingBP</th>\n",
       "      <td>2870</td>\n",
       "      <td>84</td>\n",
       "      <td>2.926829</td>\n",
       "      <td>106</td>\n",
       "    </tr>\n",
       "    <tr>\n",
       "      <th>Cholesterol</th>\n",
       "      <td>2870</td>\n",
       "      <td>94</td>\n",
       "      <td>3.275261</td>\n",
       "      <td>294</td>\n",
       "    </tr>\n",
       "    <tr>\n",
       "      <th>FastingBS</th>\n",
       "      <td>2870</td>\n",
       "      <td>0</td>\n",
       "      <td>0.000000</td>\n",
       "      <td>2</td>\n",
       "    </tr>\n",
       "    <tr>\n",
       "      <th>RestingECG</th>\n",
       "      <td>2870</td>\n",
       "      <td>0</td>\n",
       "      <td>0.000000</td>\n",
       "      <td>3</td>\n",
       "    </tr>\n",
       "    <tr>\n",
       "      <th>MaxHR</th>\n",
       "      <td>2870</td>\n",
       "      <td>82</td>\n",
       "      <td>2.857143</td>\n",
       "      <td>133</td>\n",
       "    </tr>\n",
       "    <tr>\n",
       "      <th>ExerciseAngina</th>\n",
       "      <td>2870</td>\n",
       "      <td>0</td>\n",
       "      <td>0.000000</td>\n",
       "      <td>4</td>\n",
       "    </tr>\n",
       "    <tr>\n",
       "      <th>Oldpeak</th>\n",
       "      <td>2870</td>\n",
       "      <td>0</td>\n",
       "      <td>0.000000</td>\n",
       "      <td>69</td>\n",
       "    </tr>\n",
       "    <tr>\n",
       "      <th>ST_Slope</th>\n",
       "      <td>2870</td>\n",
       "      <td>0</td>\n",
       "      <td>0.000000</td>\n",
       "      <td>3</td>\n",
       "    </tr>\n",
       "    <tr>\n",
       "      <th>HeartDisease</th>\n",
       "      <td>2870</td>\n",
       "      <td>0</td>\n",
       "      <td>0.000000</td>\n",
       "      <td>2</td>\n",
       "    </tr>\n",
       "  </tbody>\n",
       "</table>\n",
       "</div>"
      ],
      "text/plain": [
       "                Count  Null    Null %  Cardinality\n",
       "Age              2870     0  0.000000          149\n",
       "Sex              2870    83  2.891986            7\n",
       "ChestPainType    2870     0  0.000000            4\n",
       "RestingBP        2870    84  2.926829          106\n",
       "Cholesterol      2870    94  3.275261          294\n",
       "FastingBS        2870     0  0.000000            2\n",
       "RestingECG       2870     0  0.000000            3\n",
       "MaxHR            2870    82  2.857143          133\n",
       "ExerciseAngina   2870     0  0.000000            4\n",
       "Oldpeak          2870     0  0.000000           69\n",
       "ST_Slope         2870     0  0.000000            3\n",
       "HeartDisease     2870     0  0.000000            2"
      ]
     },
     "execution_count": 152,
     "metadata": {},
     "output_type": "execute_result"
    }
   ],
   "source": [
    "pd.DataFrame({'Count':df.shape[0],\n",
    "              'Null':df.isnull().sum(),\n",
    "              'Null %':df.isnull().mean() * 100,\n",
    "              'Cardinality':df.nunique()\n",
    "})"
   ]
  },
  {
   "cell_type": "code",
   "execution_count": 153,
   "metadata": {},
   "outputs": [
    {
     "data": {
      "text/plain": [
       "np.int64(54)"
      ]
     },
     "execution_count": 153,
     "metadata": {},
     "output_type": "execute_result"
    }
   ],
   "source": [
    "# Check Dublication\n",
    "df.duplicated().sum()"
   ]
  },
  {
   "cell_type": "markdown",
   "metadata": {},
   "source": [
    "There are many and many issues in the data.\n",
    "* Change `Age`, `RestingBP`, `MaxHR` and `Cholesterol` columns' type to integer .\n",
    "* Handle inconsistent formats.\n",
    "* Handle missng data.\n",
    "* Handle outliers.\n",
    "* Check about non realistic values in `RestingBP`, `Cholesterol`, and `Oldpeak` columns.\n",
    "* Remove duplicated data\n"
   ]
  },
  {
   "cell_type": "markdown",
   "metadata": {},
   "source": [
    "## Data Cleaning \n",
    "\n",
    "\n",
    "#### Age Column"
   ]
  },
  {
   "cell_type": "code",
   "execution_count": 154,
   "metadata": {},
   "outputs": [
    {
     "data": {
      "text/plain": [
       "array(['40', '49', '37', '48', '54', '39', '45', '58', '42', '38', '43',\n",
       "       '60', '36', '44', '53', '52', '51', '56', '54 yr', '41', '32',\n",
       "       '65', '35', '590', '50', '47', '31', '46 yr', '32 years', '57 yr',\n",
       "       '44 year', '55', '46', '550', '63', '66', '48 y', '57', '34', '59',\n",
       "       '33', '580', '61', '500', '29', '43 years', '41 yr', '62', '490',\n",
       "       '28', '30', '410', '50 yr', '510', '570', '74', '68', '38 years',\n",
       "       '72', '64', '69', '55 years', '67', '73', '70', '53 years',\n",
       "       '65 years', '62 years', '54 y', '77', '40 years', '560', '75',\n",
       "       '630', '76', '71', '380', '58 y', '610', '54 years', '44 years',\n",
       "       '60 yr', '61 y', '54 year', '60 y', '66 y', '52 years', '450',\n",
       "       '670', '620', '600', '430', '56 year', '58 years', '59 yr', '59 y',\n",
       "       '420', '50 year', '61 years', '650', '59 years', '56 years',\n",
       "       '60 years', '56 y', '470', '60 year', '61 yr', '62 year', '46 y',\n",
       "       '65 year', '50 years', '700', '39 years', '48 years', '47 y',\n",
       "       '51 y', '390', '57 years', '43 yr', '48 yr', '69 years', '66 year',\n",
       "       '330', '51 year', '65 yr', '660', '53 y', '56 yr', '45 years',\n",
       "       '52 y', '51 years', '66 years', '46 year', '530', '42 year',\n",
       "       '63 years', '730', '48 year', '680', '400', '690', '55 yr', '38 y',\n",
       "       '69 year', '63 yr', '62 y', '52 yr', '520', '68 years'],\n",
       "      dtype=object)"
      ]
     },
     "execution_count": 154,
     "metadata": {},
     "output_type": "execute_result"
    }
   ],
   "source": [
    "df['Age'].unique()"
   ]
  },
  {
   "cell_type": "markdown",
   "metadata": {},
   "source": [
    "Mmm! Let's remove non-numeric suffixes like `67 years` `63 y` , convert values to integer, and handle outliers like `690` and so on."
   ]
  },
  {
   "cell_type": "code",
   "execution_count": 155,
   "metadata": {},
   "outputs": [],
   "source": [
    "df['Age'] = df['Age'].str.replace(r'\\s*(years?|yrs?|y)\\s*', '', regex=True)"
   ]
  },
  {
   "cell_type": "code",
   "execution_count": 156,
   "metadata": {},
   "outputs": [
    {
     "data": {
      "text/plain": [
       "array(['40', '49', '37', '48', '54', '39', '45', '58', '42', '38', '43',\n",
       "       '60', '36', '44', '53', '52', '51', '56', '41', '32', '65', '35',\n",
       "       '590', '50', '47', '31', '46', '57', '55', '550', '63', '66', '34',\n",
       "       '59', '33', '580', '61', '500', '29', '62', '490', '28', '30',\n",
       "       '410', '510', '570', '74', '68', '72', '64', '69', '67', '73',\n",
       "       '70', '77', '560', '75', '630', '76', '71', '380', '610', '450',\n",
       "       '670', '620', '600', '430', '420', '650', '470', '700', '390',\n",
       "       '330', '660', '530', '730', '680', '400', '690', '520'],\n",
       "      dtype=object)"
      ]
     },
     "execution_count": 156,
     "metadata": {},
     "output_type": "execute_result"
    }
   ],
   "source": [
    "df['Age'].unique()"
   ]
  },
  {
   "cell_type": "code",
   "execution_count": 157,
   "metadata": {},
   "outputs": [],
   "source": [
    "df['Age'] = df['Age'].astype(int)"
   ]
  },
  {
   "cell_type": "markdown",
   "metadata": {},
   "source": [
    "Let's remove outliers.\n",
    "\n",
    "If you notice that all outliers values end with a `0` so all we do is dividing those values by 10.\n",
    "(the reason of outliers is the some values is multiplied by 10)"
   ]
  },
  {
   "cell_type": "code",
   "execution_count": 158,
   "metadata": {},
   "outputs": [],
   "source": [
    "df['Age'] = df['Age'].apply(lambda x: x // 10 if x > 100 and x % 10 == 0 else x)"
   ]
  },
  {
   "cell_type": "code",
   "execution_count": 96,
   "metadata": {},
   "outputs": [
    {
     "data": {
      "text/plain": [
       "array([40, 49, 37, 48, 54, 39, 45, 58, 42, 38, 43, 60, 36, 44, 53, 52, 51,\n",
       "       56, 41, 32, 65, 35, 59, 50, 47, 31, 46, 57, 55, 63, 66, 34, 33, 61,\n",
       "       29, 62, 28, 30, 74, 68, 72, 64, 69, 67, 73, 70, 77, 75, 76, 71])"
      ]
     },
     "execution_count": 96,
     "metadata": {},
     "output_type": "execute_result"
    }
   ],
   "source": [
    "df['Age'].unique()"
   ]
  },
  {
   "cell_type": "markdown",
   "metadata": {},
   "source": [
    "#### Sex Column"
   ]
  },
  {
   "cell_type": "code",
   "execution_count": 159,
   "metadata": {},
   "outputs": [
    {
     "data": {
      "text/plain": [
       "Sex\n",
       "M            1445\n",
       "Male          949\n",
       "F             192\n",
       "Female        140\n",
       "undefined      26\n",
       "##             22\n",
       "??             13\n",
       "Name: count, dtype: int64"
      ]
     },
     "execution_count": 159,
     "metadata": {},
     "output_type": "execute_result"
    }
   ],
   "source": [
    "df['Sex'].value_counts()"
   ]
  },
  {
   "cell_type": "markdown",
   "metadata": {},
   "source": [
    "It seems so dirty. Let's normalize values to consistent format and replace `##`, `undefined` and `??` values with NaN\n"
   ]
  },
  {
   "cell_type": "code",
   "execution_count": 160,
   "metadata": {},
   "outputs": [],
   "source": [
    "df['Sex'] = df['Sex'].replace({'M': 'Male', 'F': 'Female'})"
   ]
  },
  {
   "cell_type": "code",
   "execution_count": 163,
   "metadata": {},
   "outputs": [],
   "source": [
    "df['Sex'] = df['Sex'].apply(lambda x: np.nan if x in ['##', 'undefined', '??'] else x)"
   ]
  },
  {
   "cell_type": "code",
   "execution_count": 164,
   "metadata": {},
   "outputs": [
    {
     "data": {
      "text/plain": [
       "array(['Male', 'Female', nan], dtype=object)"
      ]
     },
     "execution_count": 164,
     "metadata": {},
     "output_type": "execute_result"
    }
   ],
   "source": [
    "df['Sex'].unique()"
   ]
  },
  {
   "cell_type": "code",
   "execution_count": 165,
   "metadata": {},
   "outputs": [
    {
     "data": {
      "text/plain": [
       "np.float64(5.017421602787456)"
      ]
     },
     "execution_count": 165,
     "metadata": {},
     "output_type": "execute_result"
    }
   ],
   "source": [
    "df['Sex'].isna().sum() / df.shape[0] * 100"
   ]
  },
  {
   "cell_type": "markdown",
   "metadata": {},
   "source": [
    "#### RestingBP, MaxHR and Cholesterol Columns"
   ]
  },
  {
   "cell_type": "code",
   "execution_count": 166,
   "metadata": {},
   "outputs": [
    {
     "data": {
      "text/plain": [
       "array(['140', '160', '130', '138', '150', '120', nan, '136', '115', '110',\n",
       "       '100', '124', '113', '125', '145', '112', '132', '118', '170',\n",
       "       '##', '190', '135', '180', '108', '155', '128', '106', '92', '??',\n",
       "       '200', '122', '98', '105', '133', '95', '80', '137', '185', '165',\n",
       "       '142', '126', '152', '116', '0', '144', '154', '134', '104', '139',\n",
       "       '141', '131', '178', '146', '158', '123', '102', '96', 'undefined',\n",
       "       '143', '172', '156', '114', '127', '101', '174', '94', '148',\n",
       "       '117', '129', '164', '171', '119', '175', '121', '157', '147',\n",
       "       '111', '153', '191', '109', '169', '162', '149', '103', '195',\n",
       "       '167', '107', '159', '166', '161', '179', '97', '168', '163', '99',\n",
       "       '151', '197', '199', '173', '177', '196', '186', '183', '176',\n",
       "       '23', '189', '181'], dtype=object)"
      ]
     },
     "execution_count": 166,
     "metadata": {},
     "output_type": "execute_result"
    }
   ],
   "source": [
    "df['RestingBP'].unique()"
   ]
  },
  {
   "cell_type": "code",
   "execution_count": 167,
   "metadata": {},
   "outputs": [
    {
     "data": {
      "text/plain": [
       "(dtype('O'), dtype('O'), dtype('O'))"
      ]
     },
     "execution_count": 167,
     "metadata": {},
     "output_type": "execute_result"
    }
   ],
   "source": [
    "df['Cholesterol'].dtype, df['RestingBP'].dtype, df['MaxHR'].dtype"
   ]
  },
  {
   "cell_type": "markdown",
   "metadata": {},
   "source": [
    "Change to integers numbers."
   ]
  },
  {
   "cell_type": "code",
   "execution_count": 168,
   "metadata": {},
   "outputs": [],
   "source": [
    "df['RestingBP'] = pd.to_numeric(df['RestingBP'], errors='coerce').astype('Int64')\n",
    "df['Cholesterol'] = pd.to_numeric(df['Cholesterol'], errors='coerce').astype('Int64')\n",
    "df['MaxHR'] = pd.to_numeric(df['MaxHR'], errors='coerce').astype('Int64')"
   ]
  },
  {
   "cell_type": "code",
   "execution_count": 169,
   "metadata": {},
   "outputs": [
    {
     "data": {
      "text/plain": [
       "np.int64(144)"
      ]
     },
     "execution_count": 169,
     "metadata": {},
     "output_type": "execute_result"
    }
   ],
   "source": [
    "df['RestingBP'].isna().sum()"
   ]
  },
  {
   "cell_type": "code",
   "execution_count": 172,
   "metadata": {},
   "outputs": [
    {
     "data": {
      "application/vnd.microsoft.datawrangler.viewer.v0+json": {
       "columns": [
        {
         "name": "index",
         "rawType": "int64",
         "type": "integer"
        },
        {
         "name": "Age",
         "rawType": "int64",
         "type": "integer"
        },
        {
         "name": "Sex",
         "rawType": "object",
         "type": "unknown"
        },
        {
         "name": "ChestPainType",
         "rawType": "object",
         "type": "string"
        },
        {
         "name": "RestingBP",
         "rawType": "Int64",
         "type": "integer"
        },
        {
         "name": "Cholesterol",
         "rawType": "Int64",
         "type": "integer"
        },
        {
         "name": "FastingBS",
         "rawType": "int64",
         "type": "integer"
        },
        {
         "name": "RestingECG",
         "rawType": "object",
         "type": "string"
        },
        {
         "name": "MaxHR",
         "rawType": "Int64",
         "type": "integer"
        },
        {
         "name": "ExerciseAngina",
         "rawType": "object",
         "type": "string"
        },
        {
         "name": "Oldpeak",
         "rawType": "float64",
         "type": "float"
        },
        {
         "name": "ST_Slope",
         "rawType": "object",
         "type": "string"
        },
        {
         "name": "HeartDisease",
         "rawType": "int64",
         "type": "integer"
        }
       ],
       "conversionMethod": "pd.DataFrame",
       "ref": "d15b6b72-5906-437c-a724-79daf737585b",
       "rows": [
        [
         "0",
         "40",
         "Male",
         "ATA",
         "140",
         "289",
         "0",
         "Normal",
         "172",
         "N",
         "0.0",
         "Up",
         "0"
        ],
        [
         "1",
         "49",
         "Female",
         "NAP",
         "160",
         "180",
         "0",
         "Normal",
         "156",
         "N",
         "1.0",
         "Flat",
         "1"
        ],
        [
         "2",
         "37",
         "Male",
         "ATA",
         "130",
         "283",
         "0",
         "ST",
         "98",
         "N",
         "0.0",
         "Up",
         "0"
        ],
        [
         "3",
         "48",
         "Female",
         "ASY",
         "138",
         null,
         "0",
         "Normal",
         "108",
         "Y",
         "1.5",
         "Flat",
         "1"
        ],
        [
         "4",
         "54",
         "Male",
         "NAP",
         "150",
         "195",
         "0",
         "Normal",
         "122",
         "N",
         "0.0",
         "Up",
         "0"
        ],
        [
         "5",
         "39",
         "Male",
         "NAP",
         "120",
         "339",
         "0",
         "Normal",
         "170",
         "N",
         "0.0",
         "Up",
         "0"
        ],
        [
         "6",
         "45",
         "Female",
         "ATA",
         "130",
         "237",
         "0",
         "Normal",
         "170",
         "N",
         "0.0",
         "Up",
         "0"
        ],
        [
         "7",
         "54",
         "Male",
         "ATA",
         null,
         "208",
         "0",
         "Normal",
         null,
         "No",
         "0.0",
         "Up",
         "0"
        ],
        [
         "8",
         "37",
         "Male",
         "ASY",
         "140",
         "207",
         "0",
         "Normal",
         "130",
         "Yes",
         "1.5",
         "Flat",
         "1"
        ],
        [
         "9",
         "48",
         "Female",
         "ATA",
         "120",
         "284",
         "0",
         "Normal",
         "120",
         "N",
         "0.0",
         "Up",
         "0"
        ],
        [
         "10",
         "37",
         "Female",
         "NAP",
         "130",
         "211",
         "0",
         "Normal",
         "142",
         "N",
         "0.0",
         "Up",
         "0"
        ],
        [
         "11",
         "58",
         "Male",
         "ATA",
         "136",
         "164",
         "0",
         "ST",
         "99",
         "Y",
         "2.0",
         "Flat",
         "1"
        ],
        [
         "12",
         "39",
         "Male",
         "ATA",
         "120",
         "204",
         "0",
         "Normal",
         "145",
         "N",
         "0.0",
         "Up",
         "0"
        ],
        [
         "13",
         "49",
         "Male",
         "ASY",
         "140",
         "234",
         "0",
         "Normal",
         "140",
         "Yes",
         "1.0",
         "Flat",
         "1"
        ],
        [
         "14",
         "42",
         "Female",
         "NAP",
         "115",
         "211",
         "0",
         "ST",
         "137",
         "N",
         "0.0",
         "Up",
         "0"
        ],
        [
         "15",
         "54",
         "Female",
         "ATA",
         "120",
         "273",
         "0",
         "Normal",
         "150",
         "N",
         "1.5",
         "Flat",
         "0"
        ],
        [
         "16",
         "38",
         "Male",
         "ASY",
         "110",
         "196",
         "0",
         "Normal",
         "166",
         "N",
         "0.0",
         "Flat",
         "1"
        ],
        [
         "17",
         "43",
         "Female",
         "ATA",
         "120",
         "201",
         "0",
         "Normal",
         "165",
         "N",
         "0.0",
         "Up",
         "0"
        ],
        [
         "18",
         "60",
         null,
         "ASY",
         "100",
         "248",
         "0",
         "Normal",
         "125",
         "No",
         "1.0",
         "Flat",
         "1"
        ],
        [
         "19",
         "36",
         "Male",
         "ATA",
         "120",
         "267",
         "0",
         "Normal",
         "160",
         "N",
         "3.0",
         "Flat",
         "1"
        ],
        [
         "20",
         "43",
         "Female",
         "TA",
         "100",
         "223",
         "0",
         "Normal",
         "142",
         "N",
         "0.0",
         "Up",
         "0"
        ],
        [
         "21",
         "44",
         "Male",
         "ATA",
         "120",
         "184",
         "0",
         "Normal",
         "142",
         "N",
         "1.0",
         "Flat",
         "0"
        ],
        [
         "22",
         "49",
         "Female",
         "ATA",
         "124",
         "201",
         "0",
         "Normal",
         "164",
         "N",
         "0.0",
         "Up",
         "0"
        ],
        [
         "23",
         "44",
         "Male",
         "ATA",
         "150",
         "288",
         "0",
         "Normal",
         "150",
         "Yes",
         "3.0",
         "Flat",
         "1"
        ],
        [
         "24",
         "40",
         "Male",
         "NAP",
         "130",
         "215",
         "0",
         "Normal",
         "138",
         "N",
         "0.0",
         "Up",
         "0"
        ],
        [
         "25",
         "36",
         "Male",
         "NAP",
         "130",
         "209",
         "0",
         "Normal",
         "178",
         "No",
         "0.0",
         "Up",
         "0"
        ],
        [
         "26",
         "53",
         "Male",
         "ASY",
         "124",
         "260",
         "0",
         "ST",
         "112",
         "Y",
         "3.0",
         "Flat",
         "0"
        ],
        [
         "27",
         "52",
         "Male",
         "ATA",
         "120",
         null,
         "0",
         "Normal",
         "118",
         "N",
         "0.0",
         "Up",
         "0"
        ],
        [
         "28",
         "53",
         "Female",
         "ATA",
         "113",
         "468",
         "0",
         "Normal",
         "127",
         "N",
         "0.0",
         "Up",
         "0"
        ],
        [
         "29",
         "51",
         "Male",
         "ATA",
         "125",
         "188",
         "0",
         "Normal",
         "145",
         "No",
         "0.0",
         "Up",
         "0"
        ],
        [
         "30",
         "53",
         "Male",
         "NAP",
         "145",
         "518",
         "0",
         "Normal",
         "130",
         "No",
         "0.0",
         "Flat",
         "1"
        ],
        [
         "31",
         "56",
         "Male",
         "NAP",
         "130",
         "167",
         "0",
         "Normal",
         "114",
         "N",
         "0.0",
         "Up",
         "0"
        ],
        [
         "32",
         "54",
         "Male",
         "ASY",
         "125",
         "224",
         "0",
         "Normal",
         "122",
         "No",
         "2.0",
         "Flat",
         "1"
        ],
        [
         "33",
         "41",
         "Male",
         "ASY",
         "130",
         "172",
         "0",
         "ST",
         "130",
         "N",
         "2.0",
         "Flat",
         "1"
        ],
        [
         "34",
         "43",
         "Female",
         "ATA",
         "150",
         "186",
         "0",
         "Normal",
         "154",
         "N",
         "0.0",
         "Up",
         "0"
        ],
        [
         "35",
         "32",
         "Male",
         "ATA",
         "125",
         "254",
         "0",
         "Normal",
         "155",
         "N",
         "0.0",
         "Up",
         "0"
        ],
        [
         "36",
         "65",
         null,
         "ASY",
         "140",
         "306",
         "1",
         "Normal",
         "87",
         "Y",
         "1.5",
         "Flat",
         "1"
        ],
        [
         "37",
         "41",
         "Female",
         "ATA",
         "110",
         null,
         "0",
         "ST",
         "142",
         "N",
         "0.0",
         "Up",
         "0"
        ],
        [
         "38",
         "48",
         "Female",
         "ATA",
         "120",
         "177",
         "1",
         "ST",
         null,
         "N",
         "0.0",
         "Up",
         "0"
        ],
        [
         "39",
         "48",
         "Female",
         "ASY",
         "150",
         null,
         "0",
         "Normal",
         "130",
         "Y",
         "1.0",
         "Flat",
         "0"
        ],
        [
         "40",
         "54",
         "Female",
         "ATA",
         "150",
         "230",
         "0",
         "Normal",
         "130",
         "N",
         "0.0",
         "Up",
         "0"
        ],
        [
         "41",
         "54",
         "Female",
         "NAP",
         "130",
         "294",
         "0",
         "ST",
         "100",
         "Y",
         "0.0",
         "Flat",
         "1"
        ],
        [
         "42",
         "35",
         "Male",
         "ATA",
         "150",
         "264",
         "0",
         "Normal",
         "168",
         "N",
         "0.0",
         "Up",
         "0"
        ],
        [
         "43",
         "52",
         "Male",
         "NAP",
         "140",
         "259",
         "0",
         "ST",
         "170",
         "No",
         "0.0",
         "Up",
         "0"
        ],
        [
         "44",
         "43",
         "Male",
         "ASY",
         "120",
         "175",
         "0",
         "Normal",
         "120",
         "Yes",
         "1.0",
         "Flat",
         "1"
        ],
        [
         "45",
         "59",
         "Male",
         "NAP",
         "130",
         "318",
         "0",
         "Normal",
         "120",
         "Yes",
         "1.0",
         "Flat",
         "0"
        ],
        [
         "46",
         "37",
         "Male",
         "ASY",
         "120",
         "223",
         "0",
         "Normal",
         "168",
         "N",
         "0.0",
         "Up",
         "0"
        ],
        [
         "47",
         "50",
         "Male",
         "ATA",
         "140",
         "216",
         "0",
         "Normal",
         "170",
         "N",
         "0.0",
         "Up",
         "0"
        ],
        [
         "48",
         "36",
         "Male",
         "NAP",
         "112",
         "340",
         "0",
         "Normal",
         "184",
         "No",
         "1.0",
         "Flat",
         "0"
        ],
        [
         "49",
         "41",
         "Male",
         "ASY",
         "110",
         "289",
         "0",
         "Normal",
         "170",
         "No",
         "0.0",
         "Flat",
         "1"
        ]
       ],
       "shape": {
        "columns": 12,
        "rows": 2870
       }
      },
      "text/html": [
       "<div>\n",
       "<style scoped>\n",
       "    .dataframe tbody tr th:only-of-type {\n",
       "        vertical-align: middle;\n",
       "    }\n",
       "\n",
       "    .dataframe tbody tr th {\n",
       "        vertical-align: top;\n",
       "    }\n",
       "\n",
       "    .dataframe thead th {\n",
       "        text-align: right;\n",
       "    }\n",
       "</style>\n",
       "<table border=\"1\" class=\"dataframe\">\n",
       "  <thead>\n",
       "    <tr style=\"text-align: right;\">\n",
       "      <th></th>\n",
       "      <th>Age</th>\n",
       "      <th>Sex</th>\n",
       "      <th>ChestPainType</th>\n",
       "      <th>RestingBP</th>\n",
       "      <th>Cholesterol</th>\n",
       "      <th>FastingBS</th>\n",
       "      <th>RestingECG</th>\n",
       "      <th>MaxHR</th>\n",
       "      <th>ExerciseAngina</th>\n",
       "      <th>Oldpeak</th>\n",
       "      <th>ST_Slope</th>\n",
       "      <th>HeartDisease</th>\n",
       "    </tr>\n",
       "  </thead>\n",
       "  <tbody>\n",
       "    <tr>\n",
       "      <th>0</th>\n",
       "      <td>40</td>\n",
       "      <td>Male</td>\n",
       "      <td>ATA</td>\n",
       "      <td>140</td>\n",
       "      <td>289</td>\n",
       "      <td>0</td>\n",
       "      <td>Normal</td>\n",
       "      <td>172</td>\n",
       "      <td>N</td>\n",
       "      <td>0.0</td>\n",
       "      <td>Up</td>\n",
       "      <td>0</td>\n",
       "    </tr>\n",
       "    <tr>\n",
       "      <th>1</th>\n",
       "      <td>49</td>\n",
       "      <td>Female</td>\n",
       "      <td>NAP</td>\n",
       "      <td>160</td>\n",
       "      <td>180</td>\n",
       "      <td>0</td>\n",
       "      <td>Normal</td>\n",
       "      <td>156</td>\n",
       "      <td>N</td>\n",
       "      <td>1.0</td>\n",
       "      <td>Flat</td>\n",
       "      <td>1</td>\n",
       "    </tr>\n",
       "    <tr>\n",
       "      <th>2</th>\n",
       "      <td>37</td>\n",
       "      <td>Male</td>\n",
       "      <td>ATA</td>\n",
       "      <td>130</td>\n",
       "      <td>283</td>\n",
       "      <td>0</td>\n",
       "      <td>ST</td>\n",
       "      <td>98</td>\n",
       "      <td>N</td>\n",
       "      <td>0.0</td>\n",
       "      <td>Up</td>\n",
       "      <td>0</td>\n",
       "    </tr>\n",
       "    <tr>\n",
       "      <th>3</th>\n",
       "      <td>48</td>\n",
       "      <td>Female</td>\n",
       "      <td>ASY</td>\n",
       "      <td>138</td>\n",
       "      <td>&lt;NA&gt;</td>\n",
       "      <td>0</td>\n",
       "      <td>Normal</td>\n",
       "      <td>108</td>\n",
       "      <td>Y</td>\n",
       "      <td>1.5</td>\n",
       "      <td>Flat</td>\n",
       "      <td>1</td>\n",
       "    </tr>\n",
       "    <tr>\n",
       "      <th>4</th>\n",
       "      <td>54</td>\n",
       "      <td>Male</td>\n",
       "      <td>NAP</td>\n",
       "      <td>150</td>\n",
       "      <td>195</td>\n",
       "      <td>0</td>\n",
       "      <td>Normal</td>\n",
       "      <td>122</td>\n",
       "      <td>N</td>\n",
       "      <td>0.0</td>\n",
       "      <td>Up</td>\n",
       "      <td>0</td>\n",
       "    </tr>\n",
       "    <tr>\n",
       "      <th>...</th>\n",
       "      <td>...</td>\n",
       "      <td>...</td>\n",
       "      <td>...</td>\n",
       "      <td>...</td>\n",
       "      <td>...</td>\n",
       "      <td>...</td>\n",
       "      <td>...</td>\n",
       "      <td>...</td>\n",
       "      <td>...</td>\n",
       "      <td>...</td>\n",
       "      <td>...</td>\n",
       "      <td>...</td>\n",
       "    </tr>\n",
       "    <tr>\n",
       "      <th>2865</th>\n",
       "      <td>29</td>\n",
       "      <td>Male</td>\n",
       "      <td>ATA</td>\n",
       "      <td>140</td>\n",
       "      <td>263</td>\n",
       "      <td>0</td>\n",
       "      <td>Normal</td>\n",
       "      <td>170</td>\n",
       "      <td>No</td>\n",
       "      <td>0.0</td>\n",
       "      <td>Up</td>\n",
       "      <td>0</td>\n",
       "    </tr>\n",
       "    <tr>\n",
       "      <th>2866</th>\n",
       "      <td>52</td>\n",
       "      <td>Male</td>\n",
       "      <td>ASY</td>\n",
       "      <td>125</td>\n",
       "      <td>212</td>\n",
       "      <td>0</td>\n",
       "      <td>Normal</td>\n",
       "      <td>168</td>\n",
       "      <td>No</td>\n",
       "      <td>1.0</td>\n",
       "      <td>Up</td>\n",
       "      <td>1</td>\n",
       "    </tr>\n",
       "    <tr>\n",
       "      <th>2867</th>\n",
       "      <td>49</td>\n",
       "      <td>Male</td>\n",
       "      <td>ASY</td>\n",
       "      <td>140</td>\n",
       "      <td>234</td>\n",
       "      <td>0</td>\n",
       "      <td>Normal</td>\n",
       "      <td>140</td>\n",
       "      <td>Y</td>\n",
       "      <td>1.0</td>\n",
       "      <td>Flat</td>\n",
       "      <td>1</td>\n",
       "    </tr>\n",
       "    <tr>\n",
       "      <th>2868</th>\n",
       "      <td>53</td>\n",
       "      <td>Male</td>\n",
       "      <td>ASY</td>\n",
       "      <td>110</td>\n",
       "      <td>231</td>\n",
       "      <td>0</td>\n",
       "      <td>Normal</td>\n",
       "      <td>159</td>\n",
       "      <td>No</td>\n",
       "      <td>0.0</td>\n",
       "      <td>Up</td>\n",
       "      <td>1</td>\n",
       "    </tr>\n",
       "    <tr>\n",
       "      <th>2869</th>\n",
       "      <td>62</td>\n",
       "      <td>Male</td>\n",
       "      <td>ASY</td>\n",
       "      <td>116</td>\n",
       "      <td>0</td>\n",
       "      <td>1</td>\n",
       "      <td>Normal</td>\n",
       "      <td>74</td>\n",
       "      <td>Yes</td>\n",
       "      <td>-0.4</td>\n",
       "      <td>Flat</td>\n",
       "      <td>1</td>\n",
       "    </tr>\n",
       "  </tbody>\n",
       "</table>\n",
       "<p>2870 rows × 12 columns</p>\n",
       "</div>"
      ],
      "text/plain": [
       "      Age     Sex ChestPainType  RestingBP  Cholesterol  FastingBS RestingECG  \\\n",
       "0      40    Male           ATA        140          289          0     Normal   \n",
       "1      49  Female           NAP        160          180          0     Normal   \n",
       "2      37    Male           ATA        130          283          0         ST   \n",
       "3      48  Female           ASY        138         <NA>          0     Normal   \n",
       "4      54    Male           NAP        150          195          0     Normal   \n",
       "...   ...     ...           ...        ...          ...        ...        ...   \n",
       "2865   29    Male           ATA        140          263          0     Normal   \n",
       "2866   52    Male           ASY        125          212          0     Normal   \n",
       "2867   49    Male           ASY        140          234          0     Normal   \n",
       "2868   53    Male           ASY        110          231          0     Normal   \n",
       "2869   62    Male           ASY        116            0          1     Normal   \n",
       "\n",
       "      MaxHR ExerciseAngina  Oldpeak ST_Slope  HeartDisease  \n",
       "0       172              N      0.0       Up             0  \n",
       "1       156              N      1.0     Flat             1  \n",
       "2        98              N      0.0       Up             0  \n",
       "3       108              Y      1.5     Flat             1  \n",
       "4       122              N      0.0       Up             0  \n",
       "...     ...            ...      ...      ...           ...  \n",
       "2865    170             No      0.0       Up             0  \n",
       "2866    168             No      1.0       Up             1  \n",
       "2867    140              Y      1.0     Flat             1  \n",
       "2868    159             No      0.0       Up             1  \n",
       "2869     74            Yes     -0.4     Flat             1  \n",
       "\n",
       "[2870 rows x 12 columns]"
      ]
     },
     "execution_count": 172,
     "metadata": {},
     "output_type": "execute_result"
    }
   ],
   "source": [
    "df"
   ]
  },
  {
   "cell_type": "code",
   "execution_count": 173,
   "metadata": {},
   "outputs": [
    {
     "data": {
      "text/plain": [
       "Age                 int64\n",
       "Sex                object\n",
       "ChestPainType      object\n",
       "RestingBP           Int64\n",
       "Cholesterol         Int64\n",
       "FastingBS           int64\n",
       "RestingECG         object\n",
       "MaxHR               Int64\n",
       "ExerciseAngina     object\n",
       "Oldpeak           float64\n",
       "ST_Slope           object\n",
       "HeartDisease        int64\n",
       "dtype: object"
      ]
     },
     "execution_count": 173,
     "metadata": {},
     "output_type": "execute_result"
    }
   ],
   "source": [
    "df.dtypes"
   ]
  },
  {
   "cell_type": "markdown",
   "metadata": {},
   "source": [
    "**Handle not realistic value (RestingBP, Cholesterol,Oldpeak)**"
   ]
  },
  {
   "cell_type": "markdown",
   "metadata": {},
   "source": [
    "####    All this an errors in data collection\n",
    "- the min value in  2 columns = 0 (RestingBP, Cholesterol) is not realistic\n",
    "- An Oldpeak value of -2.6 mm is not realistic because ST depression (Oldpeak) cannot be negative"
   ]
  },
  {
   "cell_type": "code",
   "execution_count": 174,
   "metadata": {},
   "outputs": [
    {
     "name": "stdout",
     "output_type": "stream",
     "text": [
      "49\n"
     ]
    }
   ],
   "source": [
    "print((df['Oldpeak'] < 0).sum())"
   ]
  },
  {
   "cell_type": "code",
   "execution_count": 175,
   "metadata": {},
   "outputs": [
    {
     "data": {
      "application/vnd.microsoft.datawrangler.viewer.v0+json": {
       "columns": [
        {
         "name": "index",
         "rawType": "int64",
         "type": "integer"
        },
        {
         "name": "Age",
         "rawType": "int64",
         "type": "integer"
        },
        {
         "name": "Sex",
         "rawType": "object",
         "type": "unknown"
        },
        {
         "name": "ChestPainType",
         "rawType": "object",
         "type": "string"
        },
        {
         "name": "RestingBP",
         "rawType": "Int64",
         "type": "integer"
        },
        {
         "name": "Cholesterol",
         "rawType": "Int64",
         "type": "integer"
        },
        {
         "name": "FastingBS",
         "rawType": "int64",
         "type": "integer"
        },
        {
         "name": "RestingECG",
         "rawType": "object",
         "type": "string"
        },
        {
         "name": "MaxHR",
         "rawType": "Int64",
         "type": "integer"
        },
        {
         "name": "ExerciseAngina",
         "rawType": "object",
         "type": "string"
        },
        {
         "name": "Oldpeak",
         "rawType": "float64",
         "type": "float"
        },
        {
         "name": "ST_Slope",
         "rawType": "object",
         "type": "string"
        },
        {
         "name": "HeartDisease",
         "rawType": "int64",
         "type": "integer"
        }
       ],
       "conversionMethod": "pd.DataFrame",
       "ref": "739f3bb4-c02f-422e-9d1f-53cd9e992332",
       "rows": [
        [
         "321",
         "63",
         "Male",
         "ASY",
         "100",
         "0",
         "1",
         "Normal",
         "109",
         "No",
         "-0.9",
         "Flat",
         "1"
        ],
        [
         "324",
         "46",
         "Male",
         "ASY",
         "100",
         null,
         "1",
         "ST",
         "133",
         "No",
         "-2.6",
         "Flat",
         "1"
        ],
        [
         "325",
         "42",
         "Male",
         "ASY",
         "105",
         null,
         "1",
         "Normal",
         "128",
         "Yes",
         "-1.5",
         "Down",
         "1"
        ],
        [
         "326",
         "45",
         "Male",
         "NAP",
         "110",
         "0",
         "0",
         "Normal",
         "138",
         "N",
         "-0.1",
         "Up",
         "0"
        ],
        [
         "331",
         "56",
         "Male",
         "ASY",
         "115",
         "0",
         "1",
         "ST",
         "82",
         "No",
         "-1.0",
         "Up",
         "1"
        ],
        [
         "332",
         "38",
         "Male",
         "NAP",
         "100",
         "0",
         "0",
         "Normal",
         "179",
         "No",
         "-1.1",
         "Up",
         "0"
        ],
        [
         "334",
         "51",
         "Male",
         "ASY",
         "130",
         "0",
         "1",
         "Normal",
         "170",
         "N",
         "-0.7",
         "Up",
         "1"
        ],
        [
         "335",
         "62",
         "Male",
         "TA",
         "120",
         "0",
         "1",
         "LVH",
         "134",
         "N",
         "-0.8",
         "Flat",
         "1"
        ],
        [
         "352",
         "56",
         null,
         "ASY",
         "120",
         "0",
         "0",
         "ST",
         "100",
         "Y",
         "-1.0",
         "Down",
         "1"
        ],
        [
         "407",
         "62",
         "Male",
         "ASY",
         "115",
         "0",
         "1",
         "Normal",
         "72",
         "Yes",
         "-0.5",
         "Flat",
         "1"
        ],
        [
         "413",
         "56",
         "Male",
         "NAP",
         "125",
         "0",
         "1",
         "Normal",
         "98",
         "N",
         "-2.0",
         "Flat",
         "1"
        ],
        [
         "421",
         "66",
         "Male",
         "NAP",
         "120",
         "0",
         "0",
         "ST",
         "120",
         "N",
         "-0.5",
         "Up",
         "0"
        ],
        [
         "512",
         "35",
         "Male",
         "NAP",
         "123",
         "161",
         "0",
         "ST",
         "153",
         "N",
         "-0.1",
         "Up",
         "0"
        ],
        [
         "991",
         "60",
         "Male",
         "ASY",
         "118",
         "0",
         "0",
         "ST",
         "98",
         "Y",
         "-0.7",
         "Down",
         "1"
        ],
        [
         "1068",
         "41",
         "Male",
         "ASY",
         "121",
         "0",
         "1",
         "Normal",
         "160",
         "No",
         "-0.2",
         "Up",
         "1"
        ],
        [
         "1086",
         "53",
         "Male",
         "ASY",
         null,
         "0",
         "1",
         "Normal",
         "96",
         "N",
         "-0.4",
         "Flat",
         "1"
        ],
        [
         "1214",
         "60",
         "Male",
         "ASY",
         "112",
         "0",
         "1",
         "Normal",
         "84",
         "N",
         "-0.2",
         "Flat",
         "1"
        ],
        [
         "1219",
         "60",
         "Male",
         "ASY",
         "107",
         "0",
         "1",
         "Normal",
         "97",
         "N",
         "-0.9",
         "Flat",
         "1"
        ],
        [
         "1419",
         "59",
         "Male",
         "ASY",
         "109",
         "0",
         "1",
         "Normal",
         "75",
         "Yes",
         "-0.1",
         "Flat",
         "1"
        ],
        [
         "1459",
         "62",
         "Male",
         "TA",
         "116",
         null,
         "1",
         "LVH",
         "129",
         "N",
         "-0.8",
         "Flat",
         "1"
        ],
        [
         "1463",
         "57",
         "Male",
         "ASY",
         "111",
         "0",
         "1",
         "Normal",
         "115",
         "No",
         "-0.4",
         "Flat",
         "1"
        ],
        [
         "1509",
         "61",
         "Male",
         "ASY",
         "100",
         "0",
         "1",
         "Normal",
         "112",
         "N",
         "-1.1",
         "Flat",
         "1"
        ],
        [
         "1529",
         "51",
         "Male",
         "ASY",
         "130",
         "0",
         "1",
         "Normal",
         "168",
         "N",
         "-0.5",
         "Up",
         "1"
        ],
        [
         "1561",
         "62",
         "Male",
         "TA",
         "110",
         "0",
         "1",
         "LVH",
         "122",
         "No",
         "-0.8",
         "Flat",
         "1"
        ],
        [
         "1580",
         "41",
         "Male",
         "ASY",
         "106",
         "0",
         "1",
         "Normal",
         "128",
         "Yes",
         "-1.2",
         "Down",
         "1"
        ],
        [
         "1638",
         "44",
         "Male",
         "ASY",
         "109",
         "0",
         "1",
         "Normal",
         "128",
         "Y",
         "-0.9",
         "Down",
         "1"
        ],
        [
         "1694",
         "63",
         "Male",
         "ASY",
         "107",
         "0",
         "1",
         "Normal",
         "117",
         "No",
         "-0.9",
         "Flat",
         "1"
        ],
        [
         "1734",
         "62",
         "Male",
         "ASY",
         "116",
         "0",
         "1",
         "Normal",
         "74",
         "Y",
         "-0.4",
         "Flat",
         "1"
        ],
        [
         "1768",
         "56",
         "Male",
         "ASY",
         "111",
         "0",
         "1",
         "Normal",
         null,
         "N",
         "-0.4",
         "Flat",
         "1"
        ],
        [
         "1879",
         "62",
         "Female",
         "TA",
         "137",
         "0",
         "1",
         "Normal",
         "142",
         "N",
         "-0.1",
         "Flat",
         "1"
        ],
        [
         "1934",
         "42",
         "Male",
         "ASY",
         null,
         "0",
         "1",
         "Normal",
         "161",
         "N",
         "-0.2",
         "Up",
         "1"
        ],
        [
         "2024",
         "51",
         "Male",
         "ASY",
         "130",
         "0",
         "1",
         "Normal",
         "170",
         "N",
         "-0.7",
         "Up",
         "1"
        ],
        [
         "2080",
         "66",
         "Male",
         "ASY",
         "132",
         "0",
         "0",
         "ST",
         "117",
         "Y",
         "-0.2",
         "Up",
         "1"
        ],
        [
         "2114",
         "59",
         "Male",
         "ASY",
         "108",
         "0",
         "1",
         "Normal",
         "75",
         "Y",
         "-0.1",
         "Flat",
         "1"
        ],
        [
         "2134",
         "48",
         "Male",
         "ASY",
         "127",
         "0",
         "1",
         "Normal",
         null,
         "No",
         "-0.5",
         "Up",
         "1"
        ],
        [
         "2144",
         "58",
         "Male",
         "TA",
         "120",
         "0",
         "1",
         "LVH",
         "129",
         "No",
         "-0.5",
         "Flat",
         "1"
        ],
        [
         "2222",
         "44",
         "Male",
         "ASY",
         null,
         "0",
         "1",
         "Normal",
         "163",
         "N",
         "-0.3",
         "Up",
         "1"
        ],
        [
         "2317",
         "58",
         null,
         "ASY",
         "110",
         null,
         "1",
         "ST",
         "91",
         "N",
         "-1.0",
         "Up",
         "1"
        ],
        [
         "2340",
         "57",
         "Male",
         "ASY",
         "114",
         "0",
         "1",
         "ST",
         "85",
         "N",
         "-1.0",
         "Up",
         "1"
        ],
        [
         "2343",
         "50",
         "Male",
         "ASY",
         "116",
         "0",
         "1",
         "Normal",
         "122",
         "N",
         "-0.4",
         "Flat",
         "1"
        ],
        [
         "2415",
         "56",
         "Male",
         "ASY",
         "120",
         "0",
         "0",
         "ST",
         "99",
         "Yes",
         "-0.8",
         "Down",
         "1"
        ],
        [
         "2416",
         "64",
         "Male",
         "ASY",
         "117",
         "0",
         "0",
         "ST",
         "95",
         "Y",
         "-0.4",
         "Flat",
         "1"
        ],
        [
         "2480",
         "62",
         "Male",
         "TA",
         "118",
         null,
         "1",
         "LVH",
         "132",
         "No",
         "-0.8",
         "Flat",
         "1"
        ],
        [
         "2586",
         "57",
         "Male",
         "ASY",
         "122",
         "0",
         "0",
         "ST",
         "102",
         "Y",
         "-0.9",
         "Down",
         "1"
        ],
        [
         "2654",
         "61",
         "Male",
         "ASY",
         "119",
         "0",
         "1",
         "Normal",
         "76",
         "Y",
         "-0.4",
         "Flat",
         "1"
        ],
        [
         "2708",
         "57",
         "Male",
         "NAP",
         "122",
         "0",
         "1",
         "Normal",
         "97",
         "N",
         "-1.6",
         "Flat",
         "1"
        ],
        [
         "2731",
         "55",
         "Male",
         "ASY",
         "120",
         null,
         "1",
         "Normal",
         "122",
         "N",
         "-0.1",
         "Flat",
         "1"
        ],
        [
         "2794",
         "61",
         "Male",
         "ASY",
         "112",
         "0",
         "1",
         "Normal",
         "73",
         "Yes",
         "-0.3",
         "Flat",
         "1"
        ],
        [
         "2869",
         "62",
         "Male",
         "ASY",
         "116",
         "0",
         "1",
         "Normal",
         "74",
         "Yes",
         "-0.4",
         "Flat",
         "1"
        ]
       ],
       "shape": {
        "columns": 12,
        "rows": 49
       }
      },
      "text/html": [
       "<div>\n",
       "<style scoped>\n",
       "    .dataframe tbody tr th:only-of-type {\n",
       "        vertical-align: middle;\n",
       "    }\n",
       "\n",
       "    .dataframe tbody tr th {\n",
       "        vertical-align: top;\n",
       "    }\n",
       "\n",
       "    .dataframe thead th {\n",
       "        text-align: right;\n",
       "    }\n",
       "</style>\n",
       "<table border=\"1\" class=\"dataframe\">\n",
       "  <thead>\n",
       "    <tr style=\"text-align: right;\">\n",
       "      <th></th>\n",
       "      <th>Age</th>\n",
       "      <th>Sex</th>\n",
       "      <th>ChestPainType</th>\n",
       "      <th>RestingBP</th>\n",
       "      <th>Cholesterol</th>\n",
       "      <th>FastingBS</th>\n",
       "      <th>RestingECG</th>\n",
       "      <th>MaxHR</th>\n",
       "      <th>ExerciseAngina</th>\n",
       "      <th>Oldpeak</th>\n",
       "      <th>ST_Slope</th>\n",
       "      <th>HeartDisease</th>\n",
       "    </tr>\n",
       "  </thead>\n",
       "  <tbody>\n",
       "    <tr>\n",
       "      <th>321</th>\n",
       "      <td>63</td>\n",
       "      <td>Male</td>\n",
       "      <td>ASY</td>\n",
       "      <td>100</td>\n",
       "      <td>0</td>\n",
       "      <td>1</td>\n",
       "      <td>Normal</td>\n",
       "      <td>109</td>\n",
       "      <td>No</td>\n",
       "      <td>-0.9</td>\n",
       "      <td>Flat</td>\n",
       "      <td>1</td>\n",
       "    </tr>\n",
       "    <tr>\n",
       "      <th>324</th>\n",
       "      <td>46</td>\n",
       "      <td>Male</td>\n",
       "      <td>ASY</td>\n",
       "      <td>100</td>\n",
       "      <td>&lt;NA&gt;</td>\n",
       "      <td>1</td>\n",
       "      <td>ST</td>\n",
       "      <td>133</td>\n",
       "      <td>No</td>\n",
       "      <td>-2.6</td>\n",
       "      <td>Flat</td>\n",
       "      <td>1</td>\n",
       "    </tr>\n",
       "    <tr>\n",
       "      <th>325</th>\n",
       "      <td>42</td>\n",
       "      <td>Male</td>\n",
       "      <td>ASY</td>\n",
       "      <td>105</td>\n",
       "      <td>&lt;NA&gt;</td>\n",
       "      <td>1</td>\n",
       "      <td>Normal</td>\n",
       "      <td>128</td>\n",
       "      <td>Yes</td>\n",
       "      <td>-1.5</td>\n",
       "      <td>Down</td>\n",
       "      <td>1</td>\n",
       "    </tr>\n",
       "    <tr>\n",
       "      <th>326</th>\n",
       "      <td>45</td>\n",
       "      <td>Male</td>\n",
       "      <td>NAP</td>\n",
       "      <td>110</td>\n",
       "      <td>0</td>\n",
       "      <td>0</td>\n",
       "      <td>Normal</td>\n",
       "      <td>138</td>\n",
       "      <td>N</td>\n",
       "      <td>-0.1</td>\n",
       "      <td>Up</td>\n",
       "      <td>0</td>\n",
       "    </tr>\n",
       "    <tr>\n",
       "      <th>331</th>\n",
       "      <td>56</td>\n",
       "      <td>Male</td>\n",
       "      <td>ASY</td>\n",
       "      <td>115</td>\n",
       "      <td>0</td>\n",
       "      <td>1</td>\n",
       "      <td>ST</td>\n",
       "      <td>82</td>\n",
       "      <td>No</td>\n",
       "      <td>-1.0</td>\n",
       "      <td>Up</td>\n",
       "      <td>1</td>\n",
       "    </tr>\n",
       "    <tr>\n",
       "      <th>332</th>\n",
       "      <td>38</td>\n",
       "      <td>Male</td>\n",
       "      <td>NAP</td>\n",
       "      <td>100</td>\n",
       "      <td>0</td>\n",
       "      <td>0</td>\n",
       "      <td>Normal</td>\n",
       "      <td>179</td>\n",
       "      <td>No</td>\n",
       "      <td>-1.1</td>\n",
       "      <td>Up</td>\n",
       "      <td>0</td>\n",
       "    </tr>\n",
       "    <tr>\n",
       "      <th>334</th>\n",
       "      <td>51</td>\n",
       "      <td>Male</td>\n",
       "      <td>ASY</td>\n",
       "      <td>130</td>\n",
       "      <td>0</td>\n",
       "      <td>1</td>\n",
       "      <td>Normal</td>\n",
       "      <td>170</td>\n",
       "      <td>N</td>\n",
       "      <td>-0.7</td>\n",
       "      <td>Up</td>\n",
       "      <td>1</td>\n",
       "    </tr>\n",
       "    <tr>\n",
       "      <th>335</th>\n",
       "      <td>62</td>\n",
       "      <td>Male</td>\n",
       "      <td>TA</td>\n",
       "      <td>120</td>\n",
       "      <td>0</td>\n",
       "      <td>1</td>\n",
       "      <td>LVH</td>\n",
       "      <td>134</td>\n",
       "      <td>N</td>\n",
       "      <td>-0.8</td>\n",
       "      <td>Flat</td>\n",
       "      <td>1</td>\n",
       "    </tr>\n",
       "    <tr>\n",
       "      <th>352</th>\n",
       "      <td>56</td>\n",
       "      <td>NaN</td>\n",
       "      <td>ASY</td>\n",
       "      <td>120</td>\n",
       "      <td>0</td>\n",
       "      <td>0</td>\n",
       "      <td>ST</td>\n",
       "      <td>100</td>\n",
       "      <td>Y</td>\n",
       "      <td>-1.0</td>\n",
       "      <td>Down</td>\n",
       "      <td>1</td>\n",
       "    </tr>\n",
       "    <tr>\n",
       "      <th>407</th>\n",
       "      <td>62</td>\n",
       "      <td>Male</td>\n",
       "      <td>ASY</td>\n",
       "      <td>115</td>\n",
       "      <td>0</td>\n",
       "      <td>1</td>\n",
       "      <td>Normal</td>\n",
       "      <td>72</td>\n",
       "      <td>Yes</td>\n",
       "      <td>-0.5</td>\n",
       "      <td>Flat</td>\n",
       "      <td>1</td>\n",
       "    </tr>\n",
       "    <tr>\n",
       "      <th>413</th>\n",
       "      <td>56</td>\n",
       "      <td>Male</td>\n",
       "      <td>NAP</td>\n",
       "      <td>125</td>\n",
       "      <td>0</td>\n",
       "      <td>1</td>\n",
       "      <td>Normal</td>\n",
       "      <td>98</td>\n",
       "      <td>N</td>\n",
       "      <td>-2.0</td>\n",
       "      <td>Flat</td>\n",
       "      <td>1</td>\n",
       "    </tr>\n",
       "    <tr>\n",
       "      <th>421</th>\n",
       "      <td>66</td>\n",
       "      <td>Male</td>\n",
       "      <td>NAP</td>\n",
       "      <td>120</td>\n",
       "      <td>0</td>\n",
       "      <td>0</td>\n",
       "      <td>ST</td>\n",
       "      <td>120</td>\n",
       "      <td>N</td>\n",
       "      <td>-0.5</td>\n",
       "      <td>Up</td>\n",
       "      <td>0</td>\n",
       "    </tr>\n",
       "    <tr>\n",
       "      <th>512</th>\n",
       "      <td>35</td>\n",
       "      <td>Male</td>\n",
       "      <td>NAP</td>\n",
       "      <td>123</td>\n",
       "      <td>161</td>\n",
       "      <td>0</td>\n",
       "      <td>ST</td>\n",
       "      <td>153</td>\n",
       "      <td>N</td>\n",
       "      <td>-0.1</td>\n",
       "      <td>Up</td>\n",
       "      <td>0</td>\n",
       "    </tr>\n",
       "    <tr>\n",
       "      <th>991</th>\n",
       "      <td>60</td>\n",
       "      <td>Male</td>\n",
       "      <td>ASY</td>\n",
       "      <td>118</td>\n",
       "      <td>0</td>\n",
       "      <td>0</td>\n",
       "      <td>ST</td>\n",
       "      <td>98</td>\n",
       "      <td>Y</td>\n",
       "      <td>-0.7</td>\n",
       "      <td>Down</td>\n",
       "      <td>1</td>\n",
       "    </tr>\n",
       "    <tr>\n",
       "      <th>1068</th>\n",
       "      <td>41</td>\n",
       "      <td>Male</td>\n",
       "      <td>ASY</td>\n",
       "      <td>121</td>\n",
       "      <td>0</td>\n",
       "      <td>1</td>\n",
       "      <td>Normal</td>\n",
       "      <td>160</td>\n",
       "      <td>No</td>\n",
       "      <td>-0.2</td>\n",
       "      <td>Up</td>\n",
       "      <td>1</td>\n",
       "    </tr>\n",
       "    <tr>\n",
       "      <th>1086</th>\n",
       "      <td>53</td>\n",
       "      <td>Male</td>\n",
       "      <td>ASY</td>\n",
       "      <td>&lt;NA&gt;</td>\n",
       "      <td>0</td>\n",
       "      <td>1</td>\n",
       "      <td>Normal</td>\n",
       "      <td>96</td>\n",
       "      <td>N</td>\n",
       "      <td>-0.4</td>\n",
       "      <td>Flat</td>\n",
       "      <td>1</td>\n",
       "    </tr>\n",
       "    <tr>\n",
       "      <th>1214</th>\n",
       "      <td>60</td>\n",
       "      <td>Male</td>\n",
       "      <td>ASY</td>\n",
       "      <td>112</td>\n",
       "      <td>0</td>\n",
       "      <td>1</td>\n",
       "      <td>Normal</td>\n",
       "      <td>84</td>\n",
       "      <td>N</td>\n",
       "      <td>-0.2</td>\n",
       "      <td>Flat</td>\n",
       "      <td>1</td>\n",
       "    </tr>\n",
       "    <tr>\n",
       "      <th>1219</th>\n",
       "      <td>60</td>\n",
       "      <td>Male</td>\n",
       "      <td>ASY</td>\n",
       "      <td>107</td>\n",
       "      <td>0</td>\n",
       "      <td>1</td>\n",
       "      <td>Normal</td>\n",
       "      <td>97</td>\n",
       "      <td>N</td>\n",
       "      <td>-0.9</td>\n",
       "      <td>Flat</td>\n",
       "      <td>1</td>\n",
       "    </tr>\n",
       "    <tr>\n",
       "      <th>1419</th>\n",
       "      <td>59</td>\n",
       "      <td>Male</td>\n",
       "      <td>ASY</td>\n",
       "      <td>109</td>\n",
       "      <td>0</td>\n",
       "      <td>1</td>\n",
       "      <td>Normal</td>\n",
       "      <td>75</td>\n",
       "      <td>Yes</td>\n",
       "      <td>-0.1</td>\n",
       "      <td>Flat</td>\n",
       "      <td>1</td>\n",
       "    </tr>\n",
       "    <tr>\n",
       "      <th>1459</th>\n",
       "      <td>62</td>\n",
       "      <td>Male</td>\n",
       "      <td>TA</td>\n",
       "      <td>116</td>\n",
       "      <td>&lt;NA&gt;</td>\n",
       "      <td>1</td>\n",
       "      <td>LVH</td>\n",
       "      <td>129</td>\n",
       "      <td>N</td>\n",
       "      <td>-0.8</td>\n",
       "      <td>Flat</td>\n",
       "      <td>1</td>\n",
       "    </tr>\n",
       "    <tr>\n",
       "      <th>1463</th>\n",
       "      <td>57</td>\n",
       "      <td>Male</td>\n",
       "      <td>ASY</td>\n",
       "      <td>111</td>\n",
       "      <td>0</td>\n",
       "      <td>1</td>\n",
       "      <td>Normal</td>\n",
       "      <td>115</td>\n",
       "      <td>No</td>\n",
       "      <td>-0.4</td>\n",
       "      <td>Flat</td>\n",
       "      <td>1</td>\n",
       "    </tr>\n",
       "    <tr>\n",
       "      <th>1509</th>\n",
       "      <td>61</td>\n",
       "      <td>Male</td>\n",
       "      <td>ASY</td>\n",
       "      <td>100</td>\n",
       "      <td>0</td>\n",
       "      <td>1</td>\n",
       "      <td>Normal</td>\n",
       "      <td>112</td>\n",
       "      <td>N</td>\n",
       "      <td>-1.1</td>\n",
       "      <td>Flat</td>\n",
       "      <td>1</td>\n",
       "    </tr>\n",
       "    <tr>\n",
       "      <th>1529</th>\n",
       "      <td>51</td>\n",
       "      <td>Male</td>\n",
       "      <td>ASY</td>\n",
       "      <td>130</td>\n",
       "      <td>0</td>\n",
       "      <td>1</td>\n",
       "      <td>Normal</td>\n",
       "      <td>168</td>\n",
       "      <td>N</td>\n",
       "      <td>-0.5</td>\n",
       "      <td>Up</td>\n",
       "      <td>1</td>\n",
       "    </tr>\n",
       "    <tr>\n",
       "      <th>1561</th>\n",
       "      <td>62</td>\n",
       "      <td>Male</td>\n",
       "      <td>TA</td>\n",
       "      <td>110</td>\n",
       "      <td>0</td>\n",
       "      <td>1</td>\n",
       "      <td>LVH</td>\n",
       "      <td>122</td>\n",
       "      <td>No</td>\n",
       "      <td>-0.8</td>\n",
       "      <td>Flat</td>\n",
       "      <td>1</td>\n",
       "    </tr>\n",
       "    <tr>\n",
       "      <th>1580</th>\n",
       "      <td>41</td>\n",
       "      <td>Male</td>\n",
       "      <td>ASY</td>\n",
       "      <td>106</td>\n",
       "      <td>0</td>\n",
       "      <td>1</td>\n",
       "      <td>Normal</td>\n",
       "      <td>128</td>\n",
       "      <td>Yes</td>\n",
       "      <td>-1.2</td>\n",
       "      <td>Down</td>\n",
       "      <td>1</td>\n",
       "    </tr>\n",
       "    <tr>\n",
       "      <th>1638</th>\n",
       "      <td>44</td>\n",
       "      <td>Male</td>\n",
       "      <td>ASY</td>\n",
       "      <td>109</td>\n",
       "      <td>0</td>\n",
       "      <td>1</td>\n",
       "      <td>Normal</td>\n",
       "      <td>128</td>\n",
       "      <td>Y</td>\n",
       "      <td>-0.9</td>\n",
       "      <td>Down</td>\n",
       "      <td>1</td>\n",
       "    </tr>\n",
       "    <tr>\n",
       "      <th>1694</th>\n",
       "      <td>63</td>\n",
       "      <td>Male</td>\n",
       "      <td>ASY</td>\n",
       "      <td>107</td>\n",
       "      <td>0</td>\n",
       "      <td>1</td>\n",
       "      <td>Normal</td>\n",
       "      <td>117</td>\n",
       "      <td>No</td>\n",
       "      <td>-0.9</td>\n",
       "      <td>Flat</td>\n",
       "      <td>1</td>\n",
       "    </tr>\n",
       "    <tr>\n",
       "      <th>1734</th>\n",
       "      <td>62</td>\n",
       "      <td>Male</td>\n",
       "      <td>ASY</td>\n",
       "      <td>116</td>\n",
       "      <td>0</td>\n",
       "      <td>1</td>\n",
       "      <td>Normal</td>\n",
       "      <td>74</td>\n",
       "      <td>Y</td>\n",
       "      <td>-0.4</td>\n",
       "      <td>Flat</td>\n",
       "      <td>1</td>\n",
       "    </tr>\n",
       "    <tr>\n",
       "      <th>1768</th>\n",
       "      <td>56</td>\n",
       "      <td>Male</td>\n",
       "      <td>ASY</td>\n",
       "      <td>111</td>\n",
       "      <td>0</td>\n",
       "      <td>1</td>\n",
       "      <td>Normal</td>\n",
       "      <td>&lt;NA&gt;</td>\n",
       "      <td>N</td>\n",
       "      <td>-0.4</td>\n",
       "      <td>Flat</td>\n",
       "      <td>1</td>\n",
       "    </tr>\n",
       "    <tr>\n",
       "      <th>1879</th>\n",
       "      <td>62</td>\n",
       "      <td>Female</td>\n",
       "      <td>TA</td>\n",
       "      <td>137</td>\n",
       "      <td>0</td>\n",
       "      <td>1</td>\n",
       "      <td>Normal</td>\n",
       "      <td>142</td>\n",
       "      <td>N</td>\n",
       "      <td>-0.1</td>\n",
       "      <td>Flat</td>\n",
       "      <td>1</td>\n",
       "    </tr>\n",
       "    <tr>\n",
       "      <th>1934</th>\n",
       "      <td>42</td>\n",
       "      <td>Male</td>\n",
       "      <td>ASY</td>\n",
       "      <td>&lt;NA&gt;</td>\n",
       "      <td>0</td>\n",
       "      <td>1</td>\n",
       "      <td>Normal</td>\n",
       "      <td>161</td>\n",
       "      <td>N</td>\n",
       "      <td>-0.2</td>\n",
       "      <td>Up</td>\n",
       "      <td>1</td>\n",
       "    </tr>\n",
       "    <tr>\n",
       "      <th>2024</th>\n",
       "      <td>51</td>\n",
       "      <td>Male</td>\n",
       "      <td>ASY</td>\n",
       "      <td>130</td>\n",
       "      <td>0</td>\n",
       "      <td>1</td>\n",
       "      <td>Normal</td>\n",
       "      <td>170</td>\n",
       "      <td>N</td>\n",
       "      <td>-0.7</td>\n",
       "      <td>Up</td>\n",
       "      <td>1</td>\n",
       "    </tr>\n",
       "    <tr>\n",
       "      <th>2080</th>\n",
       "      <td>66</td>\n",
       "      <td>Male</td>\n",
       "      <td>ASY</td>\n",
       "      <td>132</td>\n",
       "      <td>0</td>\n",
       "      <td>0</td>\n",
       "      <td>ST</td>\n",
       "      <td>117</td>\n",
       "      <td>Y</td>\n",
       "      <td>-0.2</td>\n",
       "      <td>Up</td>\n",
       "      <td>1</td>\n",
       "    </tr>\n",
       "    <tr>\n",
       "      <th>2114</th>\n",
       "      <td>59</td>\n",
       "      <td>Male</td>\n",
       "      <td>ASY</td>\n",
       "      <td>108</td>\n",
       "      <td>0</td>\n",
       "      <td>1</td>\n",
       "      <td>Normal</td>\n",
       "      <td>75</td>\n",
       "      <td>Y</td>\n",
       "      <td>-0.1</td>\n",
       "      <td>Flat</td>\n",
       "      <td>1</td>\n",
       "    </tr>\n",
       "    <tr>\n",
       "      <th>2134</th>\n",
       "      <td>48</td>\n",
       "      <td>Male</td>\n",
       "      <td>ASY</td>\n",
       "      <td>127</td>\n",
       "      <td>0</td>\n",
       "      <td>1</td>\n",
       "      <td>Normal</td>\n",
       "      <td>&lt;NA&gt;</td>\n",
       "      <td>No</td>\n",
       "      <td>-0.5</td>\n",
       "      <td>Up</td>\n",
       "      <td>1</td>\n",
       "    </tr>\n",
       "    <tr>\n",
       "      <th>2144</th>\n",
       "      <td>58</td>\n",
       "      <td>Male</td>\n",
       "      <td>TA</td>\n",
       "      <td>120</td>\n",
       "      <td>0</td>\n",
       "      <td>1</td>\n",
       "      <td>LVH</td>\n",
       "      <td>129</td>\n",
       "      <td>No</td>\n",
       "      <td>-0.5</td>\n",
       "      <td>Flat</td>\n",
       "      <td>1</td>\n",
       "    </tr>\n",
       "    <tr>\n",
       "      <th>2222</th>\n",
       "      <td>44</td>\n",
       "      <td>Male</td>\n",
       "      <td>ASY</td>\n",
       "      <td>&lt;NA&gt;</td>\n",
       "      <td>0</td>\n",
       "      <td>1</td>\n",
       "      <td>Normal</td>\n",
       "      <td>163</td>\n",
       "      <td>N</td>\n",
       "      <td>-0.3</td>\n",
       "      <td>Up</td>\n",
       "      <td>1</td>\n",
       "    </tr>\n",
       "    <tr>\n",
       "      <th>2317</th>\n",
       "      <td>58</td>\n",
       "      <td>NaN</td>\n",
       "      <td>ASY</td>\n",
       "      <td>110</td>\n",
       "      <td>&lt;NA&gt;</td>\n",
       "      <td>1</td>\n",
       "      <td>ST</td>\n",
       "      <td>91</td>\n",
       "      <td>N</td>\n",
       "      <td>-1.0</td>\n",
       "      <td>Up</td>\n",
       "      <td>1</td>\n",
       "    </tr>\n",
       "    <tr>\n",
       "      <th>2340</th>\n",
       "      <td>57</td>\n",
       "      <td>Male</td>\n",
       "      <td>ASY</td>\n",
       "      <td>114</td>\n",
       "      <td>0</td>\n",
       "      <td>1</td>\n",
       "      <td>ST</td>\n",
       "      <td>85</td>\n",
       "      <td>N</td>\n",
       "      <td>-1.0</td>\n",
       "      <td>Up</td>\n",
       "      <td>1</td>\n",
       "    </tr>\n",
       "    <tr>\n",
       "      <th>2343</th>\n",
       "      <td>50</td>\n",
       "      <td>Male</td>\n",
       "      <td>ASY</td>\n",
       "      <td>116</td>\n",
       "      <td>0</td>\n",
       "      <td>1</td>\n",
       "      <td>Normal</td>\n",
       "      <td>122</td>\n",
       "      <td>N</td>\n",
       "      <td>-0.4</td>\n",
       "      <td>Flat</td>\n",
       "      <td>1</td>\n",
       "    </tr>\n",
       "    <tr>\n",
       "      <th>2415</th>\n",
       "      <td>56</td>\n",
       "      <td>Male</td>\n",
       "      <td>ASY</td>\n",
       "      <td>120</td>\n",
       "      <td>0</td>\n",
       "      <td>0</td>\n",
       "      <td>ST</td>\n",
       "      <td>99</td>\n",
       "      <td>Yes</td>\n",
       "      <td>-0.8</td>\n",
       "      <td>Down</td>\n",
       "      <td>1</td>\n",
       "    </tr>\n",
       "    <tr>\n",
       "      <th>2416</th>\n",
       "      <td>64</td>\n",
       "      <td>Male</td>\n",
       "      <td>ASY</td>\n",
       "      <td>117</td>\n",
       "      <td>0</td>\n",
       "      <td>0</td>\n",
       "      <td>ST</td>\n",
       "      <td>95</td>\n",
       "      <td>Y</td>\n",
       "      <td>-0.4</td>\n",
       "      <td>Flat</td>\n",
       "      <td>1</td>\n",
       "    </tr>\n",
       "    <tr>\n",
       "      <th>2480</th>\n",
       "      <td>62</td>\n",
       "      <td>Male</td>\n",
       "      <td>TA</td>\n",
       "      <td>118</td>\n",
       "      <td>&lt;NA&gt;</td>\n",
       "      <td>1</td>\n",
       "      <td>LVH</td>\n",
       "      <td>132</td>\n",
       "      <td>No</td>\n",
       "      <td>-0.8</td>\n",
       "      <td>Flat</td>\n",
       "      <td>1</td>\n",
       "    </tr>\n",
       "    <tr>\n",
       "      <th>2586</th>\n",
       "      <td>57</td>\n",
       "      <td>Male</td>\n",
       "      <td>ASY</td>\n",
       "      <td>122</td>\n",
       "      <td>0</td>\n",
       "      <td>0</td>\n",
       "      <td>ST</td>\n",
       "      <td>102</td>\n",
       "      <td>Y</td>\n",
       "      <td>-0.9</td>\n",
       "      <td>Down</td>\n",
       "      <td>1</td>\n",
       "    </tr>\n",
       "    <tr>\n",
       "      <th>2654</th>\n",
       "      <td>61</td>\n",
       "      <td>Male</td>\n",
       "      <td>ASY</td>\n",
       "      <td>119</td>\n",
       "      <td>0</td>\n",
       "      <td>1</td>\n",
       "      <td>Normal</td>\n",
       "      <td>76</td>\n",
       "      <td>Y</td>\n",
       "      <td>-0.4</td>\n",
       "      <td>Flat</td>\n",
       "      <td>1</td>\n",
       "    </tr>\n",
       "    <tr>\n",
       "      <th>2708</th>\n",
       "      <td>57</td>\n",
       "      <td>Male</td>\n",
       "      <td>NAP</td>\n",
       "      <td>122</td>\n",
       "      <td>0</td>\n",
       "      <td>1</td>\n",
       "      <td>Normal</td>\n",
       "      <td>97</td>\n",
       "      <td>N</td>\n",
       "      <td>-1.6</td>\n",
       "      <td>Flat</td>\n",
       "      <td>1</td>\n",
       "    </tr>\n",
       "    <tr>\n",
       "      <th>2731</th>\n",
       "      <td>55</td>\n",
       "      <td>Male</td>\n",
       "      <td>ASY</td>\n",
       "      <td>120</td>\n",
       "      <td>&lt;NA&gt;</td>\n",
       "      <td>1</td>\n",
       "      <td>Normal</td>\n",
       "      <td>122</td>\n",
       "      <td>N</td>\n",
       "      <td>-0.1</td>\n",
       "      <td>Flat</td>\n",
       "      <td>1</td>\n",
       "    </tr>\n",
       "    <tr>\n",
       "      <th>2794</th>\n",
       "      <td>61</td>\n",
       "      <td>Male</td>\n",
       "      <td>ASY</td>\n",
       "      <td>112</td>\n",
       "      <td>0</td>\n",
       "      <td>1</td>\n",
       "      <td>Normal</td>\n",
       "      <td>73</td>\n",
       "      <td>Yes</td>\n",
       "      <td>-0.3</td>\n",
       "      <td>Flat</td>\n",
       "      <td>1</td>\n",
       "    </tr>\n",
       "    <tr>\n",
       "      <th>2869</th>\n",
       "      <td>62</td>\n",
       "      <td>Male</td>\n",
       "      <td>ASY</td>\n",
       "      <td>116</td>\n",
       "      <td>0</td>\n",
       "      <td>1</td>\n",
       "      <td>Normal</td>\n",
       "      <td>74</td>\n",
       "      <td>Yes</td>\n",
       "      <td>-0.4</td>\n",
       "      <td>Flat</td>\n",
       "      <td>1</td>\n",
       "    </tr>\n",
       "  </tbody>\n",
       "</table>\n",
       "</div>"
      ],
      "text/plain": [
       "      Age     Sex ChestPainType  RestingBP  Cholesterol  FastingBS RestingECG  \\\n",
       "321    63    Male           ASY        100            0          1     Normal   \n",
       "324    46    Male           ASY        100         <NA>          1         ST   \n",
       "325    42    Male           ASY        105         <NA>          1     Normal   \n",
       "326    45    Male           NAP        110            0          0     Normal   \n",
       "331    56    Male           ASY        115            0          1         ST   \n",
       "332    38    Male           NAP        100            0          0     Normal   \n",
       "334    51    Male           ASY        130            0          1     Normal   \n",
       "335    62    Male            TA        120            0          1        LVH   \n",
       "352    56     NaN           ASY        120            0          0         ST   \n",
       "407    62    Male           ASY        115            0          1     Normal   \n",
       "413    56    Male           NAP        125            0          1     Normal   \n",
       "421    66    Male           NAP        120            0          0         ST   \n",
       "512    35    Male           NAP        123          161          0         ST   \n",
       "991    60    Male           ASY        118            0          0         ST   \n",
       "1068   41    Male           ASY        121            0          1     Normal   \n",
       "1086   53    Male           ASY       <NA>            0          1     Normal   \n",
       "1214   60    Male           ASY        112            0          1     Normal   \n",
       "1219   60    Male           ASY        107            0          1     Normal   \n",
       "1419   59    Male           ASY        109            0          1     Normal   \n",
       "1459   62    Male            TA        116         <NA>          1        LVH   \n",
       "1463   57    Male           ASY        111            0          1     Normal   \n",
       "1509   61    Male           ASY        100            0          1     Normal   \n",
       "1529   51    Male           ASY        130            0          1     Normal   \n",
       "1561   62    Male            TA        110            0          1        LVH   \n",
       "1580   41    Male           ASY        106            0          1     Normal   \n",
       "1638   44    Male           ASY        109            0          1     Normal   \n",
       "1694   63    Male           ASY        107            0          1     Normal   \n",
       "1734   62    Male           ASY        116            0          1     Normal   \n",
       "1768   56    Male           ASY        111            0          1     Normal   \n",
       "1879   62  Female            TA        137            0          1     Normal   \n",
       "1934   42    Male           ASY       <NA>            0          1     Normal   \n",
       "2024   51    Male           ASY        130            0          1     Normal   \n",
       "2080   66    Male           ASY        132            0          0         ST   \n",
       "2114   59    Male           ASY        108            0          1     Normal   \n",
       "2134   48    Male           ASY        127            0          1     Normal   \n",
       "2144   58    Male            TA        120            0          1        LVH   \n",
       "2222   44    Male           ASY       <NA>            0          1     Normal   \n",
       "2317   58     NaN           ASY        110         <NA>          1         ST   \n",
       "2340   57    Male           ASY        114            0          1         ST   \n",
       "2343   50    Male           ASY        116            0          1     Normal   \n",
       "2415   56    Male           ASY        120            0          0         ST   \n",
       "2416   64    Male           ASY        117            0          0         ST   \n",
       "2480   62    Male            TA        118         <NA>          1        LVH   \n",
       "2586   57    Male           ASY        122            0          0         ST   \n",
       "2654   61    Male           ASY        119            0          1     Normal   \n",
       "2708   57    Male           NAP        122            0          1     Normal   \n",
       "2731   55    Male           ASY        120         <NA>          1     Normal   \n",
       "2794   61    Male           ASY        112            0          1     Normal   \n",
       "2869   62    Male           ASY        116            0          1     Normal   \n",
       "\n",
       "      MaxHR ExerciseAngina  Oldpeak ST_Slope  HeartDisease  \n",
       "321     109             No     -0.9     Flat             1  \n",
       "324     133             No     -2.6     Flat             1  \n",
       "325     128            Yes     -1.5     Down             1  \n",
       "326     138              N     -0.1       Up             0  \n",
       "331      82             No     -1.0       Up             1  \n",
       "332     179             No     -1.1       Up             0  \n",
       "334     170              N     -0.7       Up             1  \n",
       "335     134              N     -0.8     Flat             1  \n",
       "352     100              Y     -1.0     Down             1  \n",
       "407      72            Yes     -0.5     Flat             1  \n",
       "413      98              N     -2.0     Flat             1  \n",
       "421     120              N     -0.5       Up             0  \n",
       "512     153              N     -0.1       Up             0  \n",
       "991      98              Y     -0.7     Down             1  \n",
       "1068    160             No     -0.2       Up             1  \n",
       "1086     96              N     -0.4     Flat             1  \n",
       "1214     84              N     -0.2     Flat             1  \n",
       "1219     97              N     -0.9     Flat             1  \n",
       "1419     75            Yes     -0.1     Flat             1  \n",
       "1459    129              N     -0.8     Flat             1  \n",
       "1463    115             No     -0.4     Flat             1  \n",
       "1509    112              N     -1.1     Flat             1  \n",
       "1529    168              N     -0.5       Up             1  \n",
       "1561    122             No     -0.8     Flat             1  \n",
       "1580    128            Yes     -1.2     Down             1  \n",
       "1638    128              Y     -0.9     Down             1  \n",
       "1694    117             No     -0.9     Flat             1  \n",
       "1734     74              Y     -0.4     Flat             1  \n",
       "1768   <NA>              N     -0.4     Flat             1  \n",
       "1879    142              N     -0.1     Flat             1  \n",
       "1934    161              N     -0.2       Up             1  \n",
       "2024    170              N     -0.7       Up             1  \n",
       "2080    117              Y     -0.2       Up             1  \n",
       "2114     75              Y     -0.1     Flat             1  \n",
       "2134   <NA>             No     -0.5       Up             1  \n",
       "2144    129             No     -0.5     Flat             1  \n",
       "2222    163              N     -0.3       Up             1  \n",
       "2317     91              N     -1.0       Up             1  \n",
       "2340     85              N     -1.0       Up             1  \n",
       "2343    122              N     -0.4     Flat             1  \n",
       "2415     99            Yes     -0.8     Down             1  \n",
       "2416     95              Y     -0.4     Flat             1  \n",
       "2480    132             No     -0.8     Flat             1  \n",
       "2586    102              Y     -0.9     Down             1  \n",
       "2654     76              Y     -0.4     Flat             1  \n",
       "2708     97              N     -1.6     Flat             1  \n",
       "2731    122              N     -0.1     Flat             1  \n",
       "2794     73            Yes     -0.3     Flat             1  \n",
       "2869     74            Yes     -0.4     Flat             1  "
      ]
     },
     "execution_count": 175,
     "metadata": {},
     "output_type": "execute_result"
    }
   ],
   "source": [
    "df[df['Oldpeak']<0]"
   ]
  },
  {
   "cell_type": "markdown",
   "metadata": {},
   "source": [
    "There are 49 neg value. we will change it to pos. The negative reviews are real but were entered incorrectly because Oldpeak should be positive"
   ]
  },
  {
   "cell_type": "code",
   "execution_count": 176,
   "metadata": {},
   "outputs": [],
   "source": [
    "# Change negative values to positive values\n",
    "df['Oldpeak'] = df['Oldpeak'].abs()"
   ]
  },
  {
   "cell_type": "markdown",
   "metadata": {},
   "source": [
    "Convert those 0's values in these 2 columns (RestingBP, Cholesterol) to determine how many missing valuesin each feature in our data"
   ]
  },
  {
   "cell_type": "code",
   "execution_count": 177,
   "metadata": {},
   "outputs": [
    {
     "data": {
      "application/vnd.microsoft.datawrangler.viewer.v0+json": {
       "columns": [
        {
         "name": "index",
         "rawType": "int64",
         "type": "integer"
        },
        {
         "name": "Age",
         "rawType": "int64",
         "type": "integer"
        },
        {
         "name": "Sex",
         "rawType": "object",
         "type": "unknown"
        },
        {
         "name": "ChestPainType",
         "rawType": "object",
         "type": "string"
        },
        {
         "name": "RestingBP",
         "rawType": "Int64",
         "type": "integer"
        },
        {
         "name": "Cholesterol",
         "rawType": "Int64",
         "type": "integer"
        },
        {
         "name": "FastingBS",
         "rawType": "int64",
         "type": "integer"
        },
        {
         "name": "RestingECG",
         "rawType": "object",
         "type": "string"
        },
        {
         "name": "MaxHR",
         "rawType": "Int64",
         "type": "integer"
        },
        {
         "name": "ExerciseAngina",
         "rawType": "object",
         "type": "string"
        },
        {
         "name": "Oldpeak",
         "rawType": "float64",
         "type": "float"
        },
        {
         "name": "ST_Slope",
         "rawType": "object",
         "type": "string"
        },
        {
         "name": "HeartDisease",
         "rawType": "int64",
         "type": "integer"
        }
       ],
       "conversionMethod": "pd.DataFrame",
       "ref": "c35c902e-e2b6-487a-bebe-8b94018909f9",
       "rows": [
        [
         "293",
         "65",
         "Male",
         "ASY",
         "115",
         "0",
         "0",
         "Normal",
         "93",
         "Y",
         "0.0",
         "Flat",
         "1"
        ],
        [
         "294",
         "32",
         "Male",
         "TA",
         "95",
         "0",
         "1",
         "Normal",
         "127",
         "N",
         "0.7",
         "Up",
         "1"
        ],
        [
         "295",
         "61",
         "Male",
         "ASY",
         "105",
         "0",
         "1",
         "Normal",
         "110",
         "Y",
         "1.5",
         "Up",
         "1"
        ],
        [
         "296",
         "50",
         "Male",
         "ASY",
         "145",
         "0",
         "1",
         "Normal",
         "139",
         "Yes",
         "0.7",
         "Flat",
         "1"
        ],
        [
         "297",
         "57",
         "Male",
         "ASY",
         "110",
         "0",
         "1",
         "ST",
         "131",
         "Yes",
         "1.4",
         "Up",
         "1"
        ],
        [
         "298",
         "51",
         "Male",
         "ASY",
         "110",
         "0",
         "1",
         "Normal",
         "92",
         "No",
         "0.0",
         "Flat",
         "1"
        ],
        [
         "299",
         "47",
         "Male",
         "ASY",
         "110",
         "0",
         "1",
         "ST",
         "149",
         "No",
         "2.1",
         "Up",
         "1"
        ],
        [
         "300",
         "60",
         "Male",
         "ASY",
         "160",
         "0",
         "1",
         "Normal",
         "149",
         "No",
         "0.4",
         "Flat",
         "1"
        ],
        [
         "301",
         "55",
         "Male",
         "ATA",
         "140",
         "0",
         "0",
         "ST",
         "150",
         "N",
         "0.2",
         "Up",
         "0"
        ],
        [
         "302",
         "53",
         "Male",
         "ASY",
         "125",
         "0",
         "1",
         "Normal",
         "120",
         "N",
         "1.5",
         "Up",
         "1"
        ],
        [
         "303",
         "62",
         "Female",
         "ASY",
         "120",
         "0",
         "1",
         "ST",
         "123",
         "Yes",
         "1.7",
         "Down",
         "1"
        ],
        [
         "304",
         "51",
         "Male",
         "ASY",
         "95",
         "0",
         "1",
         "Normal",
         "126",
         "No",
         "2.2",
         "Flat",
         "1"
        ],
        [
         "305",
         "51",
         "Female",
         "ASY",
         "120",
         "0",
         "1",
         "Normal",
         "127",
         "Y",
         "1.5",
         "Up",
         "1"
        ],
        [
         "306",
         "55",
         "Male",
         "ASY",
         "115",
         "0",
         "1",
         "Normal",
         "155",
         "No",
         "0.1",
         "Flat",
         "1"
        ],
        [
         "307",
         "53",
         "Male",
         "ATA",
         "130",
         "0",
         "0",
         "ST",
         "120",
         "No",
         "0.7",
         "Down",
         "0"
        ],
        [
         "308",
         "58",
         "Male",
         "ASY",
         "115",
         "0",
         "1",
         "Normal",
         "138",
         "No",
         "0.5",
         "Up",
         "1"
        ],
        [
         "309",
         "57",
         "Male",
         "ASY",
         "95",
         "0",
         "1",
         "Normal",
         "182",
         "No",
         "0.7",
         "Down",
         "1"
        ],
        [
         "310",
         "65",
         "Male",
         "ASY",
         "155",
         "0",
         "0",
         "Normal",
         "154",
         "N",
         "1.0",
         "Up",
         "0"
        ],
        [
         "311",
         "60",
         "Male",
         "ASY",
         "125",
         "0",
         "1",
         "Normal",
         "110",
         "No",
         "0.1",
         "Up",
         "1"
        ],
        [
         "312",
         "41",
         "Male",
         "ASY",
         "125",
         "0",
         "1",
         "Normal",
         "176",
         "N",
         "1.6",
         "Up",
         "1"
        ],
        [
         "314",
         "53",
         "Male",
         "ASY",
         "80",
         "0",
         "0",
         "Normal",
         "141",
         "Yes",
         "2.0",
         "Down",
         "0"
        ],
        [
         "315",
         "74",
         "Male",
         "ATA",
         "145",
         "0",
         "1",
         "ST",
         "123",
         "No",
         "1.3",
         "Up",
         "1"
        ],
        [
         "316",
         "57",
         "Male",
         "NAP",
         "105",
         "0",
         "1",
         "Normal",
         "148",
         "No",
         "0.3",
         "Flat",
         "1"
        ],
        [
         "317",
         "56",
         "Male",
         "ASY",
         "140",
         "0",
         "1",
         "Normal",
         "121",
         "Y",
         "1.8",
         "Up",
         "1"
        ],
        [
         "318",
         "61",
         "Male",
         "ASY",
         "130",
         "0",
         "1",
         "Normal",
         null,
         "No",
         "2.5",
         "Flat",
         "1"
        ],
        [
         "319",
         "68",
         "Male",
         "ASY",
         "145",
         "0",
         "1",
         "Normal",
         null,
         "N",
         "1.8",
         "Up",
         "1"
        ],
        [
         "320",
         "59",
         "Male",
         "NAP",
         "125",
         "0",
         "1",
         "Normal",
         "175",
         "N",
         "2.6",
         "Flat",
         "1"
        ],
        [
         "321",
         "63",
         "Male",
         "ASY",
         "100",
         "0",
         "1",
         "Normal",
         "109",
         "No",
         "0.9",
         "Flat",
         "1"
        ],
        [
         "322",
         "38",
         "Female",
         "ASY",
         "105",
         "0",
         "1",
         "Normal",
         "166",
         "No",
         "2.8",
         "Up",
         "1"
        ],
        [
         "326",
         "45",
         "Male",
         "NAP",
         "110",
         "0",
         "0",
         "Normal",
         "138",
         "N",
         "0.1",
         "Up",
         "0"
        ],
        [
         "327",
         "59",
         "Male",
         "ASY",
         "125",
         "0",
         "1",
         "Normal",
         "119",
         "Y",
         "0.9",
         "Up",
         "1"
        ],
        [
         "328",
         "52",
         "Male",
         "ASY",
         "95",
         "0",
         "1",
         "Normal",
         "82",
         "Y",
         "0.8",
         "Flat",
         "1"
        ],
        [
         "329",
         "60",
         "Male",
         "ASY",
         "130",
         "0",
         "1",
         "ST",
         null,
         "Y",
         "1.1",
         "Down",
         "1"
        ],
        [
         "330",
         "60",
         "Male",
         "NAP",
         "115",
         "0",
         "1",
         "Normal",
         "143",
         "N",
         "2.4",
         "Up",
         "1"
        ],
        [
         "331",
         "56",
         "Male",
         "ASY",
         "115",
         "0",
         "1",
         "ST",
         "82",
         "No",
         "1.0",
         "Up",
         "1"
        ],
        [
         "332",
         "38",
         "Male",
         "NAP",
         "100",
         "0",
         "0",
         "Normal",
         "179",
         "No",
         "1.1",
         "Up",
         "0"
        ],
        [
         "333",
         "40",
         "Male",
         "ASY",
         "95",
         "0",
         "1",
         "ST",
         "144",
         "N",
         "0.0",
         "Up",
         "1"
        ],
        [
         "334",
         "51",
         "Male",
         "ASY",
         "130",
         "0",
         "1",
         "Normal",
         "170",
         "N",
         "0.7",
         "Up",
         "1"
        ],
        [
         "335",
         "62",
         "Male",
         "TA",
         "120",
         "0",
         "1",
         "LVH",
         "134",
         "N",
         "0.8",
         "Flat",
         "1"
        ],
        [
         "336",
         "72",
         "Male",
         "NAP",
         "160",
         "0",
         "0",
         "LVH",
         "114",
         "N",
         "1.6",
         "Flat",
         "0"
        ],
        [
         "337",
         "63",
         null,
         "ASY",
         "150",
         "0",
         "1",
         "ST",
         null,
         "N",
         "3.7",
         "Up",
         "1"
        ],
        [
         "338",
         "63",
         "Male",
         "ASY",
         "140",
         "0",
         "1",
         "LVH",
         "149",
         "N",
         "2.0",
         "Up",
         "1"
        ],
        [
         "339",
         "64",
         "Female",
         "ASY",
         "95",
         "0",
         "1",
         "Normal",
         "145",
         "N",
         "1.1",
         "Down",
         "1"
        ],
        [
         "340",
         "43",
         "Male",
         "ASY",
         "100",
         "0",
         "1",
         "Normal",
         null,
         "No",
         "1.5",
         "Down",
         "1"
        ],
        [
         "341",
         "64",
         "Male",
         "ASY",
         "110",
         "0",
         "1",
         "Normal",
         "114",
         "Y",
         "1.3",
         "Down",
         "1"
        ],
        [
         "342",
         "61",
         "Male",
         "ASY",
         "110",
         "0",
         "1",
         "Normal",
         "113",
         "No",
         "1.4",
         "Flat",
         "1"
        ],
        [
         "343",
         "52",
         "Male",
         "ASY",
         "130",
         "0",
         "1",
         "Normal",
         "120",
         "No",
         "0.0",
         "Flat",
         "1"
        ],
        [
         "344",
         "51",
         "Male",
         "ASY",
         "120",
         "0",
         "1",
         "Normal",
         "104",
         "No",
         "0.0",
         "Flat",
         "1"
        ],
        [
         "345",
         "69",
         "Male",
         "ASY",
         "135",
         "0",
         "0",
         "Normal",
         "130",
         "N",
         "0.0",
         "Flat",
         "1"
        ],
        [
         "346",
         "59",
         "Male",
         "ASY",
         "120",
         "0",
         "0",
         "Normal",
         "115",
         "N",
         "0.0",
         "Flat",
         "1"
        ]
       ],
       "shape": {
        "columns": 12,
        "rows": 702
       }
      },
      "text/html": [
       "<div>\n",
       "<style scoped>\n",
       "    .dataframe tbody tr th:only-of-type {\n",
       "        vertical-align: middle;\n",
       "    }\n",
       "\n",
       "    .dataframe tbody tr th {\n",
       "        vertical-align: top;\n",
       "    }\n",
       "\n",
       "    .dataframe thead th {\n",
       "        text-align: right;\n",
       "    }\n",
       "</style>\n",
       "<table border=\"1\" class=\"dataframe\">\n",
       "  <thead>\n",
       "    <tr style=\"text-align: right;\">\n",
       "      <th></th>\n",
       "      <th>Age</th>\n",
       "      <th>Sex</th>\n",
       "      <th>ChestPainType</th>\n",
       "      <th>RestingBP</th>\n",
       "      <th>Cholesterol</th>\n",
       "      <th>FastingBS</th>\n",
       "      <th>RestingECG</th>\n",
       "      <th>MaxHR</th>\n",
       "      <th>ExerciseAngina</th>\n",
       "      <th>Oldpeak</th>\n",
       "      <th>ST_Slope</th>\n",
       "      <th>HeartDisease</th>\n",
       "    </tr>\n",
       "  </thead>\n",
       "  <tbody>\n",
       "    <tr>\n",
       "      <th>293</th>\n",
       "      <td>65</td>\n",
       "      <td>Male</td>\n",
       "      <td>ASY</td>\n",
       "      <td>115</td>\n",
       "      <td>0</td>\n",
       "      <td>0</td>\n",
       "      <td>Normal</td>\n",
       "      <td>93</td>\n",
       "      <td>Y</td>\n",
       "      <td>0.0</td>\n",
       "      <td>Flat</td>\n",
       "      <td>1</td>\n",
       "    </tr>\n",
       "    <tr>\n",
       "      <th>294</th>\n",
       "      <td>32</td>\n",
       "      <td>Male</td>\n",
       "      <td>TA</td>\n",
       "      <td>95</td>\n",
       "      <td>0</td>\n",
       "      <td>1</td>\n",
       "      <td>Normal</td>\n",
       "      <td>127</td>\n",
       "      <td>N</td>\n",
       "      <td>0.7</td>\n",
       "      <td>Up</td>\n",
       "      <td>1</td>\n",
       "    </tr>\n",
       "    <tr>\n",
       "      <th>295</th>\n",
       "      <td>61</td>\n",
       "      <td>Male</td>\n",
       "      <td>ASY</td>\n",
       "      <td>105</td>\n",
       "      <td>0</td>\n",
       "      <td>1</td>\n",
       "      <td>Normal</td>\n",
       "      <td>110</td>\n",
       "      <td>Y</td>\n",
       "      <td>1.5</td>\n",
       "      <td>Up</td>\n",
       "      <td>1</td>\n",
       "    </tr>\n",
       "    <tr>\n",
       "      <th>296</th>\n",
       "      <td>50</td>\n",
       "      <td>Male</td>\n",
       "      <td>ASY</td>\n",
       "      <td>145</td>\n",
       "      <td>0</td>\n",
       "      <td>1</td>\n",
       "      <td>Normal</td>\n",
       "      <td>139</td>\n",
       "      <td>Yes</td>\n",
       "      <td>0.7</td>\n",
       "      <td>Flat</td>\n",
       "      <td>1</td>\n",
       "    </tr>\n",
       "    <tr>\n",
       "      <th>297</th>\n",
       "      <td>57</td>\n",
       "      <td>Male</td>\n",
       "      <td>ASY</td>\n",
       "      <td>110</td>\n",
       "      <td>0</td>\n",
       "      <td>1</td>\n",
       "      <td>ST</td>\n",
       "      <td>131</td>\n",
       "      <td>Yes</td>\n",
       "      <td>1.4</td>\n",
       "      <td>Up</td>\n",
       "      <td>1</td>\n",
       "    </tr>\n",
       "    <tr>\n",
       "      <th>...</th>\n",
       "      <td>...</td>\n",
       "      <td>...</td>\n",
       "      <td>...</td>\n",
       "      <td>...</td>\n",
       "      <td>...</td>\n",
       "      <td>...</td>\n",
       "      <td>...</td>\n",
       "      <td>...</td>\n",
       "      <td>...</td>\n",
       "      <td>...</td>\n",
       "      <td>...</td>\n",
       "      <td>...</td>\n",
       "    </tr>\n",
       "    <tr>\n",
       "      <th>2858</th>\n",
       "      <td>61</td>\n",
       "      <td>Male</td>\n",
       "      <td>NAP</td>\n",
       "      <td>120</td>\n",
       "      <td>0</td>\n",
       "      <td>0</td>\n",
       "      <td>Normal</td>\n",
       "      <td>80</td>\n",
       "      <td>Y</td>\n",
       "      <td>0.0</td>\n",
       "      <td>Flat</td>\n",
       "      <td>1</td>\n",
       "    </tr>\n",
       "    <tr>\n",
       "      <th>2860</th>\n",
       "      <td>38</td>\n",
       "      <td>Male</td>\n",
       "      <td>NAP</td>\n",
       "      <td>115</td>\n",
       "      <td>0</td>\n",
       "      <td>0</td>\n",
       "      <td>Normal</td>\n",
       "      <td>128</td>\n",
       "      <td>Y</td>\n",
       "      <td>0.0</td>\n",
       "      <td>Flat</td>\n",
       "      <td>1</td>\n",
       "    </tr>\n",
       "    <tr>\n",
       "      <th>2861</th>\n",
       "      <td>59</td>\n",
       "      <td>Male</td>\n",
       "      <td>ASY</td>\n",
       "      <td>125</td>\n",
       "      <td>0</td>\n",
       "      <td>1</td>\n",
       "      <td>ST</td>\n",
       "      <td>130</td>\n",
       "      <td>Yes</td>\n",
       "      <td>1.2</td>\n",
       "      <td>Down</td>\n",
       "      <td>1</td>\n",
       "    </tr>\n",
       "    <tr>\n",
       "      <th>2863</th>\n",
       "      <td>55</td>\n",
       "      <td>Male</td>\n",
       "      <td>ASY</td>\n",
       "      <td>140</td>\n",
       "      <td>0</td>\n",
       "      <td>0</td>\n",
       "      <td>Normal</td>\n",
       "      <td>83</td>\n",
       "      <td>N</td>\n",
       "      <td>0.0</td>\n",
       "      <td>Flat</td>\n",
       "      <td>1</td>\n",
       "    </tr>\n",
       "    <tr>\n",
       "      <th>2869</th>\n",
       "      <td>62</td>\n",
       "      <td>Male</td>\n",
       "      <td>ASY</td>\n",
       "      <td>116</td>\n",
       "      <td>0</td>\n",
       "      <td>1</td>\n",
       "      <td>Normal</td>\n",
       "      <td>74</td>\n",
       "      <td>Yes</td>\n",
       "      <td>0.4</td>\n",
       "      <td>Flat</td>\n",
       "      <td>1</td>\n",
       "    </tr>\n",
       "  </tbody>\n",
       "</table>\n",
       "<p>702 rows × 12 columns</p>\n",
       "</div>"
      ],
      "text/plain": [
       "      Age   Sex ChestPainType  RestingBP  Cholesterol  FastingBS RestingECG  \\\n",
       "293    65  Male           ASY        115            0          0     Normal   \n",
       "294    32  Male            TA         95            0          1     Normal   \n",
       "295    61  Male           ASY        105            0          1     Normal   \n",
       "296    50  Male           ASY        145            0          1     Normal   \n",
       "297    57  Male           ASY        110            0          1         ST   \n",
       "...   ...   ...           ...        ...          ...        ...        ...   \n",
       "2858   61  Male           NAP        120            0          0     Normal   \n",
       "2860   38  Male           NAP        115            0          0     Normal   \n",
       "2861   59  Male           ASY        125            0          1         ST   \n",
       "2863   55  Male           ASY        140            0          0     Normal   \n",
       "2869   62  Male           ASY        116            0          1     Normal   \n",
       "\n",
       "      MaxHR ExerciseAngina  Oldpeak ST_Slope  HeartDisease  \n",
       "293      93              Y      0.0     Flat             1  \n",
       "294     127              N      0.7       Up             1  \n",
       "295     110              Y      1.5       Up             1  \n",
       "296     139            Yes      0.7     Flat             1  \n",
       "297     131            Yes      1.4       Up             1  \n",
       "...     ...            ...      ...      ...           ...  \n",
       "2858     80              Y      0.0     Flat             1  \n",
       "2860    128              Y      0.0     Flat             1  \n",
       "2861    130            Yes      1.2     Down             1  \n",
       "2863     83              N      0.0     Flat             1  \n",
       "2869     74            Yes      0.4     Flat             1  \n",
       "\n",
       "[702 rows x 12 columns]"
      ]
     },
     "execution_count": 177,
     "metadata": {},
     "output_type": "execute_result"
    }
   ],
   "source": [
    "df[df['Cholesterol'] == 0]"
   ]
  },
  {
   "cell_type": "code",
   "execution_count": 178,
   "metadata": {},
   "outputs": [
    {
     "data": {
      "text/plain": [
       "(702, 1)"
      ]
     },
     "execution_count": 178,
     "metadata": {},
     "output_type": "execute_result"
    }
   ],
   "source": [
    "len(df[df['Cholesterol'] == 0]), len(df[df['RestingBP'] == 0])"
   ]
  },
  {
   "cell_type": "code",
   "execution_count": 179,
   "metadata": {},
   "outputs": [],
   "source": [
    "df[['RestingBP','Cholesterol']] = df[['RestingBP','Cholesterol']].replace(0,np.nan)"
   ]
  },
  {
   "cell_type": "code",
   "execution_count": 180,
   "metadata": {},
   "outputs": [
    {
     "data": {
      "text/plain": [
       "RestingBP      145\n",
       "Cholesterol    846\n",
       "dtype: int64"
      ]
     },
     "execution_count": 180,
     "metadata": {},
     "output_type": "execute_result"
    }
   ],
   "source": [
    "df[['RestingBP','Cholesterol']].isna().sum()"
   ]
  },
  {
   "cell_type": "code",
   "execution_count": 181,
   "metadata": {},
   "outputs": [
    {
     "data": {
      "text/plain": [
       "(2870, 12)"
      ]
     },
     "execution_count": 181,
     "metadata": {},
     "output_type": "execute_result"
    }
   ],
   "source": [
    "df.shape"
   ]
  },
  {
   "cell_type": "markdown",
   "metadata": {},
   "source": [
    "## Handling Missing Data (Nulls)"
   ]
  },
  {
   "cell_type": "code",
   "execution_count": null,
   "metadata": {},
   "outputs": [
    {
     "data": {
      "text/plain": [
       "Age                 0\n",
       "Sex               144\n",
       "ChestPainType       0\n",
       "RestingBP           0\n",
       "Cholesterol       846\n",
       "FastingBS           0\n",
       "RestingECG          0\n",
       "MaxHR             144\n",
       "ExerciseAngina      0\n",
       "Oldpeak             0\n",
       "ST_Slope            0\n",
       "HeartDisease        0\n",
       "dtype: int64"
      ]
     },
     "execution_count": 136,
     "metadata": {},
     "output_type": "execute_result"
    }
   ],
   "source": [
    "df.isnull().sum()"
   ]
  },
  {
   "cell_type": "markdown",
   "metadata": {},
   "source": [
    "## Detection Outliers"
   ]
  },
  {
   "cell_type": "code",
   "execution_count": 184,
   "metadata": {},
   "outputs": [],
   "source": [
    "numerical_columns = ['Age', 'RestingBP', 'Cholesterol', 'MaxHR', 'Oldpeak']"
   ]
  },
  {
   "cell_type": "code",
   "execution_count": null,
   "metadata": {},
   "outputs": [
    {
     "data": {
      "image/png": "[encoded data removed]",
      "text/plain": [
       "<Figure size 1500x800 with 5 Axes>"
      ]
     },
     "metadata": {},
     "output_type": "display_data"
    }
   ],
   "source": [
    "plt.figure(figsize=(15, 8))\n",
    "\n",
    "for i, column in enumerate(numerical_columns, 1):\n",
    "    plt.subplot(2, 3, i)\n",
    "    plt.hist(df[column], bins=30, color='blue', alpha=0.7)\n",
    "    plt.title(f'{column} Distribution')\n",
    "    plt.xlabel(column)\n",
    "    plt.ylabel('Frequency')\n",
    "\n",
    "plt.tight_layout()\n",
    "plt.show()"
   ]
  },
  {
   "cell_type": "markdown",
   "metadata": {},
   "source": [
    "There are outliers in oldpeak and Cholesterol columns. we will drop them."
   ]
  },
  {
   "cell_type": "code",
   "execution_count": 198,
   "metadata": {},
   "outputs": [],
   "source": [
    "cholesterol_mean = df[(df['Cholesterol'] >= 100) & (df['Cholesterol'] <= 400)]['Cholesterol'].mean()\n",
    "\n",
    "# Replace outliers with the mean\n",
    "df['Cholesterol'] = df['Cholesterol'].apply(\n",
    "    lambda x: cholesterol_mean if x < 100 or x > 400 else x\n",
    ")"
   ]
  },
  {
   "cell_type": "code",
   "execution_count": 199,
   "metadata": {},
   "outputs": [],
   "source": [
    "oldpeak_mean = df[df['Oldpeak'] <= 4]['Oldpeak'].mean()\n",
    "\n",
    "# Replace outliers with the mean\n",
    "df['Oldpeak'] = df['Oldpeak'].apply(\n",
    "    lambda x: oldpeak_mean if x > 4 else x\n",
    ")"
   ]
  },
  {
   "cell_type": "code",
   "execution_count": 201,
   "metadata": {},
   "outputs": [
    {
     "data": {
      "text/plain": [
       "(2870, 12)"
      ]
     },
     "execution_count": 201,
     "metadata": {},
     "output_type": "execute_result"
    }
   ],
   "source": [
    "df.shape"
   ]
  },
  {
   "cell_type": "code",
   "execution_count": 202,
   "metadata": {},
   "outputs": [
    {
     "data": {
      "image/png": "[encoded data removed]",
      "text/plain": [
       "<Figure size 1500x800 with 5 Axes>"
      ]
     },
     "metadata": {},
     "output_type": "display_data"
    }
   ],
   "source": [
    "plt.figure(figsize=(15, 8))\n",
    "\n",
    "for i, column in enumerate(numerical_columns, 1):\n",
    "    plt.subplot(2, 3, i)\n",
    "    plt.hist(df[column], bins=30, color='blue', alpha=0.7)\n",
    "    plt.title(f'{column} Distribution')\n",
    "    plt.xlabel(column)\n",
    "    plt.ylabel('Frequency')\n",
    "\n",
    "plt.tight_layout()\n",
    "plt.show()"
   ]
  },
  {
   "cell_type": "markdown",
   "metadata": {},
   "source": [
    "## EDA of Data and Get Insights"
   ]
  },
  {
   "cell_type": "markdown",
   "metadata": {},
   "source": [
    "**Heart Disease Distribution**"
   ]
  },
  {
   "cell_type": "code",
   "execution_count": 240,
   "metadata": {},
   "outputs": [
    {
     "data": {
      "text/plain": [
       "HeartDisease\n",
       "1    2453\n",
       "0     417\n",
       "Name: count, dtype: int64"
      ]
     },
     "execution_count": 240,
     "metadata": {},
     "output_type": "execute_result"
    }
   ],
   "source": [
    "patient_counts = df['HeartDisease'].value_counts()\n",
    "patient_counts"
   ]
  },
  {
   "cell_type": "code",
   "execution_count": 244,
   "metadata": {},
   "outputs": [
    {
     "data": {
      "image/png": "[encoded data removed]",
      "text/plain": [
       "<Figure size 800x600 with 1 Axes>"
      ]
     },
     "metadata": {},
     "output_type": "display_data"
    }
   ],
   "source": [
    "plt.figure(figsize=(8, 6))\n",
    "plt.pie(patient_counts, \n",
    "        labels=['Patient', 'Normal'], \n",
    "        autopct='%.1f%%',\n",
    "        colors=sns.color_palette('pastel'),\n",
    "        startangle=90)\n",
    "\n",
    "plt.title('The Percentage of Patients and Normal people')\n",
    "plt.show()"
   ]
  },
  {
   "cell_type": "markdown",
   "metadata": {},
   "source": [
    "**Age distribution**"
   ]
  },
  {
   "cell_type": "code",
   "execution_count": 203,
   "metadata": {},
   "outputs": [
    {
     "data": {
      "image/png": "[encoded data removed]",
      "text/plain": [
       "<Figure size 1500x600 with 2 Axes>"
      ]
     },
     "metadata": {},
     "output_type": "display_data"
    }
   ],
   "source": [
    "plt.figure(figsize=(15, 6))\n",
    "plt.subplot(1,2,1)\n",
    "sns.histplot(df[df['Sex'] == 'Male']['Age'], color='blue', kde=True, bins=20, stat='density')\n",
    "plt.title('Age Distribution for Male')\n",
    "\n",
    "plt.subplot(1,2,2)\n",
    "sns.histplot(df[df['Sex'] == 'Female']['Age'], color='pink', kde=True, bins=20, stat='density')\n",
    "plt.title('Age Distribution for Female')\n",
    "\n",
    "plt.show()"
   ]
  },
  {
   "cell_type": "markdown",
   "metadata": {},
   "source": [
    "- Most Ranges of Age between 50 to 60 "
   ]
  },
  {
   "cell_type": "code",
   "execution_count": 204,
   "metadata": {},
   "outputs": [
    {
     "data": {
      "image/png": "[encoded data removed]",
      "text/plain": [
       "<Figure size 800x600 with 1 Axes>"
      ]
     },
     "metadata": {},
     "output_type": "display_data"
    }
   ],
   "source": [
    "gender_counts = df['Sex'].value_counts()\n",
    "\n",
    "# Create pie chart\n",
    "plt.figure(figsize=(8, 6))\n",
    "plt.pie(gender_counts, \n",
    "        labels=['Male', 'Female'], \n",
    "        autopct='%.1f%%',\n",
    "        colors=sns.color_palette('pastel'),\n",
    "        startangle=90)\n",
    "\n",
    "plt.title('The Percentage of Type of Gender in the Data')\n",
    "plt.show()"
   ]
  },
  {
   "cell_type": "markdown",
   "metadata": {},
   "source": [
    "- Males are the dominant Category in the data"
   ]
  },
  {
   "cell_type": "markdown",
   "metadata": {},
   "source": [
    "Chest Pain Type For each gender of Sex"
   ]
  },
  {
   "cell_type": "code",
   "execution_count": 218,
   "metadata": {},
   "outputs": [
    {
     "data": {
      "application/vnd.microsoft.datawrangler.viewer.v0+json": {
       "columns": [
        {
         "name": "index",
         "rawType": "int64",
         "type": "integer"
        },
        {
         "name": "ChestPainType",
         "rawType": "object",
         "type": "string"
        },
        {
         "name": "Sex",
         "rawType": "object",
         "type": "string"
        },
        {
         "name": "Count",
         "rawType": "int64",
         "type": "integer"
        }
       ],
       "conversionMethod": "pd.DataFrame",
       "ref": "d1f68e4c-aa7d-45f2-b8cc-1a5fb49a710b",
       "rows": [
        [
         "0",
         "ASY",
         "Female",
         "186"
        ],
        [
         "1",
         "ASY",
         "Male",
         "1811"
        ],
        [
         "2",
         "ATA",
         "Female",
         "68"
        ],
        [
         "3",
         "ATA",
         "Male",
         "139"
        ],
        [
         "4",
         "NAP",
         "Female",
         "66"
        ],
        [
         "5",
         "NAP",
         "Male",
         "363"
        ],
        [
         "6",
         "TA",
         "Female",
         "12"
        ],
        [
         "7",
         "TA",
         "Male",
         "81"
        ]
       ],
       "shape": {
        "columns": 3,
        "rows": 8
       }
      },
      "text/html": [
       "<div>\n",
       "<style scoped>\n",
       "    .dataframe tbody tr th:only-of-type {\n",
       "        vertical-align: middle;\n",
       "    }\n",
       "\n",
       "    .dataframe tbody tr th {\n",
       "        vertical-align: top;\n",
       "    }\n",
       "\n",
       "    .dataframe thead th {\n",
       "        text-align: right;\n",
       "    }\n",
       "</style>\n",
       "<table border=\"1\" class=\"dataframe\">\n",
       "  <thead>\n",
       "    <tr style=\"text-align: right;\">\n",
       "      <th></th>\n",
       "      <th>ChestPainType</th>\n",
       "      <th>Sex</th>\n",
       "      <th>Count</th>\n",
       "    </tr>\n",
       "  </thead>\n",
       "  <tbody>\n",
       "    <tr>\n",
       "      <th>0</th>\n",
       "      <td>ASY</td>\n",
       "      <td>Female</td>\n",
       "      <td>186</td>\n",
       "    </tr>\n",
       "    <tr>\n",
       "      <th>1</th>\n",
       "      <td>ASY</td>\n",
       "      <td>Male</td>\n",
       "      <td>1811</td>\n",
       "    </tr>\n",
       "    <tr>\n",
       "      <th>2</th>\n",
       "      <td>ATA</td>\n",
       "      <td>Female</td>\n",
       "      <td>68</td>\n",
       "    </tr>\n",
       "    <tr>\n",
       "      <th>3</th>\n",
       "      <td>ATA</td>\n",
       "      <td>Male</td>\n",
       "      <td>139</td>\n",
       "    </tr>\n",
       "    <tr>\n",
       "      <th>4</th>\n",
       "      <td>NAP</td>\n",
       "      <td>Female</td>\n",
       "      <td>66</td>\n",
       "    </tr>\n",
       "    <tr>\n",
       "      <th>5</th>\n",
       "      <td>NAP</td>\n",
       "      <td>Male</td>\n",
       "      <td>363</td>\n",
       "    </tr>\n",
       "    <tr>\n",
       "      <th>6</th>\n",
       "      <td>TA</td>\n",
       "      <td>Female</td>\n",
       "      <td>12</td>\n",
       "    </tr>\n",
       "    <tr>\n",
       "      <th>7</th>\n",
       "      <td>TA</td>\n",
       "      <td>Male</td>\n",
       "      <td>81</td>\n",
       "    </tr>\n",
       "  </tbody>\n",
       "</table>\n",
       "</div>"
      ],
      "text/plain": [
       "  ChestPainType     Sex  Count\n",
       "0           ASY  Female    186\n",
       "1           ASY    Male   1811\n",
       "2           ATA  Female     68\n",
       "3           ATA    Male    139\n",
       "4           NAP  Female     66\n",
       "5           NAP    Male    363\n",
       "6            TA  Female     12\n",
       "7            TA    Male     81"
      ]
     },
     "execution_count": 218,
     "metadata": {},
     "output_type": "execute_result"
    }
   ],
   "source": [
    "pain_counts_long = df.groupby(['ChestPainType', 'Sex']).size().reset_index(name='Count')\n",
    "pain_counts_long"
   ]
  },
  {
   "cell_type": "code",
   "execution_count": 219,
   "metadata": {},
   "outputs": [
    {
     "data": {
      "image/png": "[encoded data removed]",
      "text/plain": [
       "<Figure size 640x480 with 1 Axes>"
      ]
     },
     "metadata": {},
     "output_type": "display_data"
    }
   ],
   "source": [
    "ax = sns.barplot(data=pain_counts_long, x='ChestPainType', y='Count', hue='Sex', palette='viridis', ci=None)\n",
    "\n",
    "plt.title('Chest Pain Type Distribution by Gender', fontsize=16)\n",
    "plt.xlabel('Chest Pain Type', fontsize=12)\n",
    "plt.ylabel('Count', fontsize=12)\n",
    "\n",
    "# Add count labels above each bar\n",
    "for container in ax.containers:\n",
    "    ax.bar_label(container, fmt='%d', label_type='edge', padding=2, fontsize=10)\n",
    "\n",
    "ax.legend(title='Gender')\n",
    "\n",
    "plt.tight_layout()\n",
    "plt.show()"
   ]
  },
  {
   "cell_type": "markdown",
   "metadata": {},
   "source": [
    "Most Chest Pain Type \n",
    "- Male and Female Most Common occur -> ASY: Asymptomatic\n",
    "- Male and Female Least Common occur -> TA: Typical Angina"
   ]
  },
  {
   "cell_type": "markdown",
   "metadata": {},
   "source": [
    "**Distribution of Resting Blood Pressure**"
   ]
  },
  {
   "cell_type": "code",
   "execution_count": 221,
   "metadata": {},
   "outputs": [
    {
     "data": {
      "image/png": "[encoded data removed]",
      "text/plain": [
       "<Figure size 640x480 with 1 Axes>"
      ]
     },
     "metadata": {},
     "output_type": "display_data"
    }
   ],
   "source": [
    "sns.histplot(df['RestingBP'], color='blue', kde=True, bins=20, stat='density')\n",
    "plt.title('Resting Blood Pressure [mm Hg] Distribution');\n"
   ]
  },
  {
   "cell_type": "code",
   "execution_count": 227,
   "metadata": {},
   "outputs": [
    {
     "data": {
      "image/png": "[encoded data removed]",
      "text/plain": [
       "<Figure size 1500x600 with 2 Axes>"
      ]
     },
     "metadata": {},
     "output_type": "display_data"
    }
   ],
   "source": [
    "plt.figure(figsize=(15, 6))\n",
    "\n",
    "plt.subplot(1,2,1)\n",
    "\n",
    "sns.histplot(df[df['HeartDisease'] == 1]['RestingBP'], color='blue', kde=True, bins=20, stat='density')\n",
    "plt.title('Resting Blood Pressure Distribution for Heart Disease patients')\n",
    "\n",
    "plt.subplot(1,2,2)\n",
    "\n",
    "sns.histplot(df[df['HeartDisease'] == 0]['RestingBP'], color='pink', kde=True, bins=20, stat='density')\n",
    "plt.title('Resting Blood Pressure Distribution for normal people')\n",
    "\n",
    "plt.show()"
   ]
  },
  {
   "cell_type": "markdown",
   "metadata": {},
   "source": [
    "**Distribution of Cholesterol**"
   ]
  },
  {
   "cell_type": "code",
   "execution_count": 234,
   "metadata": {},
   "outputs": [
    {
     "data": {
      "text/plain": [
       "<Figure size 1500x600 with 0 Axes>"
      ]
     },
     "metadata": {},
     "output_type": "display_data"
    },
    {
     "data": {
      "image/png": "[encoded data removed]",
      "text/plain": [
       "<Figure size 1200x500 with 2 Axes>"
      ]
     },
     "metadata": {},
     "output_type": "display_data"
    }
   ],
   "source": [
    "plt.figure(figsize=(15, 6))\n",
    "\n",
    "fig, axes = plt.subplots(1, 2, figsize=(12, 5))\n",
    "\n",
    "sns.histplot(df[df['HeartDisease'] == 1]['Cholesterol'], color='blue', kde=True, bins=20, stat='density', ax=axes[0])\n",
    "axes[0].set_title('Cholesterol Distribution for Heart Disease patients')\n",
    "\n",
    "sns.histplot(df[df['HeartDisease'] == 0]['Cholesterol'], color='pink', kde=True, bins=20, stat='density', ax=axes[1])\n",
    "axes[1].set_title('Cholesterol Distribution for normal people')\n",
    "\n",
    "plt.tight_layout()\n",
    "plt.show()"
   ]
  },
  {
   "cell_type": "markdown",
   "metadata": {},
   "source": [
    "Percentage of fasting For people has heart disease or not\n"
   ]
  },
  {
   "cell_type": "markdown",
   "metadata": {},
   "source": [
    "معناه السكر فالدم ف الصيام \n",
    "\n"
   ]
  },
  {
   "cell_type": "code",
   "execution_count": 230,
   "metadata": {},
   "outputs": [
    {
     "data": {
      "text/plain": [
       "array([0, 1])"
      ]
     },
     "execution_count": 230,
     "metadata": {},
     "output_type": "execute_result"
    }
   ],
   "source": [
    "df['FastingBS'].unique()"
   ]
  },
  {
   "cell_type": "code",
   "execution_count": 231,
   "metadata": {},
   "outputs": [
    {
     "data": {
      "image/png": "[encoded data removed]",
      "text/plain": [
       "<Figure size 1200x500 with 2 Axes>"
      ]
     },
     "metadata": {},
     "output_type": "display_data"
    }
   ],
   "source": [
    "no_hd = df[df['HeartDisease'] == 0]['FastingBS'].value_counts()\n",
    "yes_hd = df[df['HeartDisease'] == 1]['FastingBS'].value_counts()\n",
    "\n",
    "labels = ['Otherwise', 'FastingBS > 120 mg/dl']\n",
    "colors = sns.color_palette('pastel')[0:2]\n",
    "\n",
    "fig, axes = plt.subplots(1, 2, figsize=(12, 5), facecolor='white')\n",
    "\n",
    "axes[0].pie(\n",
    "    no_hd,\n",
    "    labels=labels,\n",
    "    autopct='%1.1f%%',\n",
    "    colors=colors,\n",
    "    startangle=90,\n",
    "    textprops={'color': 'black'}\n",
    ")\n",
    "axes[0].set_title('No Heart Disease', fontsize=14, color='black')\n",
    "\n",
    "axes[1].pie(\n",
    "    yes_hd,\n",
    "    labels=labels,\n",
    "    autopct='%1.1f%%',\n",
    "    colors=colors,\n",
    "    startangle=90,\n",
    "    textprops={'color': 'black'}\n",
    ")\n",
    "axes[1].set_title('With Heart Disease', fontsize=14, color='black')\n",
    "\n",
    "plt.suptitle('FastingBS Distribution by Heart Disease', fontsize=16, color='black', y=1.05)\n",
    "plt.tight_layout()\n",
    "plt.show()\n"
   ]
  },
  {
   "cell_type": "markdown",
   "metadata": {},
   "source": [
    "A higher rate of fasting affects the appearance of heart disease in people"
   ]
  },
  {
   "cell_type": "markdown",
   "metadata": {},
   "source": [
    "Distribution of Maximum Heart Rate Achieved (MaxHR)\n",
    "\n",
    "قيم MaxHR المنخفضة أثناء المجهود البدني قد تشير إلى وجود مشاكل في القلب"
   ]
  },
  {
   "cell_type": "code",
   "execution_count": 238,
   "metadata": {},
   "outputs": [
    {
     "data": {
      "text/plain": [
       "<Figure size 1500x600 with 0 Axes>"
      ]
     },
     "metadata": {},
     "output_type": "display_data"
    },
    {
     "data": {
      "image/png": "[encoded data removed]",
      "text/plain": [
       "<Figure size 1200x500 with 2 Axes>"
      ]
     },
     "metadata": {},
     "output_type": "display_data"
    }
   ],
   "source": [
    "plt.figure(figsize=(15, 6))\n",
    "\n",
    "fig, axes = plt.subplots(1, 2, figsize=(12, 5))\n",
    "\n",
    "sns.histplot(df[df['HeartDisease'] == 1]['MaxHR'], color='blue', kde=True, bins=20, ax=axes[0])\n",
    "axes[0].set_title('MaxHR Distribution for Heart Disease patients')\n",
    "\n",
    "sns.histplot(df[df['HeartDisease'] == 0]['MaxHR'], color='pink', kde=True, bins=20, ax=axes[1])\n",
    "axes[1].set_title('MaxHR Distribution for normal people')\n",
    "\n",
    "plt.tight_layout()\n",
    "plt.show();"
   ]
  },
  {
   "cell_type": "markdown",
   "metadata": {},
   "source": [
    "Oldpeak for people has Heart Disease or not\n",
    "\n",
    "* Oldpeak = 0.0: No ST depression → likely normal\n",
    "* Oldpeak > 0  : ST segment dropped 1.4 mV → heart disease."
   ]
  },
  {
   "cell_type": "code",
   "execution_count": 239,
   "metadata": {},
   "outputs": [
    {
     "data": {
      "text/plain": [
       "<Figure size 1500x600 with 0 Axes>"
      ]
     },
     "metadata": {},
     "output_type": "display_data"
    },
    {
     "data": {
      "image/png": "[encoded data removed]",
      "text/plain": [
       "<Figure size 1200x500 with 2 Axes>"
      ]
     },
     "metadata": {},
     "output_type": "display_data"
    }
   ],
   "source": [
    "plt.figure(figsize=(15, 6))\n",
    "\n",
    "fig, axes = plt.subplots(1, 2, figsize=(12, 5))\n",
    "\n",
    "sns.histplot(df[df['HeartDisease'] == 1]['Oldpeak'], color='blue', kde=True, bins=20, ax=axes[0])\n",
    "axes[0].set_title('Oldpeak Distribution for Heart Disease patients')\n",
    "\n",
    "sns.histplot(df[df['HeartDisease'] == 0]['Oldpeak'], color='pink', kde=True, bins=20, ax=axes[1])\n",
    "axes[1].set_title('Oldpeak Distribution for normal people')\n",
    "\n",
    "plt.tight_layout()\n",
    "plt.show();"
   ]
  },
  {
   "cell_type": "markdown",
   "metadata": {},
   "source": [
    "Higher Oldpeak values are strongly correlated with the presence of Heart Disease"
   ]
  },
  {
   "cell_type": "markdown",
   "metadata": {},
   "source": [
    "## Total Insights\n",
    "- 85% of peoplein data have heart disease.\n",
    "- Most Ranges of Age between 50 to 60 \n",
    "- Males are the dominant Category in the data\n",
    "- Male and Female Most Common occur -> ASY: Asymptomatic\n",
    "- Male and Female Least Common occur -> TA: Typical Angina\n",
    "- A higher rate of fasting affects the appearance of heart disease in people\n",
    "- Higher Oldpeak values are strongly correlated with the presence of Heart Disease"
   ]
  },
  {
   "cell_type": "markdown",
   "metadata": {},
   "source": [
    "## Data Preprocessing"
   ]
  },
  {
   "cell_type": "markdown",
   "metadata": {},
   "source": [
    "#### Handling Object DataType"
   ]
  },
  {
   "cell_type": "code",
   "execution_count": 146,
   "metadata": {},
   "outputs": [],
   "source": [
    "column_to_encode = df.select_dtypes(object).columns.tolist()\n",
    "le = LabelEncoder()\n",
    "for column in column_to_encode:\n",
    "    df_cleaned[column] = le.fit_transform(df_cleaned[column])"
   ]
  },
  {
   "cell_type": "code",
   "execution_count": 147,
   "metadata": {},
   "outputs": [
    {
     "data": {
      "application/vnd.microsoft.datawrangler.viewer.v0+json": {
       "columns": [
        {
         "name": "index",
         "rawType": "int64",
         "type": "integer"
        },
        {
         "name": "Age",
         "rawType": "int64",
         "type": "integer"
        },
        {
         "name": "Sex",
         "rawType": "int64",
         "type": "integer"
        },
        {
         "name": "ChestPainType",
         "rawType": "int64",
         "type": "integer"
        },
        {
         "name": "RestingBP",
         "rawType": "float64",
         "type": "float"
        },
        {
         "name": "Cholesterol",
         "rawType": "float64",
         "type": "float"
        },
        {
         "name": "FastingBS",
         "rawType": "int64",
         "type": "integer"
        },
        {
         "name": "RestingECG",
         "rawType": "int64",
         "type": "integer"
        },
        {
         "name": "MaxHR",
         "rawType": "int64",
         "type": "integer"
        },
        {
         "name": "ExerciseAngina",
         "rawType": "int64",
         "type": "integer"
        },
        {
         "name": "Oldpeak",
         "rawType": "float64",
         "type": "float"
        },
        {
         "name": "ST_Slope",
         "rawType": "int64",
         "type": "integer"
        },
        {
         "name": "HeartDisease",
         "rawType": "int64",
         "type": "integer"
        }
       ],
       "conversionMethod": "pd.DataFrame",
       "ref": "ed6e92d8-e28f-4e58-8c90-f538fddb4530",
       "rows": [
        [
         "0",
         "40",
         "1",
         "1",
         "140.0",
         "289.0",
         "0",
         "1",
         "172",
         "0",
         "0.0",
         "2",
         "0"
        ],
        [
         "1",
         "49",
         "0",
         "2",
         "160.0",
         "180.0",
         "0",
         "1",
         "156",
         "0",
         "1.0",
         "1",
         "1"
        ],
        [
         "2",
         "37",
         "1",
         "1",
         "130.0",
         "283.0",
         "0",
         "2",
         "98",
         "0",
         "0.0",
         "2",
         "0"
        ],
        [
         "3",
         "48",
         "0",
         "0",
         "138.0",
         "214.0",
         "0",
         "1",
         "108",
         "1",
         "1.5",
         "1",
         "1"
        ],
        [
         "4",
         "54",
         "1",
         "2",
         "150.0",
         "195.0",
         "0",
         "1",
         "122",
         "0",
         "0.0",
         "2",
         "0"
        ]
       ],
       "shape": {
        "columns": 12,
        "rows": 5
       }
      },
      "text/html": [
       "<div>\n",
       "<style scoped>\n",
       "    .dataframe tbody tr th:only-of-type {\n",
       "        vertical-align: middle;\n",
       "    }\n",
       "\n",
       "    .dataframe tbody tr th {\n",
       "        vertical-align: top;\n",
       "    }\n",
       "\n",
       "    .dataframe thead th {\n",
       "        text-align: right;\n",
       "    }\n",
       "</style>\n",
       "<table border=\"1\" class=\"dataframe\">\n",
       "  <thead>\n",
       "    <tr style=\"text-align: right;\">\n",
       "      <th></th>\n",
       "      <th>Age</th>\n",
       "      <th>Sex</th>\n",
       "      <th>ChestPainType</th>\n",
       "      <th>RestingBP</th>\n",
       "      <th>Cholesterol</th>\n",
       "      <th>FastingBS</th>\n",
       "      <th>RestingECG</th>\n",
       "      <th>MaxHR</th>\n",
       "      <th>ExerciseAngina</th>\n",
       "      <th>Oldpeak</th>\n",
       "      <th>ST_Slope</th>\n",
       "      <th>HeartDisease</th>\n",
       "    </tr>\n",
       "  </thead>\n",
       "  <tbody>\n",
       "    <tr>\n",
       "      <th>0</th>\n",
       "      <td>40</td>\n",
       "      <td>1</td>\n",
       "      <td>1</td>\n",
       "      <td>140.0</td>\n",
       "      <td>289.0</td>\n",
       "      <td>0</td>\n",
       "      <td>1</td>\n",
       "      <td>172</td>\n",
       "      <td>0</td>\n",
       "      <td>0.0</td>\n",
       "      <td>2</td>\n",
       "      <td>0</td>\n",
       "    </tr>\n",
       "    <tr>\n",
       "      <th>1</th>\n",
       "      <td>49</td>\n",
       "      <td>0</td>\n",
       "      <td>2</td>\n",
       "      <td>160.0</td>\n",
       "      <td>180.0</td>\n",
       "      <td>0</td>\n",
       "      <td>1</td>\n",
       "      <td>156</td>\n",
       "      <td>0</td>\n",
       "      <td>1.0</td>\n",
       "      <td>1</td>\n",
       "      <td>1</td>\n",
       "    </tr>\n",
       "    <tr>\n",
       "      <th>2</th>\n",
       "      <td>37</td>\n",
       "      <td>1</td>\n",
       "      <td>1</td>\n",
       "      <td>130.0</td>\n",
       "      <td>283.0</td>\n",
       "      <td>0</td>\n",
       "      <td>2</td>\n",
       "      <td>98</td>\n",
       "      <td>0</td>\n",
       "      <td>0.0</td>\n",
       "      <td>2</td>\n",
       "      <td>0</td>\n",
       "    </tr>\n",
       "    <tr>\n",
       "      <th>3</th>\n",
       "      <td>48</td>\n",
       "      <td>0</td>\n",
       "      <td>0</td>\n",
       "      <td>138.0</td>\n",
       "      <td>214.0</td>\n",
       "      <td>0</td>\n",
       "      <td>1</td>\n",
       "      <td>108</td>\n",
       "      <td>1</td>\n",
       "      <td>1.5</td>\n",
       "      <td>1</td>\n",
       "      <td>1</td>\n",
       "    </tr>\n",
       "    <tr>\n",
       "      <th>4</th>\n",
       "      <td>54</td>\n",
       "      <td>1</td>\n",
       "      <td>2</td>\n",
       "      <td>150.0</td>\n",
       "      <td>195.0</td>\n",
       "      <td>0</td>\n",
       "      <td>1</td>\n",
       "      <td>122</td>\n",
       "      <td>0</td>\n",
       "      <td>0.0</td>\n",
       "      <td>2</td>\n",
       "      <td>0</td>\n",
       "    </tr>\n",
       "  </tbody>\n",
       "</table>\n",
       "</div>"
      ],
      "text/plain": [
       "   Age  Sex  ChestPainType  RestingBP  Cholesterol  FastingBS  RestingECG  \\\n",
       "0   40    1              1      140.0        289.0          0           1   \n",
       "1   49    0              2      160.0        180.0          0           1   \n",
       "2   37    1              1      130.0        283.0          0           2   \n",
       "3   48    0              0      138.0        214.0          0           1   \n",
       "4   54    1              2      150.0        195.0          0           1   \n",
       "\n",
       "   MaxHR  ExerciseAngina  Oldpeak  ST_Slope  HeartDisease  \n",
       "0    172               0      0.0         2             0  \n",
       "1    156               0      1.0         1             1  \n",
       "2     98               0      0.0         2             0  \n",
       "3    108               1      1.5         1             1  \n",
       "4    122               0      0.0         2             0  "
      ]
     },
     "execution_count": 147,
     "metadata": {},
     "output_type": "execute_result"
    }
   ],
   "source": [
    "# Show Data After some of Encode\n",
    "df_cleaned.head()"
   ]
  },
  {
   "cell_type": "code",
   "execution_count": 148,
   "metadata": {},
   "outputs": [
    {
     "name": "stdout",
     "output_type": "stream",
     "text": [
      "<class 'pandas.core.frame.DataFrame'>\n",
      "RangeIndex: 1621 entries, 0 to 1620\n",
      "Data columns (total 12 columns):\n",
      " #   Column          Non-Null Count  Dtype  \n",
      "---  ------          --------------  -----  \n",
      " 0   Age             1621 non-null   int64  \n",
      " 1   Sex             1621 non-null   int64  \n",
      " 2   ChestPainType   1621 non-null   int64  \n",
      " 3   RestingBP       1621 non-null   float64\n",
      " 4   Cholesterol     1621 non-null   float64\n",
      " 5   FastingBS       1621 non-null   int64  \n",
      " 6   RestingECG      1621 non-null   int64  \n",
      " 7   MaxHR           1621 non-null   int64  \n",
      " 8   ExerciseAngina  1621 non-null   int64  \n",
      " 9   Oldpeak         1621 non-null   float64\n",
      " 10  ST_Slope        1621 non-null   int64  \n",
      " 11  HeartDisease    1621 non-null   int64  \n",
      "dtypes: float64(3), int64(9)\n",
      "memory usage: 152.1 KB\n"
     ]
    }
   ],
   "source": [
    "# Final Info after Encode\n",
    "df_cleaned.info()"
   ]
  },
  {
   "cell_type": "markdown",
   "metadata": {},
   "source": [
    "#### Assign feature and target variables"
   ]
  },
  {
   "cell_type": "code",
   "execution_count": 149,
   "metadata": {},
   "outputs": [],
   "source": [
    "X = df_cleaned.drop('HeartDisease' , axis = 1)\n",
    "y = df_cleaned['HeartDisease']"
   ]
  },
  {
   "cell_type": "markdown",
   "metadata": {},
   "source": [
    "#### Splitting Data "
   ]
  },
  {
   "cell_type": "code",
   "execution_count": 150,
   "metadata": {},
   "outputs": [],
   "source": [
    "X_train , X_test , y_train , y_test = train_test_split(X , y , test_size = 0.20 , random_state = 44 , shuffle = True)"
   ]
  },
  {
   "cell_type": "code",
   "execution_count": 151,
   "metadata": {},
   "outputs": [
    {
     "name": "stdout",
     "output_type": "stream",
     "text": [
      "Shape of X_Train (1296, 11)\n",
      "Shape of X_Test (325, 11)\n",
      "Shape of Y_Train (1296,)\n",
      "Shape of Y_Test (325,)\n"
     ]
    }
   ],
   "source": [
    "print(f'Shape of X_Train {X_train.shape}')\n",
    "print(f'Shape of X_Test {X_test.shape}')\n",
    "print(f'Shape of Y_Train {y_train.shape}')\n",
    "print(f'Shape of Y_Test {y_test.shape}')"
   ]
  },
  {
   "cell_type": "markdown",
   "metadata": {},
   "source": [
    "## Modeling"
   ]
  },
  {
   "cell_type": "markdown",
   "metadata": {},
   "source": [
    "#### Use Different Models Algorithm"
   ]
  },
  {
   "cell_type": "code",
   "execution_count": 152,
   "metadata": {},
   "outputs": [],
   "source": [
    "def Kfold(model,model_name):\n",
    "    model = cross_val_score(model , X , y , cv = 10)\n",
    "    model_score = np.average(model)\n",
    "    print(f\"{model_name} score on cross validation: {model_score * 100}%\")\n",
    "\n",
    "def train(model,model_name):\n",
    "    model.fit(X_train,y_train)\n",
    "    model_train_score = model.score(X_train,y_train)\n",
    "    model_test_score = model.score(X_test,y_test)\n",
    "    print(f\"{model_name} model score on Training data: {model_train_score * 100}%\\n{model_name} model score on Testing data: {model_test_score * 100}%\")\n",
    "\n",
    "def class_report(model):\n",
    "    y_pred = model.predict(X_test)\n",
    "    print(classification_report(y_test, y_pred))"
   ]
  },
  {
   "cell_type": "markdown",
   "metadata": {},
   "source": [
    "#### 1. Logistic Regression"
   ]
  },
  {
   "cell_type": "code",
   "execution_count": 153,
   "metadata": {},
   "outputs": [
    {
     "name": "stdout",
     "output_type": "stream",
     "text": [
      "Logistic Regression score on cross validation: 89.81935923653715%\n",
      "Logistic Regression model score on Training data: 91.12654320987654%\n",
      "Logistic Regression model score on Testing data: 88.0%\n"
     ]
    }
   ],
   "source": [
    "lr = LogisticRegression()\n",
    "Kfold(lr, \"Logistic Regression\")\n",
    "train(lr, \"Logistic Regression\")"
   ]
  },
  {
   "cell_type": "code",
   "execution_count": 154,
   "metadata": {},
   "outputs": [
    {
     "data": {
      "image/png": "[encoded data removed]",
      "text/plain": [
       "<Figure size 640x480 with 2 Axes>"
      ]
     },
     "metadata": {},
     "output_type": "display_data"
    }
   ],
   "source": [
    "ConfusionMatrixDisplay.from_estimator(lr,\n",
    "                                       X_test,\n",
    "                                       y_test,\n",
    "                                       xticks_rotation=45\n",
    "    );"
   ]
  },
  {
   "cell_type": "code",
   "execution_count": 155,
   "metadata": {},
   "outputs": [
    {
     "name": "stdout",
     "output_type": "stream",
     "text": [
      "              precision    recall  f1-score   support\n",
      "\n",
      "           0       0.77      0.65      0.70        71\n",
      "           1       0.91      0.94      0.92       254\n",
      "\n",
      "    accuracy                           0.88       325\n",
      "   macro avg       0.84      0.80      0.81       325\n",
      "weighted avg       0.88      0.88      0.88       325\n",
      "\n"
     ]
    }
   ],
   "source": [
    "class_report(lr)"
   ]
  },
  {
   "cell_type": "markdown",
   "metadata": {},
   "source": [
    "#### 2. Random Forest"
   ]
  },
  {
   "cell_type": "code",
   "execution_count": 156,
   "metadata": {},
   "outputs": [
    {
     "name": "stdout",
     "output_type": "stream",
     "text": [
      "Random Forest score on cross validation: 93.5211694311899%\n",
      "Random Forest model score on Training data: 100.0%\n",
      "Random Forest model score on Testing data: 92.3076923076923%\n"
     ]
    }
   ],
   "source": [
    "rf = RandomForestClassifier(n_estimators = 100 , max_depth = 50)\n",
    "Kfold(rf, \"Random Forest\")\n",
    "train(rf, \"Random Forest\")"
   ]
  },
  {
   "cell_type": "code",
   "execution_count": 157,
   "metadata": {},
   "outputs": [
    {
     "data": {
      "image/png": "[encoded data removed]",
      "text/plain": [
       "<Figure size 640x480 with 2 Axes>"
      ]
     },
     "metadata": {},
     "output_type": "display_data"
    }
   ],
   "source": [
    "ConfusionMatrixDisplay.from_estimator(rf,\n",
    "                                       X_test,\n",
    "                                       y_test,\n",
    "                                       xticks_rotation=45\n",
    "    );"
   ]
  },
  {
   "cell_type": "code",
   "execution_count": 158,
   "metadata": {},
   "outputs": [
    {
     "name": "stdout",
     "output_type": "stream",
     "text": [
      "              precision    recall  f1-score   support\n",
      "\n",
      "           0       0.91      0.72      0.80        71\n",
      "           1       0.93      0.98      0.95       254\n",
      "\n",
      "    accuracy                           0.92       325\n",
      "   macro avg       0.92      0.85      0.88       325\n",
      "weighted avg       0.92      0.92      0.92       325\n",
      "\n"
     ]
    }
   ],
   "source": [
    "class_report(rf)"
   ]
  },
  {
   "cell_type": "markdown",
   "metadata": {},
   "source": [
    "#### 3. KNN"
   ]
  },
  {
   "cell_type": "code",
   "execution_count": 159,
   "metadata": {},
   "outputs": [
    {
     "name": "stdout",
     "output_type": "stream",
     "text": [
      "KNN score on cross validation: 79.4558054987503%\n",
      "KNN model score on Training data: 84.72222222222221%\n",
      "KNN model score on Testing data: 80.3076923076923%\n"
     ]
    }
   ],
   "source": [
    "knn = KNeighborsClassifier()\n",
    "Kfold(knn, \"KNN\")\n",
    "train(knn, \"KNN\")"
   ]
  },
  {
   "cell_type": "code",
   "execution_count": 160,
   "metadata": {},
   "outputs": [
    {
     "data": {
      "image/png": "[encoded data removed]",
      "text/plain": [
       "<Figure size 640x480 with 2 Axes>"
      ]
     },
     "metadata": {},
     "output_type": "display_data"
    }
   ],
   "source": [
    "ConfusionMatrixDisplay.from_estimator(knn,\n",
    "                                       X_test,\n",
    "                                       y_test,\n",
    "                                       xticks_rotation=45\n",
    "    );"
   ]
  },
  {
   "cell_type": "code",
   "execution_count": 161,
   "metadata": {},
   "outputs": [
    {
     "name": "stdout",
     "output_type": "stream",
     "text": [
      "              precision    recall  f1-score   support\n",
      "\n",
      "           0       0.56      0.48      0.52        71\n",
      "           1       0.86      0.89      0.88       254\n",
      "\n",
      "    accuracy                           0.80       325\n",
      "   macro avg       0.71      0.69      0.70       325\n",
      "weighted avg       0.79      0.80      0.80       325\n",
      "\n"
     ]
    }
   ],
   "source": [
    "class_report(knn)"
   ]
  },
  {
   "cell_type": "markdown",
   "metadata": {},
   "source": [
    "#### 4. Decision Tree"
   ]
  },
  {
   "cell_type": "code",
   "execution_count": 162,
   "metadata": {},
   "outputs": [
    {
     "name": "stdout",
     "output_type": "stream",
     "text": [
      "Decision Tree score on cross validation: 90.56047867908809%\n",
      "Decision Tree model score on Training data: 100.0%\n",
      "Decision Tree model score on Testing data: 91.07692307692308%\n"
     ]
    }
   ],
   "source": [
    "dt_model = DecisionTreeClassifier()\n",
    "Kfold(dt_model, \"Decision Tree\")\n",
    "train(dt_model, \"Decision Tree\")"
   ]
  },
  {
   "cell_type": "code",
   "execution_count": 163,
   "metadata": {},
   "outputs": [
    {
     "data": {
      "image/png": "[encoded data removed]",
      "text/plain": [
       "<Figure size 640x480 with 2 Axes>"
      ]
     },
     "metadata": {},
     "output_type": "display_data"
    }
   ],
   "source": [
    "ConfusionMatrixDisplay.from_estimator(dt_model,\n",
    "                                       X_test,\n",
    "                                       y_test,\n",
    "                                       xticks_rotation=45\n",
    "    );"
   ]
  },
  {
   "cell_type": "code",
   "execution_count": 164,
   "metadata": {},
   "outputs": [
    {
     "name": "stdout",
     "output_type": "stream",
     "text": [
      "              precision    recall  f1-score   support\n",
      "\n",
      "           0       0.82      0.76      0.79        71\n",
      "           1       0.93      0.95      0.94       254\n",
      "\n",
      "    accuracy                           0.91       325\n",
      "   macro avg       0.88      0.86      0.87       325\n",
      "weighted avg       0.91      0.91      0.91       325\n",
      "\n"
     ]
    }
   ],
   "source": [
    "class_report(dt_model)"
   ]
  },
  {
   "cell_type": "markdown",
   "metadata": {},
   "source": [
    "#### Xgboost"
   ]
  },
  {
   "cell_type": "code",
   "execution_count": 165,
   "metadata": {},
   "outputs": [
    {
     "name": "stdout",
     "output_type": "stream",
     "text": [
      "Xgboost score on cross validation: 92.7190789971976%\n",
      "Xgboost model score on Training data: 94.98456790123457%\n",
      "Xgboost model score on Testing data: 91.38461538461539%\n"
     ]
    }
   ],
   "source": [
    "xgboost = model = XGBClassifier(objective = \"binary:logistic\" , subsample = 0.7 , min_child_weight = 3,\n",
    "                                max_depth = 3 , learning_rate = 0.1 , gamma = 0 , colsample_bytree = 0.5,)\n",
    "Kfold(xgboost, \"Xgboost\")\n",
    "train(xgboost, \"Xgboost\")"
   ]
  },
  {
   "cell_type": "code",
   "execution_count": 166,
   "metadata": {},
   "outputs": [
    {
     "data": {
      "image/png": "[encoded data removed]",
      "text/plain": [
       "<Figure size 640x480 with 2 Axes>"
      ]
     },
     "metadata": {},
     "output_type": "display_data"
    }
   ],
   "source": [
    "ConfusionMatrixDisplay.from_estimator(xgboost,\n",
    "                                       X_test,\n",
    "                                       y_test,\n",
    "                                       xticks_rotation=45\n",
    "    );"
   ]
  },
  {
   "cell_type": "code",
   "execution_count": 167,
   "metadata": {},
   "outputs": [
    {
     "name": "stdout",
     "output_type": "stream",
     "text": [
      "              precision    recall  f1-score   support\n",
      "\n",
      "           0       0.89      0.69      0.78        71\n",
      "           1       0.92      0.98      0.95       254\n",
      "\n",
      "    accuracy                           0.91       325\n",
      "   macro avg       0.90      0.83      0.86       325\n",
      "weighted avg       0.91      0.91      0.91       325\n",
      "\n"
     ]
    }
   ],
   "source": [
    "class_report(xgboost)"
   ]
  },
  {
   "cell_type": "markdown",
   "metadata": {},
   "source": [
    "- Best Model is RandomForestClassifier with recall 90.0%"
   ]
  },
  {
   "cell_type": "markdown",
   "metadata": {},
   "source": [
    "## Save Xgboost Model "
   ]
  },
  {
   "cell_type": "code",
   "execution_count": 168,
   "metadata": {},
   "outputs": [
    {
     "data": {
      "text/plain": [
       "['xgboost_model.sav']"
      ]
     },
     "execution_count": 168,
     "metadata": {},
     "output_type": "execute_result"
    }
   ],
   "source": [
    "joblib.dump(xgboost,'xgboost_model.sav')"
   ]
  },
  {
   "cell_type": "code",
   "execution_count": 169,
   "metadata": {},
   "outputs": [
    {
     "data": {
      "text/plain": [
       "['rf.sav']"
      ]
     },
     "execution_count": 169,
     "metadata": {},
     "output_type": "execute_result"
    }
   ],
   "source": [
    "joblib.dump(rf,'rf.sav')"
   ]
  }
 ],
 "metadata": {
  "kernelspec": {
   "display_name": "clgenv",
   "language": "python",
   "name": "python3"
  },
  "language_info": {
   "codemirror_mode": {
    "name": "ipython",
    "version": 3
   },
   "file_extension": ".py",
   "mimetype": "text/x-python",
   "name": "python",
   "nbconvert_exporter": "python",
   "pygments_lexer": "ipython3",
   "version": "3.13.3"
  }
 },
 "nbformat": 4,
 "nbformat_minor": 2
}
